{
 "cells": [
  {
   "cell_type": "code",
   "execution_count": 5,
   "metadata": {},
   "outputs": [],
   "source": [
    "import pandas as pd\n",
    "import numpy as np\n",
    "import scipy.stats as stat\n",
    "%matplotlib inline\n",
    "import matplotlib.pyplot as plt\n",
    "import seaborn as sns\n",
    "import pickle\n",
    "import math"
   ]
  },
  {
   "cell_type": "code",
   "execution_count": 6,
   "metadata": {},
   "outputs": [],
   "source": [
    "import textdistance\n",
    "import string\n",
    "from sklearn.cluster import DBSCAN"
   ]
  },
  {
   "cell_type": "code",
   "execution_count": 7,
   "metadata": {},
   "outputs": [
    {
     "name": "stdout",
     "output_type": "stream",
     "text": [
      "Read 50462 records.\n"
     ]
    }
   ],
   "source": [
    "df_canvass = pd.read_csv(\"data/canvass_records.csv.gz\")\n",
    "print(\"Read {} records.\".format(len(df_canvass)))"
   ]
  },
  {
   "cell_type": "code",
   "execution_count": 8,
   "metadata": {},
   "outputs": [
    {
     "name": "stdout",
     "output_type": "stream",
     "text": [
      "Read 17088 records.\n"
     ]
    }
   ],
   "source": [
    "df_complaint = pd.read_csv(\"data/complaint_records.csv.gz\")\n",
    "print(\"Read {} records.\".format(len(df_complaint)))"
   ]
  },
  {
   "cell_type": "code",
   "execution_count": 9,
   "metadata": {},
   "outputs": [
    {
     "data": {
      "text/html": [
       "<div>\n",
       "<style scoped>\n",
       "    .dataframe tbody tr th:only-of-type {\n",
       "        vertical-align: middle;\n",
       "    }\n",
       "\n",
       "    .dataframe tbody tr th {\n",
       "        vertical-align: top;\n",
       "    }\n",
       "\n",
       "    .dataframe thead th {\n",
       "        text-align: right;\n",
       "    }\n",
       "</style>\n",
       "<table border=\"1\" class=\"dataframe\">\n",
       "  <thead>\n",
       "    <tr style=\"text-align: right;\">\n",
       "      <th></th>\n",
       "      <th>inspection_id</th>\n",
       "      <th>address</th>\n",
       "      <th>aka_name</th>\n",
       "      <th>city</th>\n",
       "      <th>dba_name</th>\n",
       "      <th>facility_type</th>\n",
       "      <th>inspection_date</th>\n",
       "      <th>inspection_type</th>\n",
       "      <th>latitude</th>\n",
       "      <th>license_id</th>\n",
       "      <th>...</th>\n",
       "      <th>V5</th>\n",
       "      <th>V6</th>\n",
       "      <th>V7</th>\n",
       "      <th>V8</th>\n",
       "      <th>V9</th>\n",
       "      <th>V10</th>\n",
       "      <th>V11</th>\n",
       "      <th>V12</th>\n",
       "      <th>V13</th>\n",
       "      <th>V14</th>\n",
       "    </tr>\n",
       "  </thead>\n",
       "  <tbody>\n",
       "    <tr>\n",
       "      <th>0</th>\n",
       "      <td>1981667</td>\n",
       "      <td>1725 W 47TH ST</td>\n",
       "      <td>BELLAS FUENTEZ</td>\n",
       "      <td>CHICAGO</td>\n",
       "      <td>BELLAS FUENTEZ</td>\n",
       "      <td>Restaurant</td>\n",
       "      <td>2017-01-19T00:00:00.000</td>\n",
       "      <td>Canvass</td>\n",
       "      <td>41.808460</td>\n",
       "      <td>1356217</td>\n",
       "      <td>...</td>\n",
       "      <td>0</td>\n",
       "      <td>0</td>\n",
       "      <td>0</td>\n",
       "      <td>0</td>\n",
       "      <td>0</td>\n",
       "      <td>0</td>\n",
       "      <td>0</td>\n",
       "      <td>0</td>\n",
       "      <td>0</td>\n",
       "      <td>0</td>\n",
       "    </tr>\n",
       "    <tr>\n",
       "      <th>1</th>\n",
       "      <td>1453500</td>\n",
       "      <td>65 W JACKSON BLVD</td>\n",
       "      <td>CARVERY</td>\n",
       "      <td>CHICAGO</td>\n",
       "      <td>CARVERY</td>\n",
       "      <td>Restaurant</td>\n",
       "      <td>2014-08-26T00:00:00.000</td>\n",
       "      <td>Canvass</td>\n",
       "      <td>41.878046</td>\n",
       "      <td>43330</td>\n",
       "      <td>...</td>\n",
       "      <td>0</td>\n",
       "      <td>0</td>\n",
       "      <td>0</td>\n",
       "      <td>0</td>\n",
       "      <td>0</td>\n",
       "      <td>0</td>\n",
       "      <td>0</td>\n",
       "      <td>0</td>\n",
       "      <td>0</td>\n",
       "      <td>0</td>\n",
       "    </tr>\n",
       "    <tr>\n",
       "      <th>2</th>\n",
       "      <td>1102252</td>\n",
       "      <td>11601 W TOUHY AVE</td>\n",
       "      <td>THE GREAT AMERICAN BAGEL/T3 K2</td>\n",
       "      <td>CHICAGO</td>\n",
       "      <td>THE GREAT AMERICAN BAGEL</td>\n",
       "      <td>Restaurant</td>\n",
       "      <td>2012-05-07T00:00:00.000</td>\n",
       "      <td>Canvass</td>\n",
       "      <td>42.008536</td>\n",
       "      <td>1879167</td>\n",
       "      <td>...</td>\n",
       "      <td>0</td>\n",
       "      <td>0</td>\n",
       "      <td>0</td>\n",
       "      <td>0</td>\n",
       "      <td>0</td>\n",
       "      <td>0</td>\n",
       "      <td>0</td>\n",
       "      <td>0</td>\n",
       "      <td>0</td>\n",
       "      <td>0</td>\n",
       "    </tr>\n",
       "    <tr>\n",
       "      <th>3</th>\n",
       "      <td>68091</td>\n",
       "      <td>2804 N CLARK ST</td>\n",
       "      <td>Wells Street Popcorn</td>\n",
       "      <td>CHICAGO</td>\n",
       "      <td>Wells Street Popcorn</td>\n",
       "      <td>Restaurant</td>\n",
       "      <td>2010-02-01T00:00:00.000</td>\n",
       "      <td>Canvass</td>\n",
       "      <td>41.932921</td>\n",
       "      <td>1954774</td>\n",
       "      <td>...</td>\n",
       "      <td>0</td>\n",
       "      <td>0</td>\n",
       "      <td>0</td>\n",
       "      <td>0</td>\n",
       "      <td>0</td>\n",
       "      <td>0</td>\n",
       "      <td>0</td>\n",
       "      <td>0</td>\n",
       "      <td>0</td>\n",
       "      <td>0</td>\n",
       "    </tr>\n",
       "    <tr>\n",
       "      <th>4</th>\n",
       "      <td>1482983</td>\n",
       "      <td>1847 W ROSCOE ST</td>\n",
       "      <td>FOUR MOON TAVERN</td>\n",
       "      <td>CHICAGO</td>\n",
       "      <td>FOUR MOON TAVERN</td>\n",
       "      <td>Restaurant</td>\n",
       "      <td>2015-09-14T00:00:00.000</td>\n",
       "      <td>Canvass</td>\n",
       "      <td>41.943141</td>\n",
       "      <td>51644</td>\n",
       "      <td>...</td>\n",
       "      <td>0</td>\n",
       "      <td>0</td>\n",
       "      <td>0</td>\n",
       "      <td>0</td>\n",
       "      <td>0</td>\n",
       "      <td>0</td>\n",
       "      <td>0</td>\n",
       "      <td>0</td>\n",
       "      <td>0</td>\n",
       "      <td>0</td>\n",
       "    </tr>\n",
       "  </tbody>\n",
       "</table>\n",
       "<p>5 rows × 34 columns</p>\n",
       "</div>"
      ],
      "text/plain": [
       "   inspection_id             address                        aka_name     city  \\\n",
       "0        1981667     1725 W 47TH ST                   BELLAS FUENTEZ  CHICAGO   \n",
       "1        1453500  65 W JACKSON BLVD                          CARVERY  CHICAGO   \n",
       "2        1102252  11601 W TOUHY AVE   THE GREAT AMERICAN BAGEL/T3 K2  CHICAGO   \n",
       "3          68091    2804 N CLARK ST             Wells Street Popcorn  CHICAGO   \n",
       "4        1482983   1847 W ROSCOE ST                 FOUR MOON TAVERN  CHICAGO   \n",
       "\n",
       "                   dba_name facility_type          inspection_date  \\\n",
       "0            BELLAS FUENTEZ    Restaurant  2017-01-19T00:00:00.000   \n",
       "1                   CARVERY    Restaurant  2014-08-26T00:00:00.000   \n",
       "2  THE GREAT AMERICAN BAGEL    Restaurant  2012-05-07T00:00:00.000   \n",
       "3      Wells Street Popcorn    Restaurant  2010-02-01T00:00:00.000   \n",
       "4          FOUR MOON TAVERN    Restaurant  2015-09-14T00:00:00.000   \n",
       "\n",
       "  inspection_type   latitude  license_id  ...  V5 V6 V7 V8 V9  V10  V11  V12  \\\n",
       "0         Canvass  41.808460     1356217  ...   0  0  0  0  0    0    0    0   \n",
       "1         Canvass  41.878046       43330  ...   0  0  0  0  0    0    0    0   \n",
       "2         Canvass  42.008536     1879167  ...   0  0  0  0  0    0    0    0   \n",
       "3         Canvass  41.932921     1954774  ...   0  0  0  0  0    0    0    0   \n",
       "4         Canvass  41.943141       51644  ...   0  0  0  0  0    0    0    0   \n",
       "\n",
       "   V13 V14  \n",
       "0    0   0  \n",
       "1    0   0  \n",
       "2    0   0  \n",
       "3    0   0  \n",
       "4    0   0  \n",
       "\n",
       "[5 rows x 34 columns]"
      ]
     },
     "execution_count": 9,
     "metadata": {},
     "output_type": "execute_result"
    }
   ],
   "source": [
    "df_all = pd.concat([df_canvass, df_complaint])\n",
    "df_all.head()"
   ]
  },
  {
   "cell_type": "code",
   "execution_count": 10,
   "metadata": {},
   "outputs": [],
   "source": [
    "df_all[\"aka_name\"] = df_all[\"aka_name\"].fillna(\"NULL_NAME\")"
   ]
  },
  {
   "cell_type": "code",
   "execution_count": 11,
   "metadata": {},
   "outputs": [],
   "source": [
    "key_col = \"license_id\"\n",
    "name_col = \"aka_name\"\n",
    "lid_aka = df_all.groupby(key_col)[name_col].unique()\n",
    "lid_aka.head()\n",
    "name_df = pd.DataFrame({key_col: lid_aka.index, name_col: lid_aka.values})\n",
    "name_df[\"N\"] = name_df[name_col].apply(lambda a: len(a))"
   ]
  },
  {
   "cell_type": "code",
   "execution_count": 12,
   "metadata": {},
   "outputs": [
    {
     "data": {
      "text/html": [
       "<div>\n",
       "<style scoped>\n",
       "    .dataframe tbody tr th:only-of-type {\n",
       "        vertical-align: middle;\n",
       "    }\n",
       "\n",
       "    .dataframe tbody tr th {\n",
       "        vertical-align: top;\n",
       "    }\n",
       "\n",
       "    .dataframe thead th {\n",
       "        text-align: right;\n",
       "    }\n",
       "</style>\n",
       "<table border=\"1\" class=\"dataframe\">\n",
       "  <thead>\n",
       "    <tr style=\"text-align: right;\">\n",
       "      <th></th>\n",
       "      <th>license_id</th>\n",
       "      <th>aka_name</th>\n",
       "      <th>N</th>\n",
       "    </tr>\n",
       "  </thead>\n",
       "  <tbody>\n",
       "    <tr>\n",
       "      <th>9077</th>\n",
       "      <td>2220904</td>\n",
       "      <td>[STREETERVILLE PIZZERIA &amp; TAP, FLOUR &amp; STONE, ...</td>\n",
       "      <td>3</td>\n",
       "    </tr>\n",
       "    <tr>\n",
       "      <th>5324</th>\n",
       "      <td>1893935</td>\n",
       "      <td>[AQUA  BAR &amp; GRILL, TWISTED TAPAS, NULL_NAME]</td>\n",
       "      <td>3</td>\n",
       "    </tr>\n",
       "    <tr>\n",
       "      <th>6851</th>\n",
       "      <td>2027309</td>\n",
       "      <td>[CENTRO, BAR UMBRIAGO, ROSEBUD EATT]</td>\n",
       "      <td>3</td>\n",
       "    </tr>\n",
       "    <tr>\n",
       "      <th>96</th>\n",
       "      <td>1806</td>\n",
       "      <td>[AMBASSADOR PUBLIC HOUSE, BOUZOUKI LOUNGE, AVIVA]</td>\n",
       "      <td>3</td>\n",
       "    </tr>\n",
       "    <tr>\n",
       "      <th>5714</th>\n",
       "      <td>1933945</td>\n",
       "      <td>[NEW REBOZO CHICAGO, CANTINA #46, CANTINA 46]</td>\n",
       "      <td>3</td>\n",
       "    </tr>\n",
       "    <tr>\n",
       "      <th>8003</th>\n",
       "      <td>2120365</td>\n",
       "      <td>[UR INN, Tortuga's Cantina]</td>\n",
       "      <td>2</td>\n",
       "    </tr>\n",
       "    <tr>\n",
       "      <th>6774</th>\n",
       "      <td>2021306</td>\n",
       "      <td>[Chizakaya, ENTENTE]</td>\n",
       "      <td>2</td>\n",
       "    </tr>\n",
       "    <tr>\n",
       "      <th>10315</th>\n",
       "      <td>2340467</td>\n",
       "      <td>[MANZO'S BURGER, FIVE STAR BURGER]</td>\n",
       "      <td>2</td>\n",
       "    </tr>\n",
       "    <tr>\n",
       "      <th>4517</th>\n",
       "      <td>1767227</td>\n",
       "      <td>[I-CAFE, I - CAFE PIDE VE LAHMACUN]</td>\n",
       "      <td>2</td>\n",
       "    </tr>\n",
       "    <tr>\n",
       "      <th>11031</th>\n",
       "      <td>2391299</td>\n",
       "      <td>[ANALOGUE, DAISIES]</td>\n",
       "      <td>2</td>\n",
       "    </tr>\n",
       "  </tbody>\n",
       "</table>\n",
       "</div>"
      ],
      "text/plain": [
       "       license_id                                           aka_name  N\n",
       "9077      2220904  [STREETERVILLE PIZZERIA & TAP, FLOUR & STONE, ...  3\n",
       "5324      1893935      [AQUA  BAR & GRILL, TWISTED TAPAS, NULL_NAME]  3\n",
       "6851      2027309               [CENTRO, BAR UMBRIAGO, ROSEBUD EATT]  3\n",
       "96           1806  [AMBASSADOR PUBLIC HOUSE, BOUZOUKI LOUNGE, AVIVA]  3\n",
       "5714      1933945      [NEW REBOZO CHICAGO, CANTINA #46, CANTINA 46]  3\n",
       "8003      2120365                        [UR INN, Tortuga's Cantina]  2\n",
       "6774      2021306                               [Chizakaya, ENTENTE]  2\n",
       "10315     2340467                 [MANZO'S BURGER, FIVE STAR BURGER]  2\n",
       "4517      1767227                [I-CAFE, I - CAFE PIDE VE LAHMACUN]  2\n",
       "11031     2391299                                [ANALOGUE, DAISIES]  2"
      ]
     },
     "execution_count": 12,
     "metadata": {},
     "output_type": "execute_result"
    }
   ],
   "source": [
    "name_df.sort_values(by=\"N\", ascending=False)[20:30]"
   ]
  },
  {
   "cell_type": "code",
   "execution_count": 13,
   "metadata": {},
   "outputs": [
    {
     "data": {
      "text/html": [
       "<div>\n",
       "<style scoped>\n",
       "    .dataframe tbody tr th:only-of-type {\n",
       "        vertical-align: middle;\n",
       "    }\n",
       "\n",
       "    .dataframe tbody tr th {\n",
       "        vertical-align: top;\n",
       "    }\n",
       "\n",
       "    .dataframe thead th {\n",
       "        text-align: right;\n",
       "    }\n",
       "</style>\n",
       "<table border=\"1\" class=\"dataframe\">\n",
       "  <thead>\n",
       "    <tr style=\"text-align: right;\">\n",
       "      <th></th>\n",
       "      <th>aka_name</th>\n",
       "      <th>count</th>\n",
       "    </tr>\n",
       "  </thead>\n",
       "  <tbody>\n",
       "    <tr>\n",
       "      <th>20</th>\n",
       "      <td>[CHURCH'S CHICKEN # 982]</td>\n",
       "      <td>22</td>\n",
       "    </tr>\n",
       "    <tr>\n",
       "      <th>21</th>\n",
       "      <td>[MAGGIE GYROS &amp; CHICKEN]</td>\n",
       "      <td>22</td>\n",
       "    </tr>\n",
       "    <tr>\n",
       "      <th>22</th>\n",
       "      <td>[MCDONALD'S]</td>\n",
       "      <td>22</td>\n",
       "    </tr>\n",
       "    <tr>\n",
       "      <th>23</th>\n",
       "      <td>[DUKS RED HOTS]</td>\n",
       "      <td>22</td>\n",
       "    </tr>\n",
       "    <tr>\n",
       "      <th>24</th>\n",
       "      <td>[HONG KONG BUFFET]</td>\n",
       "      <td>21</td>\n",
       "    </tr>\n",
       "    <tr>\n",
       "      <th>25</th>\n",
       "      <td>[MC DONALDS]</td>\n",
       "      <td>21</td>\n",
       "    </tr>\n",
       "    <tr>\n",
       "      <th>26</th>\n",
       "      <td>[SEE THRU CHINESE RESTAURANT]</td>\n",
       "      <td>21</td>\n",
       "    </tr>\n",
       "    <tr>\n",
       "      <th>27</th>\n",
       "      <td>[NICKY'S CHINESE FOOD]</td>\n",
       "      <td>21</td>\n",
       "    </tr>\n",
       "    <tr>\n",
       "      <th>28</th>\n",
       "      <td>[MC DONALDS]</td>\n",
       "      <td>21</td>\n",
       "    </tr>\n",
       "    <tr>\n",
       "      <th>29</th>\n",
       "      <td>[CHIPOTLE MEXICAN GRILL]</td>\n",
       "      <td>21</td>\n",
       "    </tr>\n",
       "  </tbody>\n",
       "</table>\n",
       "</div>"
      ],
      "text/plain": [
       "                         aka_name  count\n",
       "20       [CHURCH'S CHICKEN # 982]     22\n",
       "21       [MAGGIE GYROS & CHICKEN]     22\n",
       "22                   [MCDONALD'S]     22\n",
       "23                [DUKS RED HOTS]     22\n",
       "24             [HONG KONG BUFFET]     21\n",
       "25                   [MC DONALDS]     21\n",
       "26  [SEE THRU CHINESE RESTAURANT]     21\n",
       "27         [NICKY'S CHINESE FOOD]     21\n",
       "28                   [MC DONALDS]     21\n",
       "29       [CHIPOTLE MEXICAN GRILL]     21"
      ]
     },
     "execution_count": 13,
     "metadata": {},
     "output_type": "execute_result"
    }
   ],
   "source": [
    "zoot_all = df_all.groupby(key_col)[\"inspection_id\"].count().sort_values(ascending=False)\n",
    "dict_all = {name_col: [lid_aka[z] for z in zoot_all.index], \"count\": zoot_all.values}\n",
    "zdf_all = pd.DataFrame(dict_all)\n",
    "zdf_all[20:30]"
   ]
  },
  {
   "cell_type": "code",
   "execution_count": null,
   "metadata": {},
   "outputs": [],
   "source": []
  },
  {
   "cell_type": "code",
   "execution_count": 14,
   "metadata": {},
   "outputs": [
    {
     "data": {
      "text/plain": [
       "0.89"
      ]
     },
     "execution_count": 14,
     "metadata": {},
     "output_type": "execute_result"
    }
   ],
   "source": [
    "textdistance.jaro_winkler.similarity(\"McDONALDS\".casefold(), \"MCDONALDS RESTAURANT\".casefold())"
   ]
  },
  {
   "cell_type": "code",
   "execution_count": 17,
   "metadata": {},
   "outputs": [],
   "source": [
    "name_count = df_all.groupby(\"aka_name\")[\"inspection_id\"].count()\n",
    "names = list(name_count.sort_values(ascending=False).head(500).index)\n",
    "# names = list(name_count.index)"
   ]
  },
  {
   "cell_type": "code",
   "execution_count": 18,
   "metadata": {},
   "outputs": [],
   "source": [
    "BANNED = list(string.punctuation) + [\n",
    "    \"restaurant\",\n",
    "    \"house\",\n",
    "    \"kitchen\",\n",
    "    \"original\",\n",
    "    \"the\",\n",
    "    \"new\"\n",
    "] + [\" \"]\n",
    "BANNED = [ban.casefold() for ban in BANNED]\n",
    "CUT_CHARS = [\"#\", \"(\"]\n",
    "\n",
    "def clean_name(name):\n",
    "    cleaned = name.casefold()\n",
    "    for cut in CUT_CHARS:\n",
    "        idx = cleaned.find(cut)\n",
    "        if idx > 0:\n",
    "            cleaned = cleaned[:idx]\n",
    "    for ban in BANNED:\n",
    "        cleaned = cleaned.replace(ban, \"\")\n",
    "    return cleaned\n",
    "\n",
    "\n",
    "def name_distance(a, b):\n",
    "    sim = textdistance.jaro_winkler.similarity(a, b)\n",
    "    dist = 1 - sim\n",
    "    return dist\n",
    "\n",
    "\n",
    "RAW_NAMES = np.unique(df_all[\"aka_name\"].values)\n",
    "NAMES = [clean_name(name) for name in RAW_NAMES]\n",
    "len(NAMES)"
   ]
  },
  {
   "cell_type": "code",
   "execution_count": 19,
   "metadata": {},
   "outputs": [],
   "source": []
  },
  {
   "cell_type": "code",
   "execution_count": 20,
   "metadata": {},
   "outputs": [
    {
     "name": "stdout",
     "output_type": "stream",
     "text": [
      "['SUBWAY', 'DUNKIN DONUTS', \"MCDONALD'S\", 'NULL_NAME', 'CHIPOTLE MEXICAN GRILL', 'MCDONALDS']\n",
      "['subway', 'dunkindonuts', 'mcdonalds', 'nullname', 'chipotlemexicangrill', 'mcdonalds']\n"
     ]
    }
   ],
   "source": [
    "n_clean = 6\n",
    "print(names[0:n_clean])\n",
    "print([clean_name(n) for n in names[0:n_clean]])"
   ]
  },
  {
   "cell_type": "code",
   "execution_count": 26,
   "metadata": {},
   "outputs": [
    {
     "data": {
      "text/plain": [
       "10450"
      ]
     },
     "execution_count": 26,
     "metadata": {},
     "output_type": "execute_result"
    }
   ],
   "source": [
    "RAW_NAMES = np.unique(df_all[\"aka_name\"].values)\n",
    "NAMES = [clean_name(name) for name in RAW_NAMES]\n",
    "len(NAMES)"
   ]
  },
  {
   "cell_type": "code",
   "execution_count": null,
   "metadata": {},
   "outputs": [],
   "source": []
  },
  {
   "cell_type": "code",
   "execution_count": null,
   "metadata": {},
   "outputs": [],
   "source": []
  },
  {
   "cell_type": "code",
   "execution_count": null,
   "metadata": {},
   "outputs": [],
   "source": []
  },
  {
   "cell_type": "code",
   "execution_count": 19,
   "metadata": {},
   "outputs": [],
   "source": []
  },
  {
   "cell_type": "code",
   "execution_count": 22,
   "metadata": {},
   "outputs": [],
   "source": [
    "def read_distance_matrix(filename):\n",
    "    chunks = []\n",
    "    metafile = \"models/distance/{}_meta.pkl\".format(filename)\n",
    "    print(\"Read metadata from {}\".format(metafile))\n",
    "    M, N, size = pickle.load(open(metafile, \"rb\"))\n",
    "    for idx, i in enumerate(range(0, N, size)):\n",
    "        outfile = \"models/distance/{0}_{1:02}.pkl\".format(filename, idx)\n",
    "        sub_mat = pickle.load(open(outfile, \"rb\"))\n",
    "        chunks.append(sub_mat)\n",
    "        print(\"Read {} rows from {}\".format(len(sub_mat), outfile))\n",
    "    res = np.concatenate(chunks)\n",
    "    for i in range(M):\n",
    "        for j in range(N):\n",
    "            if j > i:\n",
    "                res[j][i] = res[i][j]\n",
    "            if j == i:\n",
    "                res[i][j] = 1.0\n",
    "    return res"
   ]
  },
  {
   "cell_type": "code",
   "execution_count": 23,
   "metadata": {},
   "outputs": [
    {
     "name": "stdout",
     "output_type": "stream",
     "text": [
      "Read metadata from models/distance/aka_name_jw_mat_meta.pkl\n",
      "Read 1000 rows from models/distance/aka_name_jw_mat_00.pkl\n",
      "Read 1000 rows from models/distance/aka_name_jw_mat_01.pkl\n",
      "Read 1000 rows from models/distance/aka_name_jw_mat_02.pkl\n",
      "Read 1000 rows from models/distance/aka_name_jw_mat_03.pkl\n",
      "Read 1000 rows from models/distance/aka_name_jw_mat_04.pkl\n",
      "Read 1000 rows from models/distance/aka_name_jw_mat_05.pkl\n",
      "Read 1000 rows from models/distance/aka_name_jw_mat_06.pkl\n",
      "Read 1000 rows from models/distance/aka_name_jw_mat_07.pkl\n",
      "Read 1000 rows from models/distance/aka_name_jw_mat_08.pkl\n",
      "Read 1000 rows from models/distance/aka_name_jw_mat_09.pkl\n",
      "Read 450 rows from models/distance/aka_name_jw_mat_10.pkl\n"
     ]
    }
   ],
   "source": [
    "dist_mat = read_distance_matrix(\"aka_name_jw_mat\")"
   ]
  },
  {
   "cell_type": "code",
   "execution_count": 24,
   "metadata": {},
   "outputs": [
    {
     "data": {
      "text/plain": [
       "(numpy.ndarray, (10450, 10450))"
      ]
     },
     "execution_count": 24,
     "metadata": {},
     "output_type": "execute_result"
    }
   ],
   "source": [
    "type(dist_mat), dist_mat.shape"
   ]
  },
  {
   "cell_type": "code",
   "execution_count": 27,
   "metadata": {},
   "outputs": [],
   "source": [
    "pairs = []\n",
    "for i in range(len(dist_mat)):\n",
    "    for j in range(len(dist_mat)):\n",
    "        if j > i:\n",
    "            pairs.append((i, j, RAW_NAMES[i], RAW_NAMES[j], NAMES[i], NAMES[j], dist_mat[i][j]))"
   ]
  },
  {
   "cell_type": "code",
   "execution_count": 29,
   "metadata": {
    "scrolled": false
   },
   "outputs": [],
   "source": [
    "# pd.DataFrame(dist_mat, columns=RAW_NAMES, index=RAW_NAMES).head()"
   ]
  },
  {
   "cell_type": "code",
   "execution_count": 35,
   "metadata": {},
   "outputs": [
    {
     "data": {
      "image/png": "[encoded data removed]",
      "text/plain": [
       "<matplotlib.figure.Figure at 0x110ce50f0>"
      ]
     },
     "metadata": {
      "needs_background": "light"
     },
     "output_type": "display_data"
    }
   ],
   "source": [
    "sns.distplot([p[6] for p in pairs], kde=False, bins=np.arange(0, 1.05, 0.05))\n",
    "plt.xticks(np.arange(0, 1.05, 0.05))\n",
    "plt.xlabel(\"Jaro-Winkler Distance\")\n",
    "plt.ylabel(\"Frequency\")\n",
    "plt.grid()\n",
    "plt.gcf().set_size_inches(12, 6)\n",
    "plt.show()"
   ]
  },
  {
   "cell_type": "code",
   "execution_count": null,
   "metadata": {
    "scrolled": false
   },
   "outputs": [],
   "source": [
    "pair_df = pd.DataFrame(pairs, columns=[\"i\", \"j\", \"a\", \"b\", \"a_clean\", \"b_clean\", \"dist\"])\n",
    "pair_df.sort_values(by=\"dist\", ascending=False).query(\"dist >= 0.15 and dist <= 0.18\")"
   ]
  },
  {
   "cell_type": "code",
   "execution_count": null,
   "metadata": {},
   "outputs": [],
   "source": []
  },
  {
   "cell_type": "code",
   "execution_count": 31,
   "metadata": {},
   "outputs": [
    {
     "data": {
      "text/plain": [
       "911"
      ]
     },
     "execution_count": 31,
     "metadata": {},
     "output_type": "execute_result"
    }
   ],
   "source": [
    "dbscan = DBSCAN(eps=0.15, metric=\"precomputed\", min_samples=1)\n",
    "clusters = dbscan.fit_predict(dist_mat)\n",
    "len(np.unique(clusters))"
   ]
  },
  {
   "cell_type": "code",
   "execution_count": 32,
   "metadata": {},
   "outputs": [],
   "source": [
    "cluster_dict = {}\n",
    "for name, cluster in zip(RAW_NAMES, clusters):\n",
    "    if cluster not in cluster_dict:\n",
    "        cluster_dict[cluster] = []\n",
    "    cluster_dict[cluster].append(name)"
   ]
  },
  {
   "cell_type": "code",
   "execution_count": 33,
   "metadata": {},
   "outputs": [
    {
     "name": "stdout",
     "output_type": "stream",
     "text": [
      "Saved!\n"
     ]
    }
   ],
   "source": [
    "pickle.dump((RAW_NAMES, clusters), open(\"models/aka_name_dbscan_clusters.pkl\", \"wb\"))\n",
    "print(\"Saved!\")"
   ]
  },
  {
   "cell_type": "code",
   "execution_count": 34,
   "metadata": {},
   "outputs": [
    {
     "name": "stdout",
     "output_type": "stream",
     "text": [
      "Saved!\n"
     ]
    }
   ],
   "source": [
    "pickle.dump(cluster_dict, open(\"models/aka_name_dbscan_cluster_map.pkl\", \"wb\"))\n",
    "print(\"Saved!\")"
   ]
  },
  {
   "cell_type": "code",
   "execution_count": null,
   "metadata": {},
   "outputs": [],
   "source": [
    "name_dict = {}\n",
    "for name, cluster in zip(RAW_NAMES, clusters):\n",
    "    name_dict[name] = cluster"
   ]
  },
  {
   "cell_type": "code",
   "execution_count": null,
   "metadata": {},
   "outputs": [
    {
     "name": "stdout",
     "output_type": "stream",
     "text": [
      "Saved!\n"
     ]
    }
   ],
   "source": [
    "pickle.dump(name_dict, open(\"models/aka_name_dbscan_name_map.pkl\", \"wb\"))\n",
    "print(\"Saved!\")"
   ]
  },
  {
   "cell_type": "code",
   "execution_count": null,
   "metadata": {},
   "outputs": [],
   "source": []
  },
  {
   "cell_type": "code",
   "execution_count": null,
   "metadata": {
    "scrolled": false
   },
   "outputs": [],
   "source": [
    "cdf = pd.DataFrame(cluster_dict.items(), columns=[\"Cluster\", \"Restaurants\"])\n",
    "cdf[\"Names\"] = cdf[\"Restaurants\"].apply(lambda a: len(a))\n",
    "cdf[\"Inspections\"] = cdf[\"Restaurants\"].apply(lambda a: np.sum([name_count[n] for n in a]))\n",
    "cdf.sort_values(by=\"Inspections\", ascending=False).head(30)"
   ]
  },
  {
   "cell_type": "code",
   "execution_count": null,
   "metadata": {},
   "outputs": [],
   "source": [
    "for r in cdf[\"Restaurants\"].values[:10]:\n",
    "    print(r)\n",
    "    print()"
   ]
  },
  {
   "cell_type": "code",
   "execution_count": null,
   "metadata": {},
   "outputs": [],
   "source": [
    "# not_clustered = list(filter(lambda n: n not in names, name_count.index))\n",
    "# sorted([(n, name_count[n]) for n in not_clustered], key=lambda p: p[1], reverse=True)"
   ]
  },
  {
   "cell_type": "code",
   "execution_count": null,
   "metadata": {},
   "outputs": [],
   "source": []
  }
 ],
 "metadata": {
  "kernelspec": {
   "display_name": "Python 3",
   "language": "python",
   "name": "python3"
  },
  "language_info": {
   "codemirror_mode": {
    "name": "ipython",
    "version": 3
   },
   "file_extension": ".py",
   "mimetype": "text/x-python",
   "name": "python",
   "nbconvert_exporter": "python",
   "pygments_lexer": "ipython3",
   "version": "3.6.1"
  },
  "varInspector": {
   "cols": {
    "lenName": 16,
    "lenType": 16,
    "lenVar": 40
   },
   "kernels_config": {
    "python": {
     "delete_cmd_postfix": "",
     "delete_cmd_prefix": "del ",
     "library": "var_list.py",
     "varRefreshCmd": "print(var_dic_list())"
    },
    "r": {
     "delete_cmd_postfix": ") ",
     "delete_cmd_prefix": "rm(",
     "library": "var_list.r",
     "varRefreshCmd": "cat(var_dic_list()) "
    }
   },
   "types_to_exclude": [
    "module",
    "function",
    "builtin_function_or_method",
    "instance",
    "_Feature"
   ],
   "window_display": false
  }
 },
 "nbformat": 4,
 "nbformat_minor": 2
}
