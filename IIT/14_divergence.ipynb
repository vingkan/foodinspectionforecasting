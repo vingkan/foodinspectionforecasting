{
 "cells": [
  {
   "cell_type": "markdown",
   "metadata": {},
   "source": [
    "# 1.4 Divergence\n",
    "\n",
    "Find the split date that minimizes KL Divergence of critical violation code frequencies."
   ]
  },
  {
   "cell_type": "code",
   "execution_count": 1,
   "metadata": {},
   "outputs": [],
   "source": [
    "import pandas as pd\n",
    "import numpy as np\n",
    "import scipy.stats as stat\n",
    "%matplotlib inline\n",
    "import matplotlib.pyplot as plt\n",
    "import seaborn as sns\n",
    "import pickle"
   ]
  },
  {
   "cell_type": "code",
   "execution_count": 2,
   "metadata": {},
   "outputs": [],
   "source": [
    "from research.strings import TARGET, INSPECTION_ID, DATE\n",
    "from research.utils import get_crit_mat"
   ]
  },
  {
   "cell_type": "code",
   "execution_count": 3,
   "metadata": {},
   "outputs": [
    {
     "name": "stdout",
     "output_type": "stream",
     "text": [
      "Read 18712 records.\n"
     ]
    }
   ],
   "source": [
    "df = pd.read_csv(\"data/inspections.csv\")\n",
    "print(\"Read {} records.\".format(len(df)))"
   ]
  },
  {
   "cell_type": "code",
   "execution_count": 4,
   "metadata": {},
   "outputs": [
    {
     "name": "stdout",
     "output_type": "stream",
     "text": [
      "KLD(criticalFound, t=16252) = 0.001\n"
     ]
    }
   ],
   "source": [
    "SPLIT_DATE = 16252\n",
    "dfa = df.query(\"{} < {}\".format(DATE, SPLIT_DATE))\n",
    "dfb = df.query(\"{} >= {}\".format(DATE, SPLIT_DATE))\n",
    "len(dfa), len(dfb), len(dfa) + len(dfb)\n",
    "pa = dfa[TARGET].mean()\n",
    "pb = dfb[TARGET].mean()\n",
    "kld = stat.entropy([pa, 1 - pa], [pb, 1 - pb])\n",
    "print(\"KLD({0}, t={1}) = {2:.3f}\".format(TARGET, SPLIT_DATE, kld))"
   ]
  },
  {
   "cell_type": "code",
   "execution_count": 5,
   "metadata": {},
   "outputs": [
    {
     "data": {
      "text/html": [
       "<div>\n",
       "<style scoped>\n",
       "    .dataframe tbody tr th:only-of-type {\n",
       "        vertical-align: middle;\n",
       "    }\n",
       "\n",
       "    .dataframe tbody tr th {\n",
       "        vertical-align: top;\n",
       "    }\n",
       "\n",
       "    .dataframe thead th {\n",
       "        text-align: right;\n",
       "    }\n",
       "</style>\n",
       "<table border=\"1\" class=\"dataframe\">\n",
       "  <thead>\n",
       "    <tr style=\"text-align: right;\">\n",
       "      <th></th>\n",
       "      <th>Inspection_ID</th>\n",
       "      <th>criticalFound</th>\n",
       "      <th>Inspection_Date</th>\n",
       "      <th>License</th>\n",
       "      <th>Business_ID</th>\n",
       "      <th>Inspector_blue</th>\n",
       "      <th>Inspector_brown</th>\n",
       "      <th>Inspector_green</th>\n",
       "      <th>Inspector_orange</th>\n",
       "      <th>Inspector_purple</th>\n",
       "      <th>...</th>\n",
       "      <th>V5</th>\n",
       "      <th>V6</th>\n",
       "      <th>V7</th>\n",
       "      <th>V8</th>\n",
       "      <th>V9</th>\n",
       "      <th>V10</th>\n",
       "      <th>V11</th>\n",
       "      <th>V12</th>\n",
       "      <th>V13</th>\n",
       "      <th>V14</th>\n",
       "    </tr>\n",
       "  </thead>\n",
       "  <tbody>\n",
       "    <tr>\n",
       "      <th>0</th>\n",
       "      <td>269961</td>\n",
       "      <td>0.0</td>\n",
       "      <td>15736</td>\n",
       "      <td>30790</td>\n",
       "      <td>30790-20110416</td>\n",
       "      <td>0</td>\n",
       "      <td>0</td>\n",
       "      <td>1</td>\n",
       "      <td>0</td>\n",
       "      <td>0</td>\n",
       "      <td>...</td>\n",
       "      <td>0</td>\n",
       "      <td>0</td>\n",
       "      <td>0</td>\n",
       "      <td>0</td>\n",
       "      <td>0</td>\n",
       "      <td>0</td>\n",
       "      <td>0</td>\n",
       "      <td>0</td>\n",
       "      <td>0</td>\n",
       "      <td>0</td>\n",
       "    </tr>\n",
       "    <tr>\n",
       "      <th>1</th>\n",
       "      <td>507211</td>\n",
       "      <td>0.0</td>\n",
       "      <td>15265</td>\n",
       "      <td>1475890</td>\n",
       "      <td>1475890-20110416</td>\n",
       "      <td>1</td>\n",
       "      <td>0</td>\n",
       "      <td>0</td>\n",
       "      <td>0</td>\n",
       "      <td>0</td>\n",
       "      <td>...</td>\n",
       "      <td>0</td>\n",
       "      <td>0</td>\n",
       "      <td>0</td>\n",
       "      <td>0</td>\n",
       "      <td>0</td>\n",
       "      <td>0</td>\n",
       "      <td>0</td>\n",
       "      <td>0</td>\n",
       "      <td>0</td>\n",
       "      <td>0</td>\n",
       "    </tr>\n",
       "    <tr>\n",
       "      <th>2</th>\n",
       "      <td>507212</td>\n",
       "      <td>0.0</td>\n",
       "      <td>15265</td>\n",
       "      <td>1740130</td>\n",
       "      <td>1740130-20110216</td>\n",
       "      <td>1</td>\n",
       "      <td>0</td>\n",
       "      <td>0</td>\n",
       "      <td>0</td>\n",
       "      <td>0</td>\n",
       "      <td>...</td>\n",
       "      <td>0</td>\n",
       "      <td>0</td>\n",
       "      <td>0</td>\n",
       "      <td>0</td>\n",
       "      <td>0</td>\n",
       "      <td>0</td>\n",
       "      <td>0</td>\n",
       "      <td>0</td>\n",
       "      <td>0</td>\n",
       "      <td>0</td>\n",
       "    </tr>\n",
       "    <tr>\n",
       "      <th>3</th>\n",
       "      <td>507216</td>\n",
       "      <td>0.0</td>\n",
       "      <td>15266</td>\n",
       "      <td>1447363</td>\n",
       "      <td>1447363-20110216</td>\n",
       "      <td>1</td>\n",
       "      <td>0</td>\n",
       "      <td>0</td>\n",
       "      <td>0</td>\n",
       "      <td>0</td>\n",
       "      <td>...</td>\n",
       "      <td>0</td>\n",
       "      <td>0</td>\n",
       "      <td>0</td>\n",
       "      <td>0</td>\n",
       "      <td>0</td>\n",
       "      <td>0</td>\n",
       "      <td>0</td>\n",
       "      <td>0</td>\n",
       "      <td>0</td>\n",
       "      <td>0</td>\n",
       "    </tr>\n",
       "    <tr>\n",
       "      <th>4</th>\n",
       "      <td>507219</td>\n",
       "      <td>0.0</td>\n",
       "      <td>15267</td>\n",
       "      <td>1679459</td>\n",
       "      <td>1679459-20100216</td>\n",
       "      <td>1</td>\n",
       "      <td>0</td>\n",
       "      <td>0</td>\n",
       "      <td>0</td>\n",
       "      <td>0</td>\n",
       "      <td>...</td>\n",
       "      <td>0</td>\n",
       "      <td>0</td>\n",
       "      <td>0</td>\n",
       "      <td>0</td>\n",
       "      <td>0</td>\n",
       "      <td>0</td>\n",
       "      <td>0</td>\n",
       "      <td>0</td>\n",
       "      <td>0</td>\n",
       "      <td>0</td>\n",
       "    </tr>\n",
       "  </tbody>\n",
       "</table>\n",
       "<p>5 rows × 50 columns</p>\n",
       "</div>"
      ],
      "text/plain": [
       "   Inspection_ID  criticalFound  Inspection_Date  License       Business_ID  \\\n",
       "0         269961            0.0            15736    30790    30790-20110416   \n",
       "1         507211            0.0            15265  1475890  1475890-20110416   \n",
       "2         507212            0.0            15265  1740130  1740130-20110216   \n",
       "3         507216            0.0            15266  1447363  1447363-20110216   \n",
       "4         507219            0.0            15267  1679459  1679459-20100216   \n",
       "\n",
       "   Inspector_blue  Inspector_brown  Inspector_green  Inspector_orange  \\\n",
       "0               0                0                1                 0   \n",
       "1               1                0                0                 0   \n",
       "2               1                0                0                 0   \n",
       "3               1                0                0                 0   \n",
       "4               1                0                0                 0   \n",
       "\n",
       "   Inspector_purple  ...  V5  V6  V7  V8  V9  V10  V11  V12  V13  V14  \n",
       "0                 0  ...   0   0   0   0   0    0    0    0    0    0  \n",
       "1                 0  ...   0   0   0   0   0    0    0    0    0    0  \n",
       "2                 0  ...   0   0   0   0   0    0    0    0    0    0  \n",
       "3                 0  ...   0   0   0   0   0    0    0    0    0    0  \n",
       "4                 0  ...   0   0   0   0   0    0    0    0    0    0  \n",
       "\n",
       "[5 rows x 50 columns]"
      ]
     },
     "execution_count": 5,
     "metadata": {},
     "output_type": "execute_result"
    }
   ],
   "source": [
    "crit_mat = get_crit_mat(df)\n",
    "VIOLATION_LABELS = list(crit_mat.columns)\n",
    "crit_mat[INSPECTION_ID] = df[INSPECTION_ID]\n",
    "merged = df.set_index(INSPECTION_ID).join(crit_mat.set_index(INSPECTION_ID))\n",
    "merged = merged.reset_index()\n",
    "merged.head()"
   ]
  },
  {
   "cell_type": "markdown",
   "metadata": {},
   "source": [
    "## Select New Split Date"
   ]
  },
  {
   "cell_type": "code",
   "execution_count": 6,
   "metadata": {},
   "outputs": [],
   "source": [
    "def kld_split(data, field, t, cols):\n",
    "    dfa = data.query(\"{} <= {}\".format(field, t))\n",
    "    dfb = data.query(\"{} > {}\".format(field, t))\n",
    "    res = []\n",
    "    for col in cols:\n",
    "        pa = dfa[col].mean()\n",
    "        pb = dfb[col].mean()\n",
    "        kld = stat.entropy([pa, 1 - pa], [pb, 1 - pb])\n",
    "        res.append(kld)\n",
    "    return res"
   ]
  },
  {
   "cell_type": "code",
   "execution_count": 7,
   "metadata": {},
   "outputs": [
    {
     "name": "stdout",
     "output_type": "stream",
     "text": [
      "KLD(criticalFound, t=16252) = 0.001\n"
     ]
    }
   ],
   "source": [
    "kld_target = kld_split(merged, DATE, SPLIT_DATE, [TARGET])[0]\n",
    "print(\"KLD({0}, t={1}) = {2:.3f}\".format(TARGET, SPLIT_DATE, kld_target))"
   ]
  },
  {
   "cell_type": "code",
   "execution_count": 8,
   "metadata": {},
   "outputs": [
    {
     "name": "stdout",
     "output_type": "stream",
     "text": [
      "KLD(V1, t=16252) = 0.000\n",
      "KLD(V2, t=16252) = 0.001\n",
      "KLD(V3, t=16252) = 0.001\n",
      "KLD(V4, t=16252) = 0.001\n",
      "KLD(V5, t=16252) = inf\n",
      "KLD(V6, t=16252) = 0.002\n",
      "KLD(V7, t=16252) = 0.000\n",
      "KLD(V8, t=16252) = 0.000\n",
      "KLD(V9, t=16252) = 0.000\n",
      "KLD(V10, t=16252) = 0.000\n",
      "KLD(V11, t=16252) = 0.001\n",
      "KLD(V12, t=16252) = 0.000\n",
      "KLD(V13, t=16252) = inf\n",
      "KLD(V14, t=16252) = inf\n"
     ]
    }
   ],
   "source": [
    "kld_viols = kld_split(merged, DATE, SPLIT_DATE, VIOLATION_LABELS)\n",
    "for kld_v, viol_name in zip(kld_viols, VIOLATION_LABELS):\n",
    "    print(\"KLD({0}, t={1}) = {2:.3f}\".format(viol_name, SPLIT_DATE, kld_v))"
   ]
  },
  {
   "cell_type": "code",
   "execution_count": 9,
   "metadata": {},
   "outputs": [],
   "source": [
    "SPLIT_VALS = sorted(merged[DATE].unique())"
   ]
  },
  {
   "cell_type": "code",
   "execution_count": 10,
   "metadata": {},
   "outputs": [],
   "source": [
    "klds_target = [kld_split(merged, DATE, sd, [TARGET])[0] for sd in SPLIT_VALS]"
   ]
  },
  {
   "cell_type": "code",
   "execution_count": 11,
   "metadata": {},
   "outputs": [],
   "source": [
    "klds_crits = [kld_split(merged, DATE, sd, VIOLATION_LABELS) for sd in SPLIT_VALS]"
   ]
  },
  {
   "cell_type": "code",
   "execution_count": 12,
   "metadata": {},
   "outputs": [],
   "source": [
    "def earliest_min_split(klds, split_vals):\n",
    "    return split_vals[np.argmin(klds)]\n",
    "\n",
    "\n",
    "def latest_min_split(klds, split_vals):\n",
    "    flipped = np.flip(klds, axis=0)\n",
    "    min_idx = len(klds) - 1  - np.argmin(flipped)\n",
    "    return split_vals[min_idx]"
   ]
  },
  {
   "cell_type": "code",
   "execution_count": 13,
   "metadata": {},
   "outputs": [
    {
     "data": {
      "image/png": "[encoded data removed]",
      "text/plain": [
       "<matplotlib.figure.Figure at 0x116f58240>"
      ]
     },
     "metadata": {
      "needs_background": "light"
     },
     "output_type": "display_data"
    }
   ],
   "source": [
    "min_split_early = earliest_min_split(klds_target, SPLIT_VALS)\n",
    "min_split_late = latest_min_split(klds_target, SPLIT_VALS)\n",
    "sns.lineplot(SPLIT_VALS, klds_target)\n",
    "plt.axvline(SPLIT_DATE, linestyle=\"--\", color=\"black\")\n",
    "plt.axvline(min_split_early, linestyle=\"--\", color=\"blue\")\n",
    "plt.axvline(min_split_late, linestyle=\"--\", color=\"blue\")\n",
    "plt.xlabel(\"Split Date\")\n",
    "plt.ylabel(\"KL Divergence\")\n",
    "plt.title(\"P({}) in Train vs Test\".format(TARGET))\n",
    "plt.gcf().set_size_inches(8, 5)\n",
    "plt.show()"
   ]
  },
  {
   "cell_type": "code",
   "execution_count": 14,
   "metadata": {},
   "outputs": [
    {
     "data": {
      "image/png": "[encoded data removed]",
      "text/plain": [
       "<matplotlib.figure.Figure at 0x11677a240>"
      ]
     },
     "metadata": {
      "needs_background": "light"
     },
     "output_type": "display_data"
    }
   ],
   "source": [
    "viol_names = VIOLATION_LABELS\n",
    "pal = sns.hls_palette(len(viol_names))\n",
    "for i, (viol, color) in enumerate(zip(viol_names, pal)):\n",
    "    klds_viol = np.array(klds_crits)[:,i]\n",
    "    min_viol_split_early = earliest_min_split(klds_viol, SPLIT_VALS)\n",
    "    min_viol_split_late = latest_min_split(klds_viol, SPLIT_VALS)\n",
    "    plt.axvline(min_viol_split_early, linestyle=\"--\", color=color)\n",
    "    plt.axvline(min_viol_split_late, linestyle=\"--\", color=color)\n",
    "    sns.lineplot(SPLIT_VALS, klds_viol, label=viol, color=color)\n",
    "plt.axvline(SPLIT_DATE, linestyle=\"--\", color=\"black\")\n",
    "plt.xlabel(\"Split Date\")\n",
    "plt.ylabel(\"KL Divergence\")\n",
    "plt.title(\"P(violationCode) in Train vs Test\")\n",
    "plt.gcf().set_size_inches(8, 5)\n",
    "plt.show()"
   ]
  },
  {
   "cell_type": "code",
   "execution_count": 44,
   "metadata": {},
   "outputs": [
    {
     "data": {
      "image/png": "[encoded data removed]",
      "text/plain": [
       "<matplotlib.figure.Figure at 0x1197ad5c0>"
      ]
     },
     "metadata": {
      "needs_background": "light"
     },
     "output_type": "display_data"
    }
   ],
   "source": [
    "fig, axes = plt.subplots(3, 5, sharex=True, sharey=True)\n",
    "axes = axes.flatten()\n",
    "viol_names = VIOLATION_LABELS\n",
    "pal = sns.hls_palette(len(viol_names))\n",
    "for i, (viol, color, ax) in enumerate(zip(viol_names, pal, axes)):\n",
    "    klds_viol = np.array(klds_crits)[:,i]\n",
    "    min_viol_split_early = earliest_min_split(klds_viol, SPLIT_VALS)\n",
    "    min_viol_split_late = latest_min_split(klds_viol, SPLIT_VALS)\n",
    "    ax.axvline(SPLIT_DATE, linestyle=\"--\", color=\"black\")\n",
    "    ax.axvline(min_viol_split_early, linestyle=\"--\", color=color)\n",
    "    ax.axvline(min_viol_split_late, linestyle=\"--\", color=color)\n",
    "    sns.lineplot(SPLIT_VALS, klds_viol, label=viol, color=color, ax=ax)\n",
    "    ax.legend(loc=\"upper left\")\n",
    "axes[-1].axis(\"off\")\n",
    "fig.text(0.5, 0.04, \"Split Date\", ha=\"center\", va=\"center\")\n",
    "fig.text(0.06, 0.5, \"KL Divergence\", ha=\"center\", va=\"center\", rotation=\"vertical\")\n",
    "fig.suptitle(\"P(violationCode) in Train vs Test\")\n",
    "fig.set_size_inches(14, 6)\n",
    "plt.show()"
   ]
  },
  {
   "cell_type": "code",
   "execution_count": 16,
   "metadata": {},
   "outputs": [
    {
     "data": {
      "image/png": "[encoded data removed]",
      "text/plain": [
       "<matplotlib.figure.Figure at 0x11729e630>"
      ]
     },
     "metadata": {
      "needs_background": "light"
     },
     "output_type": "display_data"
    }
   ],
   "source": [
    "kld_crit_sum = np.array(klds_crits).sum(axis=1)\n",
    "min_sum_split_early = earliest_min_split(kld_crit_sum, SPLIT_VALS)\n",
    "min_sum_split_late = latest_min_split(kld_crit_sum, SPLIT_VALS)\n",
    "sns.lineplot(SPLIT_VALS, kld_crit_sum)\n",
    "plt.axvline(SPLIT_DATE, linestyle=\"--\", color=\"black\")\n",
    "plt.axvline(min_sum_split_early, linestyle=\"--\", color=\"blue\")\n",
    "plt.axvline(min_sum_split_late, linestyle=\"--\", color=\"blue\")\n",
    "plt.xlabel(\"Split Date\")\n",
    "plt.ylabel(\"Sum of KL Divergence Values\")\n",
    "plt.title(\"P(violationCode) in Train vs Test\")\n",
    "plt.gcf().set_size_inches(8, 5)\n",
    "plt.show()"
   ]
  },
  {
   "cell_type": "code",
   "execution_count": 17,
   "metadata": {},
   "outputs": [
    {
     "name": "stdout",
     "output_type": "stream",
     "text": [
      "Early Min Split = 15762 = 2013-02-26T00:00:00.000\n",
      "Late Min Split = 15762 = 2013-02-26T00:00:00.000\n"
     ]
    }
   ],
   "source": [
    "early_split = df.query(\"{} == {}\".format(DATE, min_sum_split_early))[DATE].values[0]\n",
    "late_split = df.query(\"{} == {}\".format(DATE, min_sum_split_late))[DATE].values[0]\n",
    "early_split_date = df.query(\"{} == {}\".format(DATE, min_sum_split_early))[\"inspection_date\"].values[0]\n",
    "late_split_date = df.query(\"{} == {}\".format(DATE, min_sum_split_late))[\"inspection_date\"].values[0]\n",
    "print(\"Early Min Split = {} = {}\".format(early_split, early_split_date))\n",
    "print(\"Late Min Split = {} = {}\".format(late_split, late_split_date))\n",
    "best_split = late_split\n",
    "best_split_date = late_split_date"
   ]
  },
  {
   "cell_type": "code",
   "execution_count": 18,
   "metadata": {},
   "outputs": [
    {
     "data": {
      "image/png": "[encoded data removed]",
      "text/plain": [
       "<matplotlib.figure.Figure at 0x1198ba4e0>"
      ]
     },
     "metadata": {
      "needs_background": "light"
     },
     "output_type": "display_data"
    }
   ],
   "source": [
    "from collections import defaultdict\n",
    "\n",
    "dts = df[\"inspection_date\"].astype(np.datetime64).apply(lambda dt: dt.strftime(\"%Y-%m\")).value_counts()\n",
    "year_month_count = defaultdict(lambda: 0)\n",
    "for year_month, count in zip(dts.index, dts.values):\n",
    "    year_month_count[year_month] = count\n",
    "times = []\n",
    "counts = []\n",
    "for year in range(2011, 2015):\n",
    "    for month in range(1, 13):\n",
    "        year_month = str(year) + \"-\" + str(month).zfill(2)\n",
    "        times.append(year_month)\n",
    "        counts.append(year_month_count[year_month])\n",
    "split_year_month = pd.to_datetime(best_split_date).strftime(\"%Y-%m\")\n",
    "plt.axvline(times.index(split_year_month), linestyle=\"--\", color=\"black\")\n",
    "sns.barplot(times, counts)\n",
    "plt.xticks(range(len(times)), times, rotation=\"vertical\")\n",
    "plt.xlabel(\"Time (Year-Month)\")\n",
    "plt.ylabel(\"Count of Inspections\")\n",
    "plt.title(\"Count of Inspections by Time\")\n",
    "plt.gcf().set_size_inches(14, 5)\n",
    "plt.show()"
   ]
  },
  {
   "cell_type": "code",
   "execution_count": 19,
   "metadata": {},
   "outputs": [
    {
     "name": "stdout",
     "output_type": "stream",
     "text": [
      "KLD(criticalFound, t=15762) = 0.000\n",
      "KLD(V1, t=15762) = 0.000\n",
      "KLD(V2, t=15762) = 0.000\n",
      "KLD(V3, t=15762) = 0.000\n",
      "KLD(V4, t=15762) = 0.002\n",
      "KLD(V5, t=15762) = 0.000\n",
      "KLD(V6, t=15762) = 0.001\n",
      "KLD(V7, t=15762) = 0.000\n",
      "KLD(V8, t=15762) = 0.000\n",
      "KLD(V9, t=15762) = 0.000\n",
      "KLD(V10, t=15762) = 0.000\n",
      "KLD(V11, t=15762) = 0.002\n",
      "KLD(V12, t=15762) = 0.001\n",
      "KLD(V13, t=15762) = 0.001\n",
      "KLD(V14, t=15762) = 0.000\n"
     ]
    }
   ],
   "source": [
    "kld_viols = kld_split(merged, DATE, best_split, [TARGET] + VIOLATION_LABELS)\n",
    "for kld_v, viol_name in zip(kld_viols, [TARGET] + VIOLATION_LABELS):\n",
    "    print(\"KLD({0}, t={1}) = {2:.3f}\".format(viol_name, best_split, kld_v))"
   ]
  },
  {
   "cell_type": "code",
   "execution_count": 20,
   "metadata": {},
   "outputs": [
    {
     "name": "stdout",
     "output_type": "stream",
     "text": [
      "Train: N = 8121, P(criticalFound) = 0.137\n",
      "Test:  N = 10591, P(criticalFound) = 0.146\n"
     ]
    }
   ],
   "source": [
    "all_train = merged.query(\"{} <= {}\".format(DATE, best_split))\n",
    "all_test = merged.query(\"{} > {}\".format(DATE, best_split))\n",
    "print(\"Train: N = {0}, P({1}) = {2:.3f}\".format(len(all_train), TARGET, all_train[TARGET].mean()))\n",
    "print(\"Test:  N = {0}, P({1}) = {2:.3f}\".format(len(all_test), TARGET, all_test[TARGET].mean()))"
   ]
  },
  {
   "cell_type": "code",
   "execution_count": 43,
   "metadata": {},
   "outputs": [
    {
     "name": "stdout",
     "output_type": "stream",
     "text": [
      "P(V1, Train) = 0.004\tN = 35\t\tP(V1, Test) = 0.00406\tN = 43\n",
      "P(V2, Train) = 0.036\tN = 290\t\tP(V2, Test) = 0.0358\tN = 379\n",
      "P(V3, Train) = 0.075\tN = 608\t\tP(V3, Test) = 0.0777\tN = 823\n",
      "P(V4, Train) = 0.007\tN = 55\t\tP(V4, Test) = 0.00283\tN = 30\n",
      "P(V5, Train) = 0.000\tN = 0\t\tP(V5, Test) = 9.44e-05\tN = 1\n",
      "P(V6, Train) = 0.014\tN = 112\t\tP(V6, Test) = 0.0104\tN = 110\n",
      "P(V7, Train) = 0.001\tN = 5\t\tP(V7, Test) = 0.00113\tN = 12\n",
      "P(V8, Train) = 0.024\tN = 191\t\tP(V8, Test) = 0.0242\tN = 256\n",
      "P(V9, Train) = 0.006\tN = 52\t\tP(V9, Test) = 0.00812\tN = 86\n",
      "P(V10, Train) = 0.005\tN = 40\t\tP(V10, Test) = 0.00397\tN = 42\n",
      "P(V11, Train) = 0.010\tN = 79\t\tP(V11, Test) = 0.0178\tN = 188\n",
      "P(V12, Train) = 0.016\tN = 130\t\tP(V12, Test) = 0.0214\tN = 227\n",
      "P(V13, Train) = 0.003\tN = 26\t\tP(V13, Test) = 0.00161\tN = 17\n",
      "P(V14, Train) = 0.001\tN = 11\t\tP(V14, Test) = 0.00132\tN = 14\n"
     ]
    }
   ],
   "source": [
    "for viol_name in VIOLATION_LABELS:\n",
    "    pa = all_train[viol_name].mean()\n",
    "    pb = all_test[viol_name].mean()\n",
    "    na = all_train[viol_name].sum()\n",
    "    nb = all_test[viol_name].sum()\n",
    "    print(\"P({0}, Train) = {1:.3f}\\tN = {3}\\t\\tP({0}, Test) = {2:.3}\\tN = {4}\".format(viol_name, pa, pb, na, nb))"
   ]
  },
  {
   "cell_type": "code",
   "execution_count": 22,
   "metadata": {},
   "outputs": [
    {
     "data": {
      "text/plain": [
       "V1       78\n",
       "V2      669\n",
       "V3     1431\n",
       "V4       85\n",
       "V5        1\n",
       "V6      222\n",
       "V7       17\n",
       "V8      447\n",
       "V9      138\n",
       "V10      82\n",
       "V11     267\n",
       "V12     357\n",
       "V13      43\n",
       "V14      25\n",
       "dtype: int64"
      ]
     },
     "execution_count": 22,
     "metadata": {},
     "output_type": "execute_result"
    }
   ],
   "source": [
    "crit_mat[VIOLATION_LABELS].sum(axis=0)"
   ]
  },
  {
   "cell_type": "markdown",
   "metadata": {},
   "source": [
    "## Evaluate Impact on Model"
   ]
  },
  {
   "cell_type": "code",
   "execution_count": 23,
   "metadata": {},
   "outputs": [],
   "source": [
    "from research.evaluation import evaluate_model, show_roc, show_prc\n",
    "from research.strings import TARGET, PREDICTORS"
   ]
  },
  {
   "cell_type": "code",
   "execution_count": 24,
   "metadata": {},
   "outputs": [
    {
     "name": "stdout",
     "output_type": "stream",
     "text": [
      "Train: N = 8121, P(criticalFound) = 0.137\n",
      "Test:  N = 10591, P(criticalFound) = 0.146\n"
     ]
    }
   ],
   "source": [
    "d_train = df.query(\"{} <= {}\".format(DATE, best_split))\n",
    "d_test = df.query(\"{} > {}\".format(DATE, best_split))\n",
    "X_train = d_train[PREDICTORS].values\n",
    "X_test = d_test[PREDICTORS].values\n",
    "y_train = d_train[TARGET].values\n",
    "y_test = d_test[TARGET].values\n",
    "print(\"Train: N = {0}, P({1}) = {2:.3f}\".format(len(X_train), TARGET, np.mean(y_train)))\n",
    "print(\"Test:  N = {0}, P({1}) = {2:.3f}\".format(len(X_test), TARGET, np.mean(y_test)))"
   ]
  },
  {
   "cell_type": "code",
   "execution_count": 25,
   "metadata": {},
   "outputs": [],
   "source": [
    "penalties = np.array([1 if \"Inspector\" in col else 0 for col in PREDICTORS])"
   ]
  },
  {
   "cell_type": "code",
   "execution_count": 26,
   "metadata": {},
   "outputs": [],
   "source": [
    "from glmnet_python import cvglmnet, cvglmnetPredict, cvglmnetCoef"
   ]
  },
  {
   "cell_type": "code",
   "execution_count": 27,
   "metadata": {},
   "outputs": [
    {
     "name": "stderr",
     "output_type": "stream",
     "text": [
      "/anaconda/lib/python3.6/site-packages/numpy/lib/scimath.py:262: RuntimeWarning: divide by zero encountered in log\n",
      "  return nx.log(x)\n"
     ]
    }
   ],
   "source": [
    "cvfit = cvglmnet(\n",
    "    x=X_train.copy(), y=y_train.copy(),\n",
    "    family=\"binomial\", alpha=0, penalty_factor=penalties, ptype=\"deviance\"\n",
    ")"
   ]
  },
  {
   "cell_type": "code",
   "execution_count": 28,
   "metadata": {},
   "outputs": [
    {
     "name": "stdout",
     "output_type": "stream",
     "text": [
      "The lambda that minimizes error is: 0.00276\n"
     ]
    }
   ],
   "source": [
    "BEST_LAMBDA = cvfit[\"lambda_min\"][0]\n",
    "print(\"The lambda that minimizes error is: {0:.5f}\".format(BEST_LAMBDA))"
   ]
  },
  {
   "cell_type": "code",
   "execution_count": 29,
   "metadata": {},
   "outputs": [
    {
     "data": {
      "text/html": [
       "<div>\n",
       "<style scoped>\n",
       "    .dataframe tbody tr th:only-of-type {\n",
       "        vertical-align: middle;\n",
       "    }\n",
       "\n",
       "    .dataframe tbody tr th {\n",
       "        vertical-align: top;\n",
       "    }\n",
       "\n",
       "    .dataframe thead th {\n",
       "        text-align: right;\n",
       "    }\n",
       "</style>\n",
       "<table border=\"1\" class=\"dataframe\">\n",
       "  <thead>\n",
       "    <tr style=\"text-align: right;\">\n",
       "      <th></th>\n",
       "      <th>Divergence</th>\n",
       "    </tr>\n",
       "  </thead>\n",
       "  <tbody>\n",
       "    <tr>\n",
       "      <th>Intercept</th>\n",
       "      <td>-2.815</td>\n",
       "    </tr>\n",
       "    <tr>\n",
       "      <th>Inspector_blue</th>\n",
       "      <td>0.987</td>\n",
       "    </tr>\n",
       "    <tr>\n",
       "      <th>Inspector_brown</th>\n",
       "      <td>-1.234</td>\n",
       "    </tr>\n",
       "    <tr>\n",
       "      <th>Inspector_green</th>\n",
       "      <td>-0.156</td>\n",
       "    </tr>\n",
       "    <tr>\n",
       "      <th>Inspector_orange</th>\n",
       "      <td>0.176</td>\n",
       "    </tr>\n",
       "    <tr>\n",
       "      <th>Inspector_purple</th>\n",
       "      <td>1.551</td>\n",
       "    </tr>\n",
       "    <tr>\n",
       "      <th>Inspector_yellow</th>\n",
       "      <td>-0.940</td>\n",
       "    </tr>\n",
       "    <tr>\n",
       "      <th>pastSerious</th>\n",
       "      <td>0.487</td>\n",
       "    </tr>\n",
       "    <tr>\n",
       "      <th>pastCritical</th>\n",
       "      <td>0.468</td>\n",
       "    </tr>\n",
       "    <tr>\n",
       "      <th>timeSinceLast</th>\n",
       "      <td>0.127</td>\n",
       "    </tr>\n",
       "    <tr>\n",
       "      <th>ageAtInspection</th>\n",
       "      <td>-0.111</td>\n",
       "    </tr>\n",
       "    <tr>\n",
       "      <th>consumption_on_premises_incidental_activity</th>\n",
       "      <td>0.465</td>\n",
       "    </tr>\n",
       "    <tr>\n",
       "      <th>tobacco_retail_over_counter</th>\n",
       "      <td>-0.001</td>\n",
       "    </tr>\n",
       "    <tr>\n",
       "      <th>temperatureMax</th>\n",
       "      <td>0.006</td>\n",
       "    </tr>\n",
       "    <tr>\n",
       "      <th>heat_burglary</th>\n",
       "      <td>0.003</td>\n",
       "    </tr>\n",
       "    <tr>\n",
       "      <th>heat_sanitation</th>\n",
       "      <td>0.005</td>\n",
       "    </tr>\n",
       "    <tr>\n",
       "      <th>heat_garbage</th>\n",
       "      <td>-0.002</td>\n",
       "    </tr>\n",
       "  </tbody>\n",
       "</table>\n",
       "</div>"
      ],
      "text/plain": [
       "                                             Divergence\n",
       "Intercept                                        -2.815\n",
       "Inspector_blue                                    0.987\n",
       "Inspector_brown                                  -1.234\n",
       "Inspector_green                                  -0.156\n",
       "Inspector_orange                                  0.176\n",
       "Inspector_purple                                  1.551\n",
       "Inspector_yellow                                 -0.940\n",
       "pastSerious                                       0.487\n",
       "pastCritical                                      0.468\n",
       "timeSinceLast                                     0.127\n",
       "ageAtInspection                                  -0.111\n",
       "consumption_on_premises_incidental_activity       0.465\n",
       "tobacco_retail_over_counter                      -0.001\n",
       "temperatureMax                                    0.006\n",
       "heat_burglary                                     0.003\n",
       "heat_sanitation                                   0.005\n",
       "heat_garbage                                     -0.002"
      ]
     },
     "execution_count": 29,
     "metadata": {},
     "output_type": "execute_result"
    }
   ],
   "source": [
    "lam = cvfit[\"lambda_min\"][0]\n",
    "betas = cvglmnetCoef(cvfit, s=np.array([lam]))\n",
    "bdf = pd.DataFrame(betas, index=[\"Intercept\"] + PREDICTORS, columns=[\"Divergence\"])\n",
    "bdf.round(3)"
   ]
  },
  {
   "cell_type": "code",
   "execution_count": 30,
   "metadata": {},
   "outputs": [],
   "source": [
    "y_pred_train = cvglmnetPredict(cvfit, newx=X_train, s=np.array([BEST_LAMBDA]), ptype=\"class\").ravel()\n",
    "y_pred_test = cvglmnetPredict(cvfit, newx=X_test, s=np.array([BEST_LAMBDA]), ptype=\"class\").ravel()"
   ]
  },
  {
   "cell_type": "code",
   "execution_count": 31,
   "metadata": {},
   "outputs": [
    {
     "name": "stderr",
     "output_type": "stream",
     "text": [
      "/anaconda/lib/python3.6/site-packages/sklearn/linear_model/sag.py:334: ConvergenceWarning: The max_iter was reached which means the coef_ did not converge\n",
      "  \"the coef_ did not converge\", ConvergenceWarning)\n"
     ]
    }
   ],
   "source": [
    "from sklearn.linear_model import LogisticRegression\n",
    "logres = LogisticRegression(solver=\"sag\")\n",
    "logres.fit(X_train, y_train)\n",
    "logres.intercept_ = np.array([betas[0]])\n",
    "logres.coef_ = np.array([betas[1:]])"
   ]
  },
  {
   "cell_type": "code",
   "execution_count": 32,
   "metadata": {},
   "outputs": [
    {
     "name": "stdout",
     "output_type": "stream",
     "text": [
      "F1 Score = 0.05797\n",
      "Precision = 0.45714\n",
      "Recall = 0.03095\n"
     ]
    },
    {
     "data": {
      "text/html": [
       "<div>\n",
       "<style scoped>\n",
       "    .dataframe tbody tr th:only-of-type {\n",
       "        vertical-align: middle;\n",
       "    }\n",
       "\n",
       "    .dataframe tbody tr th {\n",
       "        vertical-align: top;\n",
       "    }\n",
       "\n",
       "    .dataframe thead th {\n",
       "        text-align: right;\n",
       "    }\n",
       "</style>\n",
       "<table border=\"1\" class=\"dataframe\">\n",
       "  <thead>\n",
       "    <tr style=\"text-align: right;\">\n",
       "      <th></th>\n",
       "      <th>Predicted +</th>\n",
       "      <th>Predicted -</th>\n",
       "    </tr>\n",
       "  </thead>\n",
       "  <tbody>\n",
       "    <tr>\n",
       "      <th>Actual +</th>\n",
       "      <td>48</td>\n",
       "      <td>1503</td>\n",
       "    </tr>\n",
       "    <tr>\n",
       "      <th>Actual -</th>\n",
       "      <td>57</td>\n",
       "      <td>8983</td>\n",
       "    </tr>\n",
       "  </tbody>\n",
       "</table>\n",
       "</div>"
      ],
      "text/plain": [
       "          Predicted +  Predicted -\n",
       "Actual +           48         1503\n",
       "Actual -           57         8983"
      ]
     },
     "execution_count": 32,
     "metadata": {},
     "output_type": "execute_result"
    }
   ],
   "source": [
    "evaluate_model(y_test, y_pred_test)"
   ]
  },
  {
   "cell_type": "code",
   "execution_count": 33,
   "metadata": {},
   "outputs": [
    {
     "name": "stdout",
     "output_type": "stream",
     "text": [
      "F1 Score = 0.05797\n",
      "Precision = 0.45714\n",
      "Recall = 0.03095\n"
     ]
    },
    {
     "data": {
      "text/html": [
       "<div>\n",
       "<style scoped>\n",
       "    .dataframe tbody tr th:only-of-type {\n",
       "        vertical-align: middle;\n",
       "    }\n",
       "\n",
       "    .dataframe tbody tr th {\n",
       "        vertical-align: top;\n",
       "    }\n",
       "\n",
       "    .dataframe thead th {\n",
       "        text-align: right;\n",
       "    }\n",
       "</style>\n",
       "<table border=\"1\" class=\"dataframe\">\n",
       "  <thead>\n",
       "    <tr style=\"text-align: right;\">\n",
       "      <th></th>\n",
       "      <th>Predicted +</th>\n",
       "      <th>Predicted -</th>\n",
       "    </tr>\n",
       "  </thead>\n",
       "  <tbody>\n",
       "    <tr>\n",
       "      <th>Actual +</th>\n",
       "      <td>48</td>\n",
       "      <td>1503</td>\n",
       "    </tr>\n",
       "    <tr>\n",
       "      <th>Actual -</th>\n",
       "      <td>57</td>\n",
       "      <td>8983</td>\n",
       "    </tr>\n",
       "  </tbody>\n",
       "</table>\n",
       "</div>"
      ],
      "text/plain": [
       "          Predicted +  Predicted -\n",
       "Actual +           48         1503\n",
       "Actual -           57         8983"
      ]
     },
     "execution_count": 33,
     "metadata": {},
     "output_type": "execute_result"
    }
   ],
   "source": [
    "evaluate_model(y_test, logres.predict(X_test))"
   ]
  },
  {
   "cell_type": "code",
   "execution_count": 34,
   "metadata": {},
   "outputs": [
    {
     "name": "stdout",
     "output_type": "stream",
     "text": [
      "Saved model to: models/sklearn-glm-divergence.pkl\n"
     ]
    }
   ],
   "source": [
    "model_filename = \"models/sklearn-glm-divergence.pkl\"\n",
    "pickle.dump(logres, open(model_filename, \"wb\"))\n",
    "print(\"Saved model to: {}\".format(model_filename))"
   ]
  },
  {
   "cell_type": "code",
   "execution_count": 35,
   "metadata": {},
   "outputs": [
    {
     "name": "stdout",
     "output_type": "stream",
     "text": [
      "F1 Score = 0.04084\n",
      "Precision = 0.50769\n",
      "Recall = 0.02128\n"
     ]
    },
    {
     "data": {
      "text/html": [
       "<div>\n",
       "<style scoped>\n",
       "    .dataframe tbody tr th:only-of-type {\n",
       "        vertical-align: middle;\n",
       "    }\n",
       "\n",
       "    .dataframe tbody tr th {\n",
       "        vertical-align: top;\n",
       "    }\n",
       "\n",
       "    .dataframe thead th {\n",
       "        text-align: right;\n",
       "    }\n",
       "</style>\n",
       "<table border=\"1\" class=\"dataframe\">\n",
       "  <thead>\n",
       "    <tr style=\"text-align: right;\">\n",
       "      <th></th>\n",
       "      <th>Predicted +</th>\n",
       "      <th>Predicted -</th>\n",
       "    </tr>\n",
       "  </thead>\n",
       "  <tbody>\n",
       "    <tr>\n",
       "      <th>Actual +</th>\n",
       "      <td>33</td>\n",
       "      <td>1518</td>\n",
       "    </tr>\n",
       "    <tr>\n",
       "      <th>Actual -</th>\n",
       "      <td>32</td>\n",
       "      <td>9008</td>\n",
       "    </tr>\n",
       "  </tbody>\n",
       "</table>\n",
       "</div>"
      ],
      "text/plain": [
       "          Predicted +  Predicted -\n",
       "Actual +           33         1518\n",
       "Actual -           32         9008"
      ]
     },
     "execution_count": 35,
     "metadata": {},
     "output_type": "execute_result"
    }
   ],
   "source": [
    "city = pickle.load(open(\"models/sklearn-glm.pkl\", \"rb\"))\n",
    "evaluate_model(y_test, city.predict(X_test))"
   ]
  },
  {
   "cell_type": "code",
   "execution_count": 36,
   "metadata": {},
   "outputs": [
    {
     "data": {
      "text/html": [
       "<div>\n",
       "<style scoped>\n",
       "    .dataframe tbody tr th:only-of-type {\n",
       "        vertical-align: middle;\n",
       "    }\n",
       "\n",
       "    .dataframe tbody tr th {\n",
       "        vertical-align: top;\n",
       "    }\n",
       "\n",
       "    .dataframe thead th {\n",
       "        text-align: right;\n",
       "    }\n",
       "</style>\n",
       "<table border=\"1\" class=\"dataframe\">\n",
       "  <thead>\n",
       "    <tr style=\"text-align: right;\">\n",
       "      <th></th>\n",
       "      <th>Divergence</th>\n",
       "      <th>City</th>\n",
       "      <th>Diff</th>\n",
       "      <th>SignChange</th>\n",
       "    </tr>\n",
       "  </thead>\n",
       "  <tbody>\n",
       "    <tr>\n",
       "      <th>Intercept</th>\n",
       "      <td>-2.815</td>\n",
       "      <td>-2.510</td>\n",
       "      <td>-0.304</td>\n",
       "      <td>False</td>\n",
       "    </tr>\n",
       "    <tr>\n",
       "      <th>Inspector_blue</th>\n",
       "      <td>0.987</td>\n",
       "      <td>0.950</td>\n",
       "      <td>0.037</td>\n",
       "      <td>False</td>\n",
       "    </tr>\n",
       "    <tr>\n",
       "      <th>Inspector_brown</th>\n",
       "      <td>-1.234</td>\n",
       "      <td>-1.306</td>\n",
       "      <td>0.073</td>\n",
       "      <td>False</td>\n",
       "    </tr>\n",
       "    <tr>\n",
       "      <th>Inspector_green</th>\n",
       "      <td>-0.156</td>\n",
       "      <td>-0.244</td>\n",
       "      <td>0.088</td>\n",
       "      <td>False</td>\n",
       "    </tr>\n",
       "    <tr>\n",
       "      <th>Inspector_orange</th>\n",
       "      <td>0.176</td>\n",
       "      <td>0.202</td>\n",
       "      <td>-0.026</td>\n",
       "      <td>False</td>\n",
       "    </tr>\n",
       "    <tr>\n",
       "      <th>Inspector_purple</th>\n",
       "      <td>1.551</td>\n",
       "      <td>1.555</td>\n",
       "      <td>-0.004</td>\n",
       "      <td>False</td>\n",
       "    </tr>\n",
       "    <tr>\n",
       "      <th>Inspector_yellow</th>\n",
       "      <td>-0.940</td>\n",
       "      <td>-0.697</td>\n",
       "      <td>-0.243</td>\n",
       "      <td>False</td>\n",
       "    </tr>\n",
       "    <tr>\n",
       "      <th>pastSerious</th>\n",
       "      <td>0.487</td>\n",
       "      <td>0.302</td>\n",
       "      <td>0.186</td>\n",
       "      <td>False</td>\n",
       "    </tr>\n",
       "    <tr>\n",
       "      <th>pastCritical</th>\n",
       "      <td>0.468</td>\n",
       "      <td>0.427</td>\n",
       "      <td>0.041</td>\n",
       "      <td>False</td>\n",
       "    </tr>\n",
       "    <tr>\n",
       "      <th>timeSinceLast</th>\n",
       "      <td>0.127</td>\n",
       "      <td>0.097</td>\n",
       "      <td>0.030</td>\n",
       "      <td>False</td>\n",
       "    </tr>\n",
       "    <tr>\n",
       "      <th>ageAtInspection</th>\n",
       "      <td>-0.111</td>\n",
       "      <td>-0.164</td>\n",
       "      <td>0.053</td>\n",
       "      <td>False</td>\n",
       "    </tr>\n",
       "    <tr>\n",
       "      <th>consumption_on_premises_incidental_activity</th>\n",
       "      <td>0.465</td>\n",
       "      <td>0.411</td>\n",
       "      <td>0.055</td>\n",
       "      <td>False</td>\n",
       "    </tr>\n",
       "    <tr>\n",
       "      <th>tobacco_retail_over_counter</th>\n",
       "      <td>-0.001</td>\n",
       "      <td>0.171</td>\n",
       "      <td>-0.171</td>\n",
       "      <td>True</td>\n",
       "    </tr>\n",
       "    <tr>\n",
       "      <th>temperatureMax</th>\n",
       "      <td>0.006</td>\n",
       "      <td>0.005</td>\n",
       "      <td>0.001</td>\n",
       "      <td>False</td>\n",
       "    </tr>\n",
       "    <tr>\n",
       "      <th>heat_burglary</th>\n",
       "      <td>0.003</td>\n",
       "      <td>0.002</td>\n",
       "      <td>0.001</td>\n",
       "      <td>False</td>\n",
       "    </tr>\n",
       "    <tr>\n",
       "      <th>heat_sanitation</th>\n",
       "      <td>0.005</td>\n",
       "      <td>0.002</td>\n",
       "      <td>0.003</td>\n",
       "      <td>False</td>\n",
       "    </tr>\n",
       "    <tr>\n",
       "      <th>heat_garbage</th>\n",
       "      <td>-0.002</td>\n",
       "      <td>-0.004</td>\n",
       "      <td>0.002</td>\n",
       "      <td>False</td>\n",
       "    </tr>\n",
       "  </tbody>\n",
       "</table>\n",
       "</div>"
      ],
      "text/plain": [
       "                                             Divergence   City   Diff  \\\n",
       "Intercept                                        -2.815 -2.510 -0.304   \n",
       "Inspector_blue                                    0.987  0.950  0.037   \n",
       "Inspector_brown                                  -1.234 -1.306  0.073   \n",
       "Inspector_green                                  -0.156 -0.244  0.088   \n",
       "Inspector_orange                                  0.176  0.202 -0.026   \n",
       "Inspector_purple                                  1.551  1.555 -0.004   \n",
       "Inspector_yellow                                 -0.940 -0.697 -0.243   \n",
       "pastSerious                                       0.487  0.302  0.186   \n",
       "pastCritical                                      0.468  0.427  0.041   \n",
       "timeSinceLast                                     0.127  0.097  0.030   \n",
       "ageAtInspection                                  -0.111 -0.164  0.053   \n",
       "consumption_on_premises_incidental_activity       0.465  0.411  0.055   \n",
       "tobacco_retail_over_counter                      -0.001  0.171 -0.171   \n",
       "temperatureMax                                    0.006  0.005  0.001   \n",
       "heat_burglary                                     0.003  0.002  0.001   \n",
       "heat_sanitation                                   0.005  0.002  0.003   \n",
       "heat_garbage                                     -0.002 -0.004  0.002   \n",
       "\n",
       "                                             SignChange  \n",
       "Intercept                                         False  \n",
       "Inspector_blue                                    False  \n",
       "Inspector_brown                                   False  \n",
       "Inspector_green                                   False  \n",
       "Inspector_orange                                  False  \n",
       "Inspector_purple                                  False  \n",
       "Inspector_yellow                                  False  \n",
       "pastSerious                                       False  \n",
       "pastCritical                                      False  \n",
       "timeSinceLast                                     False  \n",
       "ageAtInspection                                   False  \n",
       "consumption_on_premises_incidental_activity       False  \n",
       "tobacco_retail_over_counter                        True  \n",
       "temperatureMax                                    False  \n",
       "heat_burglary                                     False  \n",
       "heat_sanitation                                   False  \n",
       "heat_garbage                                      False  "
      ]
     },
     "execution_count": 36,
     "metadata": {},
     "output_type": "execute_result"
    }
   ],
   "source": [
    "city_betas = [city.intercept_[0][0]] + [a[0] for a in city.coef_[0]]\n",
    "bdf[\"City\"] = city_betas\n",
    "bdf[\"Diff\"] = bdf[\"Divergence\"] - bdf[\"City\"]\n",
    "bdf[\"SignChange\"] = np.sign(bdf[\"Divergence\"]) != np.sign(bdf[\"City\"])\n",
    "bdf.round(3)"
   ]
  },
  {
   "cell_type": "code",
   "execution_count": 38,
   "metadata": {},
   "outputs": [],
   "source": [
    "from research.metrics import to_inspection_daynum, compare_metrics"
   ]
  },
  {
   "cell_type": "code",
   "execution_count": 40,
   "metadata": {},
   "outputs": [
    {
     "data": {
      "image/png": "[encoded data removed]",
      "text/plain": [
       "<matplotlib.figure.Figure at 0x11983dd68>"
      ]
     },
     "metadata": {
      "needs_background": "light"
     },
     "output_type": "display_data"
    },
    {
     "data": {
      "text/html": [
       "<div>\n",
       "<style scoped>\n",
       "    .dataframe tbody tr th:only-of-type {\n",
       "        vertical-align: middle;\n",
       "    }\n",
       "\n",
       "    .dataframe tbody tr th {\n",
       "        vertical-align: top;\n",
       "    }\n",
       "\n",
       "    .dataframe thead th {\n",
       "        text-align: right;\n",
       "    }\n",
       "</style>\n",
       "<table border=\"1\" class=\"dataframe\">\n",
       "  <thead>\n",
       "    <tr style=\"text-align: right;\">\n",
       "      <th></th>\n",
       "      <th>Model</th>\n",
       "      <th>First Half</th>\n",
       "      <th>Mean Change</th>\n",
       "      <th>Std. Change</th>\n",
       "    </tr>\n",
       "  </thead>\n",
       "  <tbody>\n",
       "    <tr>\n",
       "      <th>0</th>\n",
       "      <td>City Model</td>\n",
       "      <td>0.778</td>\n",
       "      <td>117.912</td>\n",
       "      <td>227.220</td>\n",
       "    </tr>\n",
       "    <tr>\n",
       "      <th>1</th>\n",
       "      <td>Divergence</td>\n",
       "      <td>0.769</td>\n",
       "      <td>114.219</td>\n",
       "      <td>230.452</td>\n",
       "    </tr>\n",
       "  </tbody>\n",
       "</table>\n",
       "</div>"
      ],
      "text/plain": [
       "        Model  First Half  Mean Change  Std. Change\n",
       "0  City Model       0.778      117.912      227.220\n",
       "1  Divergence       0.769      114.219      230.452"
      ]
     },
     "execution_count": 40,
     "metadata": {},
     "output_type": "execute_result"
    }
   ],
   "source": [
    "days = to_inspection_daynum(d_test[\"Inspection_Date\"])\n",
    "compare_metrics(y_test, days, [\n",
    "    (\"City Model\", city.predict_proba(X_test)[:,1]),\n",
    "    (\"Divergence\", logres.predict_proba(X_test)[:,1])\n",
    "])"
   ]
  },
  {
   "cell_type": "code",
   "execution_count": 41,
   "metadata": {},
   "outputs": [
    {
     "name": "stdout",
     "output_type": "stream",
     "text": [
      "Original Test Set: N = 1637, P(criticalFound) = 0.158\n"
     ]
    }
   ],
   "source": [
    "d_test_orig = merged.query(\"{} > {}\".format(DATE, SPLIT_DATE))\n",
    "X_test_orig = d_test_orig[PREDICTORS]\n",
    "y_test_orig = d_test_orig[TARGET]\n",
    "print(\"Original Test Set: N = {0}, P({1}) = {2:.3f}\".format(len(X_test_orig), TARGET, y_test_orig.mean()))"
   ]
  },
  {
   "cell_type": "code",
   "execution_count": 42,
   "metadata": {},
   "outputs": [
    {
     "data": {
      "image/png": "[encoded data removed]",
      "text/plain": [
       "<matplotlib.figure.Figure at 0x11678e080>"
      ]
     },
     "metadata": {
      "needs_background": "light"
     },
     "output_type": "display_data"
    },
    {
     "data": {
      "text/html": [
       "<div>\n",
       "<style scoped>\n",
       "    .dataframe tbody tr th:only-of-type {\n",
       "        vertical-align: middle;\n",
       "    }\n",
       "\n",
       "    .dataframe tbody tr th {\n",
       "        vertical-align: top;\n",
       "    }\n",
       "\n",
       "    .dataframe thead th {\n",
       "        text-align: right;\n",
       "    }\n",
       "</style>\n",
       "<table border=\"1\" class=\"dataframe\">\n",
       "  <thead>\n",
       "    <tr style=\"text-align: right;\">\n",
       "      <th></th>\n",
       "      <th>Model</th>\n",
       "      <th>First Half</th>\n",
       "      <th>Mean Change</th>\n",
       "      <th>Std. Change</th>\n",
       "    </tr>\n",
       "  </thead>\n",
       "  <tbody>\n",
       "    <tr>\n",
       "      <th>0</th>\n",
       "      <td>City Model</td>\n",
       "      <td>0.690</td>\n",
       "      <td>7.438</td>\n",
       "      <td>25.156</td>\n",
       "    </tr>\n",
       "    <tr>\n",
       "      <th>1</th>\n",
       "      <td>Divergence</td>\n",
       "      <td>0.674</td>\n",
       "      <td>7.008</td>\n",
       "      <td>25.202</td>\n",
       "    </tr>\n",
       "  </tbody>\n",
       "</table>\n",
       "</div>"
      ],
      "text/plain": [
       "        Model  First Half  Mean Change  Std. Change\n",
       "0  City Model       0.690        7.438       25.156\n",
       "1  Divergence       0.674        7.008       25.202"
      ]
     },
     "execution_count": 42,
     "metadata": {},
     "output_type": "execute_result"
    }
   ],
   "source": [
    "days_orig = to_inspection_daynum(d_test_orig[\"Inspection_Date\"])\n",
    "compare_metrics(y_test_orig, days_orig, [\n",
    "    (\"City Model\", city.predict_proba(X_test_orig)[:,1]),\n",
    "    (\"Divergence\", logres.predict_proba(X_test_orig)[:,1])\n",
    "])"
   ]
  },
  {
   "cell_type": "code",
   "execution_count": null,
   "metadata": {},
   "outputs": [],
   "source": []
  }
 ],
 "metadata": {
  "kernelspec": {
   "display_name": "Python 3",
   "language": "python",
   "name": "python3"
  },
  "language_info": {
   "codemirror_mode": {
    "name": "ipython",
    "version": 3
   },
   "file_extension": ".py",
   "mimetype": "text/x-python",
   "name": "python",
   "nbconvert_exporter": "python",
   "pygments_lexer": "ipython3",
   "version": "3.6.1"
  },
  "varInspector": {
   "cols": {
    "lenName": 16,
    "lenType": 16,
    "lenVar": 40
   },
   "kernels_config": {
    "python": {
     "delete_cmd_postfix": "",
     "delete_cmd_prefix": "del ",
     "library": "var_list.py",
     "varRefreshCmd": "print(var_dic_list())"
    },
    "r": {
     "delete_cmd_postfix": ") ",
     "delete_cmd_prefix": "rm(",
     "library": "var_list.r",
     "varRefreshCmd": "cat(var_dic_list()) "
    }
   },
   "types_to_exclude": [
    "module",
    "function",
    "builtin_function_or_method",
    "instance",
    "_Feature"
   ],
   "window_display": false
  }
 },
 "nbformat": 4,
 "nbformat_minor": 2
}
