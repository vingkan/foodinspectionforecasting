{
 "cells": [
  {
   "cell_type": "code",
   "execution_count": 2,
   "metadata": {},
   "outputs": [],
   "source": [
    "import pandas as pd\n",
    "import numpy as np\n",
    "%matplotlib inline\n",
    "import matplotlib.pyplot as plt\n",
    "import seaborn as sns"
   ]
  },
  {
   "cell_type": "code",
   "execution_count": 3,
   "metadata": {},
   "outputs": [],
   "source": [
    "from research.strings import INSPECTION_ID, DATE, TARGET, PREDICTORS, OTHER_PREDICTORS\n",
    "from research.evaluation import evaluate_model, show_roc, show_prc\n",
    "from research.utils import get_crit_mat\n",
    "from IPython.display import Image"
   ]
  },
  {
   "cell_type": "code",
   "execution_count": 7,
   "metadata": {},
   "outputs": [
    {
     "name": "stdout",
     "output_type": "stream",
     "text": [
      "Read 18712 records.\n"
     ]
    }
   ],
   "source": [
    "df = pd.read_csv(\"data/inspections.csv\")\n",
    "print(\"Read {} records.\".format(len(df)))"
   ]
  },
  {
   "cell_type": "code",
   "execution_count": 38,
   "metadata": {},
   "outputs": [],
   "source": [
    "BEST_SPLIT = 15762\n",
    "d_train = df.query(\"{} <= {}\".format(DATE, BEST_SPLIT))\n",
    "d_test = df.query(\"{} > {}\".format(DATE, BEST_SPLIT))\n",
    "crit_train = get_crit_mat(d_train)\n",
    "crit_test = get_crit_mat(d_test)\n",
    "X_train = d_train[PREDICTORS]\n",
    "X_test = d_test[PREDICTORS]"
   ]
  },
  {
   "cell_type": "code",
   "execution_count": 39,
   "metadata": {},
   "outputs": [],
   "source": [
    "from sklearn.linear_model import LogisticRegression\n",
    "from sklearn.tree import DecisionTreeClassifier\n",
    "from sklearn.neighbors import KNeighborsClassifier\n",
    "from sklearn.dummy import DummyClassifier"
   ]
  },
  {
   "cell_type": "code",
   "execution_count": 40,
   "metadata": {},
   "outputs": [
    {
     "data": {
      "text/plain": [
       "V1      35\n",
       "V2     290\n",
       "V3     608\n",
       "V4      55\n",
       "V5       0\n",
       "V6     112\n",
       "V7       5\n",
       "V8     191\n",
       "V9      52\n",
       "V10     40\n",
       "V11     79\n",
       "V12    130\n",
       "V13     26\n",
       "V14     11\n",
       "dtype: int64"
      ]
     },
     "execution_count": 40,
     "metadata": {},
     "output_type": "execute_result"
    }
   ],
   "source": [
    "crit_train.sum(axis=0)"
   ]
  },
  {
   "cell_type": "code",
   "execution_count": 41,
   "metadata": {},
   "outputs": [
    {
     "name": "stdout",
     "output_type": "stream",
     "text": [
      "Train: P(VV2) = 0.036, N = 290\n",
      "Test:  P(VV2) = 0.036, N = 379\n",
      "\n",
      "Logistic Regression\n",
      "F1 Score = 0.11926\n",
      "Precision = 0.06597\n",
      "Recall = 0.62005\n"
     ]
    },
    {
     "data": {
      "text/html": [
       "<div>\n",
       "<style scoped>\n",
       "    .dataframe tbody tr th:only-of-type {\n",
       "        vertical-align: middle;\n",
       "    }\n",
       "\n",
       "    .dataframe tbody tr th {\n",
       "        vertical-align: top;\n",
       "    }\n",
       "\n",
       "    .dataframe thead th {\n",
       "        text-align: right;\n",
       "    }\n",
       "</style>\n",
       "<table border=\"1\" class=\"dataframe\">\n",
       "  <thead>\n",
       "    <tr style=\"text-align: right;\">\n",
       "      <th></th>\n",
       "      <th>Predicted +</th>\n",
       "      <th>Predicted -</th>\n",
       "    </tr>\n",
       "  </thead>\n",
       "  <tbody>\n",
       "    <tr>\n",
       "      <th>Actual +</th>\n",
       "      <td>235</td>\n",
       "      <td>144</td>\n",
       "    </tr>\n",
       "    <tr>\n",
       "      <th>Actual -</th>\n",
       "      <td>3327</td>\n",
       "      <td>6885</td>\n",
       "    </tr>\n",
       "  </tbody>\n",
       "</table>\n",
       "</div>"
      ],
      "text/plain": [
       "          Predicted +  Predicted -\n",
       "Actual +          235          144\n",
       "Actual -         3327         6885"
      ]
     },
     "execution_count": 41,
     "metadata": {},
     "output_type": "execute_result"
    }
   ],
   "source": [
    "code = \"V2\"\n",
    "y_train = crit_train[:][code]\n",
    "y_test = crit_test[:][code]\n",
    "print(\"Train: P(V{0}) = {1:.3f}, N = {2}\".format(code, y_train.mean(), y_train.sum()))\n",
    "print(\"Test:  P(V{0}) = {1:.3f}, N = {2}\\n\".format(code, y_test.mean(), y_test.sum()))\n",
    "\n",
    "print(\"Logistic Regression\")\n",
    "clf = LogisticRegression(solver=\"lbfgs\", penalty=\"l2\", class_weight=\"balanced\", max_iter=2000)\n",
    "clf.fit(X_train, y_train)\n",
    "yh = clf.predict(X_test)\n",
    "evaluate_model(y_test, yh)"
   ]
  },
  {
   "cell_type": "code",
   "execution_count": 42,
   "metadata": {},
   "outputs": [
    {
     "name": "stdout",
     "output_type": "stream",
     "text": [
      "AUROC = 0.712\n"
     ]
    },
    {
     "data": {
      "image/png": "[encoded data removed]",
      "text/plain": [
       "<matplotlib.figure.Figure at 0x113874390>"
      ]
     },
     "metadata": {
      "needs_background": "light"
     },
     "output_type": "display_data"
    },
    {
     "name": "stdout",
     "output_type": "stream",
     "text": [
      "AUPRC = 0.091\n",
      "Best F1 = 0.163 at threshold = 0.717\n"
     ]
    },
    {
     "data": {
      "image/png": "[encoded data removed]",
      "text/plain": [
       "<matplotlib.figure.Figure at 0x1152a69e8>"
      ]
     },
     "metadata": {
      "needs_background": "light"
     },
     "output_type": "display_data"
    }
   ],
   "source": [
    "show_roc(clf, X_test, y_test)\n",
    "show_prc(clf, X_test, y_test)"
   ]
  },
  {
   "cell_type": "code",
   "execution_count": 43,
   "metadata": {},
   "outputs": [
    {
     "name": "stdout",
     "output_type": "stream",
     "text": [
      "F1 Score = 0.15395\n",
      "Precision = 0.10345\n",
      "Recall = 0.30079\n"
     ]
    },
    {
     "data": {
      "text/html": [
       "<div>\n",
       "<style scoped>\n",
       "    .dataframe tbody tr th:only-of-type {\n",
       "        vertical-align: middle;\n",
       "    }\n",
       "\n",
       "    .dataframe tbody tr th {\n",
       "        vertical-align: top;\n",
       "    }\n",
       "\n",
       "    .dataframe thead th {\n",
       "        text-align: right;\n",
       "    }\n",
       "</style>\n",
       "<table border=\"1\" class=\"dataframe\">\n",
       "  <thead>\n",
       "    <tr style=\"text-align: right;\">\n",
       "      <th></th>\n",
       "      <th>Predicted +</th>\n",
       "      <th>Predicted -</th>\n",
       "    </tr>\n",
       "  </thead>\n",
       "  <tbody>\n",
       "    <tr>\n",
       "      <th>Actual +</th>\n",
       "      <td>114</td>\n",
       "      <td>265</td>\n",
       "    </tr>\n",
       "    <tr>\n",
       "      <th>Actual -</th>\n",
       "      <td>988</td>\n",
       "      <td>9224</td>\n",
       "    </tr>\n",
       "  </tbody>\n",
       "</table>\n",
       "</div>"
      ],
      "text/plain": [
       "          Predicted +  Predicted -\n",
       "Actual +          114          265\n",
       "Actual -          988         9224"
      ]
     },
     "execution_count": 43,
     "metadata": {},
     "output_type": "execute_result"
    }
   ],
   "source": [
    "yh = (clf.predict_proba(X_test)[:,1] >= 0.693).astype(int)\n",
    "evaluate_model(y_test, yh)"
   ]
  },
  {
   "cell_type": "code",
   "execution_count": 44,
   "metadata": {},
   "outputs": [
    {
     "name": "stdout",
     "output_type": "stream",
     "text": [
      "KNN\n",
      "F1 Score = 0.00000\n",
      "Precision = 0.00000\n",
      "Recall = 0.00000\n"
     ]
    },
    {
     "data": {
      "text/html": [
       "<div>\n",
       "<style scoped>\n",
       "    .dataframe tbody tr th:only-of-type {\n",
       "        vertical-align: middle;\n",
       "    }\n",
       "\n",
       "    .dataframe tbody tr th {\n",
       "        vertical-align: top;\n",
       "    }\n",
       "\n",
       "    .dataframe thead th {\n",
       "        text-align: right;\n",
       "    }\n",
       "</style>\n",
       "<table border=\"1\" class=\"dataframe\">\n",
       "  <thead>\n",
       "    <tr style=\"text-align: right;\">\n",
       "      <th></th>\n",
       "      <th>Predicted +</th>\n",
       "      <th>Predicted -</th>\n",
       "    </tr>\n",
       "  </thead>\n",
       "  <tbody>\n",
       "    <tr>\n",
       "      <th>Actual +</th>\n",
       "      <td>0</td>\n",
       "      <td>379</td>\n",
       "    </tr>\n",
       "    <tr>\n",
       "      <th>Actual -</th>\n",
       "      <td>0</td>\n",
       "      <td>10212</td>\n",
       "    </tr>\n",
       "  </tbody>\n",
       "</table>\n",
       "</div>"
      ],
      "text/plain": [
       "          Predicted +  Predicted -\n",
       "Actual +            0          379\n",
       "Actual -            0        10212"
      ]
     },
     "execution_count": 44,
     "metadata": {},
     "output_type": "execute_result"
    }
   ],
   "source": [
    "print(\"KNN\")\n",
    "clf = KNeighborsClassifier(n_neighbors=10)\n",
    "clf.fit(X_train, y_train)\n",
    "yh = clf.predict(X_test)\n",
    "evaluate_model(y_test, yh)"
   ]
  },
  {
   "cell_type": "code",
   "execution_count": 48,
   "metadata": {},
   "outputs": [],
   "source": [
    "from sklearn.metrics import precision_recall_curve\n",
    "\n",
    "def get_best_threshold(clf, X_test, y_test):\n",
    "    y_score = clf.predict_proba(X_test)[:, 1]\n",
    "    precs, recs, prc_t = precision_recall_curve(y_test, y_score)\n",
    "    best_f1 = -1\n",
    "    best_t = 2\n",
    "    for p, r, t in zip(precs, recs, prc_t):\n",
    "        f1 = (2 * p * r) / (p + r + 1e-10)\n",
    "        if f1 > best_f1:\n",
    "            best_f1 = f1\n",
    "            best_t = t\n",
    "    return best_t, best_f1"
   ]
  },
  {
   "cell_type": "code",
   "execution_count": 49,
   "metadata": {},
   "outputs": [],
   "source": [
    "res = []\n",
    "regs = []\n",
    "for i in range(1, 15):\n",
    "    code = \"V\" + str(i)\n",
    "    y_train = crit_train[:][code]\n",
    "    y_test = crit_test[:][code]\n",
    "    clf = None\n",
    "    if i == 5:\n",
    "        clf = DummyClassifier(strategy=\"most_frequent\")\n",
    "        clf.fit(X_train, [1 if i < 1 else 0 for i, y in enumerate(y_train)])\n",
    "    else:\n",
    "        clf = LogisticRegression(solver=\"lbfgs\", penalty=\"l2\", class_weight=\"balanced\", max_iter=2000)\n",
    "        clf.fit(X_train, y_train)\n",
    "    yh = clf.predict(X_test)\n",
    "    if yh.sum() == 0 and y_test.sum() == 0:\n",
    "        prec = 1\n",
    "        rec = 1\n",
    "        f1 = 1\n",
    "    else:\n",
    "        f1, prec, rec, _, cm = evaluate_model(y_test, yh, verbose=False)\n",
    "    tr, best_f1 = get_best_threshold(clf, X_test, y_test)\n",
    "    regs.append(clf)\n",
    "    res.append({\n",
    "        \"Code\": code,\n",
    "        \"P(Train)\": y_train.mean(),\n",
    "        \"P(Test)\": y_test.mean(),\n",
    "        \"N(Train)\": y_train.sum(),\n",
    "        \"N(Test)\": y_test.sum(),\n",
    "        \"F1\": f1,\n",
    "        \"Precision\": prec,\n",
    "        \"Recall\": rec,\n",
    "        \"Threshold\": tr,\n",
    "        \"BestF1\": best_f1\n",
    "    })"
   ]
  },
  {
   "cell_type": "code",
   "execution_count": 52,
   "metadata": {},
   "outputs": [
    {
     "data": {
      "text/html": [
       "<div>\n",
       "<style scoped>\n",
       "    .dataframe tbody tr th:only-of-type {\n",
       "        vertical-align: middle;\n",
       "    }\n",
       "\n",
       "    .dataframe tbody tr th {\n",
       "        vertical-align: top;\n",
       "    }\n",
       "\n",
       "    .dataframe thead th {\n",
       "        text-align: right;\n",
       "    }\n",
       "</style>\n",
       "<table border=\"1\" class=\"dataframe\">\n",
       "  <thead>\n",
       "    <tr style=\"text-align: right;\">\n",
       "      <th></th>\n",
       "      <th>Code</th>\n",
       "      <th>P(Train)</th>\n",
       "      <th>P(Test)</th>\n",
       "      <th>N(Train)</th>\n",
       "      <th>N(Test)</th>\n",
       "      <th>F1</th>\n",
       "      <th>Precision</th>\n",
       "      <th>Recall</th>\n",
       "      <th>Threshold</th>\n",
       "      <th>BestF1</th>\n",
       "    </tr>\n",
       "  </thead>\n",
       "  <tbody>\n",
       "    <tr>\n",
       "      <th>0</th>\n",
       "      <td>V1</td>\n",
       "      <td>0.004310</td>\n",
       "      <td>0.004060</td>\n",
       "      <td>35</td>\n",
       "      <td>43</td>\n",
       "      <td>0.015634</td>\n",
       "      <td>0.007912</td>\n",
       "      <td>0.651163</td>\n",
       "      <td>0.783648</td>\n",
       "      <td>0.019565</td>\n",
       "    </tr>\n",
       "    <tr>\n",
       "      <th>1</th>\n",
       "      <td>V2</td>\n",
       "      <td>0.035710</td>\n",
       "      <td>0.035785</td>\n",
       "      <td>290</td>\n",
       "      <td>379</td>\n",
       "      <td>0.119259</td>\n",
       "      <td>0.065974</td>\n",
       "      <td>0.620053</td>\n",
       "      <td>0.716939</td>\n",
       "      <td>0.163331</td>\n",
       "    </tr>\n",
       "    <tr>\n",
       "      <th>2</th>\n",
       "      <td>V3</td>\n",
       "      <td>0.074868</td>\n",
       "      <td>0.077707</td>\n",
       "      <td>608</td>\n",
       "      <td>823</td>\n",
       "      <td>0.252812</td>\n",
       "      <td>0.155120</td>\n",
       "      <td>0.682868</td>\n",
       "      <td>0.731717</td>\n",
       "      <td>0.304845</td>\n",
       "    </tr>\n",
       "    <tr>\n",
       "      <th>3</th>\n",
       "      <td>V4</td>\n",
       "      <td>0.006773</td>\n",
       "      <td>0.002833</td>\n",
       "      <td>55</td>\n",
       "      <td>30</td>\n",
       "      <td>0.014041</td>\n",
       "      <td>0.007114</td>\n",
       "      <td>0.533333</td>\n",
       "      <td>0.947281</td>\n",
       "      <td>0.049383</td>\n",
       "    </tr>\n",
       "    <tr>\n",
       "      <th>4</th>\n",
       "      <td>V5</td>\n",
       "      <td>0.000000</td>\n",
       "      <td>0.000094</td>\n",
       "      <td>0</td>\n",
       "      <td>1</td>\n",
       "      <td>0.000000</td>\n",
       "      <td>0.000000</td>\n",
       "      <td>0.000000</td>\n",
       "      <td>0.000000</td>\n",
       "      <td>0.000189</td>\n",
       "    </tr>\n",
       "    <tr>\n",
       "      <th>5</th>\n",
       "      <td>V6</td>\n",
       "      <td>0.013791</td>\n",
       "      <td>0.010386</td>\n",
       "      <td>112</td>\n",
       "      <td>110</td>\n",
       "      <td>0.041754</td>\n",
       "      <td>0.021423</td>\n",
       "      <td>0.818182</td>\n",
       "      <td>0.836754</td>\n",
       "      <td>0.055088</td>\n",
       "    </tr>\n",
       "    <tr>\n",
       "      <th>6</th>\n",
       "      <td>V7</td>\n",
       "      <td>0.000616</td>\n",
       "      <td>0.001133</td>\n",
       "      <td>5</td>\n",
       "      <td>12</td>\n",
       "      <td>0.001166</td>\n",
       "      <td>0.000587</td>\n",
       "      <td>0.083333</td>\n",
       "      <td>0.000007</td>\n",
       "      <td>0.002535</td>\n",
       "    </tr>\n",
       "    <tr>\n",
       "      <th>7</th>\n",
       "      <td>V8</td>\n",
       "      <td>0.023519</td>\n",
       "      <td>0.024171</td>\n",
       "      <td>191</td>\n",
       "      <td>256</td>\n",
       "      <td>0.084500</td>\n",
       "      <td>0.044984</td>\n",
       "      <td>0.695312</td>\n",
       "      <td>0.868866</td>\n",
       "      <td>0.115254</td>\n",
       "    </tr>\n",
       "    <tr>\n",
       "      <th>8</th>\n",
       "      <td>V9</td>\n",
       "      <td>0.006403</td>\n",
       "      <td>0.008120</td>\n",
       "      <td>52</td>\n",
       "      <td>86</td>\n",
       "      <td>0.023290</td>\n",
       "      <td>0.011899</td>\n",
       "      <td>0.546512</td>\n",
       "      <td>0.594559</td>\n",
       "      <td>0.025026</td>\n",
       "    </tr>\n",
       "    <tr>\n",
       "      <th>9</th>\n",
       "      <td>V10</td>\n",
       "      <td>0.004926</td>\n",
       "      <td>0.003966</td>\n",
       "      <td>40</td>\n",
       "      <td>42</td>\n",
       "      <td>0.013612</td>\n",
       "      <td>0.006879</td>\n",
       "      <td>0.642857</td>\n",
       "      <td>0.810696</td>\n",
       "      <td>0.029197</td>\n",
       "    </tr>\n",
       "    <tr>\n",
       "      <th>10</th>\n",
       "      <td>V11</td>\n",
       "      <td>0.009728</td>\n",
       "      <td>0.017751</td>\n",
       "      <td>79</td>\n",
       "      <td>188</td>\n",
       "      <td>0.052474</td>\n",
       "      <td>0.027530</td>\n",
       "      <td>0.558511</td>\n",
       "      <td>0.847704</td>\n",
       "      <td>0.078775</td>\n",
       "    </tr>\n",
       "    <tr>\n",
       "      <th>11</th>\n",
       "      <td>V12</td>\n",
       "      <td>0.016008</td>\n",
       "      <td>0.021433</td>\n",
       "      <td>130</td>\n",
       "      <td>227</td>\n",
       "      <td>0.081342</td>\n",
       "      <td>0.042909</td>\n",
       "      <td>0.779736</td>\n",
       "      <td>0.681846</td>\n",
       "      <td>0.113861</td>\n",
       "    </tr>\n",
       "    <tr>\n",
       "      <th>12</th>\n",
       "      <td>V13</td>\n",
       "      <td>0.003202</td>\n",
       "      <td>0.001605</td>\n",
       "      <td>26</td>\n",
       "      <td>17</td>\n",
       "      <td>0.008578</td>\n",
       "      <td>0.004315</td>\n",
       "      <td>0.705882</td>\n",
       "      <td>0.990836</td>\n",
       "      <td>0.026316</td>\n",
       "    </tr>\n",
       "    <tr>\n",
       "      <th>13</th>\n",
       "      <td>V14</td>\n",
       "      <td>0.001355</td>\n",
       "      <td>0.001322</td>\n",
       "      <td>11</td>\n",
       "      <td>14</td>\n",
       "      <td>0.009930</td>\n",
       "      <td>0.005000</td>\n",
       "      <td>0.714286</td>\n",
       "      <td>0.999560</td>\n",
       "      <td>0.068966</td>\n",
       "    </tr>\n",
       "  </tbody>\n",
       "</table>\n",
       "</div>"
      ],
      "text/plain": [
       "   Code  P(Train)   P(Test)  N(Train)  N(Test)        F1  Precision    Recall  \\\n",
       "0    V1  0.004310  0.004060        35       43  0.015634   0.007912  0.651163   \n",
       "1    V2  0.035710  0.035785       290      379  0.119259   0.065974  0.620053   \n",
       "2    V3  0.074868  0.077707       608      823  0.252812   0.155120  0.682868   \n",
       "3    V4  0.006773  0.002833        55       30  0.014041   0.007114  0.533333   \n",
       "4    V5  0.000000  0.000094         0        1  0.000000   0.000000  0.000000   \n",
       "5    V6  0.013791  0.010386       112      110  0.041754   0.021423  0.818182   \n",
       "6    V7  0.000616  0.001133         5       12  0.001166   0.000587  0.083333   \n",
       "7    V8  0.023519  0.024171       191      256  0.084500   0.044984  0.695312   \n",
       "8    V9  0.006403  0.008120        52       86  0.023290   0.011899  0.546512   \n",
       "9   V10  0.004926  0.003966        40       42  0.013612   0.006879  0.642857   \n",
       "10  V11  0.009728  0.017751        79      188  0.052474   0.027530  0.558511   \n",
       "11  V12  0.016008  0.021433       130      227  0.081342   0.042909  0.779736   \n",
       "12  V13  0.003202  0.001605        26       17  0.008578   0.004315  0.705882   \n",
       "13  V14  0.001355  0.001322        11       14  0.009930   0.005000  0.714286   \n",
       "\n",
       "    Threshold    BestF1  \n",
       "0    0.783648  0.019565  \n",
       "1    0.716939  0.163331  \n",
       "2    0.731717  0.304845  \n",
       "3    0.947281  0.049383  \n",
       "4    0.000000  0.000189  \n",
       "5    0.836754  0.055088  \n",
       "6    0.000007  0.002535  \n",
       "7    0.868866  0.115254  \n",
       "8    0.594559  0.025026  \n",
       "9    0.810696  0.029197  \n",
       "10   0.847704  0.078775  \n",
       "11   0.681846  0.113861  \n",
       "12   0.990836  0.026316  \n",
       "13   0.999560  0.068966  "
      ]
     },
     "execution_count": 52,
     "metadata": {},
     "output_type": "execute_result"
    }
   ],
   "source": [
    "info = [\n",
    "    \"Code\",\n",
    "    \"P(Train)\",\n",
    "    \"P(Test)\",\n",
    "    \"N(Train)\",\n",
    "    \"N(Test)\",\n",
    "    \"F1\",\n",
    "    \"Precision\",\n",
    "    \"Recall\",\n",
    "    \"Threshold\",\n",
    "    \"BestF1\"\n",
    "]\n",
    "viol_logs = pd.DataFrame(res)[info]\n",
    "viol_logs"
   ]
  },
  {
   "cell_type": "code",
   "execution_count": 53,
   "metadata": {},
   "outputs": [],
   "source": [
    "import pickle\n",
    "from research.metrics import to_inspection_daynum, show_metrics, compare_metrics"
   ]
  },
  {
   "cell_type": "code",
   "execution_count": 54,
   "metadata": {},
   "outputs": [
    {
     "name": "stdout",
     "output_type": "stream",
     "text": [
      "F1 Score = 0.04084\n",
      "Precision = 0.50769\n",
      "Recall = 0.02128\n"
     ]
    },
    {
     "data": {
      "text/html": [
       "<div>\n",
       "<style scoped>\n",
       "    .dataframe tbody tr th:only-of-type {\n",
       "        vertical-align: middle;\n",
       "    }\n",
       "\n",
       "    .dataframe tbody tr th {\n",
       "        vertical-align: top;\n",
       "    }\n",
       "\n",
       "    .dataframe thead th {\n",
       "        text-align: right;\n",
       "    }\n",
       "</style>\n",
       "<table border=\"1\" class=\"dataframe\">\n",
       "  <thead>\n",
       "    <tr style=\"text-align: right;\">\n",
       "      <th></th>\n",
       "      <th>Predicted +</th>\n",
       "      <th>Predicted -</th>\n",
       "    </tr>\n",
       "  </thead>\n",
       "  <tbody>\n",
       "    <tr>\n",
       "      <th>Actual +</th>\n",
       "      <td>33</td>\n",
       "      <td>1518</td>\n",
       "    </tr>\n",
       "    <tr>\n",
       "      <th>Actual -</th>\n",
       "      <td>32</td>\n",
       "      <td>9008</td>\n",
       "    </tr>\n",
       "  </tbody>\n",
       "</table>\n",
       "</div>"
      ],
      "text/plain": [
       "          Predicted +  Predicted -\n",
       "Actual +           33         1518\n",
       "Actual -           32         9008"
      ]
     },
     "execution_count": 54,
     "metadata": {},
     "output_type": "execute_result"
    }
   ],
   "source": [
    "y_true = d_test[TARGET]\n",
    "days = to_inspection_daynum(d_test[\"Inspection_Date\"])\n",
    "city = pickle.load(open(\"models/sklearn-glm.pkl\", \"rb\"))\n",
    "evaluate_model(y_true, city.predict(X_test))"
   ]
  },
  {
   "cell_type": "code",
   "execution_count": 55,
   "metadata": {},
   "outputs": [
    {
     "name": "stdout",
     "output_type": "stream",
     "text": [
      "F1 Score = 0.28020\n",
      "Precision = 0.16474\n",
      "Recall = 0.93681\n"
     ]
    },
    {
     "data": {
      "text/html": [
       "<div>\n",
       "<style scoped>\n",
       "    .dataframe tbody tr th:only-of-type {\n",
       "        vertical-align: middle;\n",
       "    }\n",
       "\n",
       "    .dataframe tbody tr th {\n",
       "        vertical-align: top;\n",
       "    }\n",
       "\n",
       "    .dataframe thead th {\n",
       "        text-align: right;\n",
       "    }\n",
       "</style>\n",
       "<table border=\"1\" class=\"dataframe\">\n",
       "  <thead>\n",
       "    <tr style=\"text-align: right;\">\n",
       "      <th></th>\n",
       "      <th>Predicted +</th>\n",
       "      <th>Predicted -</th>\n",
       "    </tr>\n",
       "  </thead>\n",
       "  <tbody>\n",
       "    <tr>\n",
       "      <th>Actual +</th>\n",
       "      <td>1453</td>\n",
       "      <td>98</td>\n",
       "    </tr>\n",
       "    <tr>\n",
       "      <th>Actual -</th>\n",
       "      <td>7367</td>\n",
       "      <td>1673</td>\n",
       "    </tr>\n",
       "  </tbody>\n",
       "</table>\n",
       "</div>"
      ],
      "text/plain": [
       "          Predicted +  Predicted -\n",
       "Actual +         1453           98\n",
       "Actual -         7367         1673"
      ]
     },
     "execution_count": 55,
     "metadata": {},
     "output_type": "execute_result"
    }
   ],
   "source": [
    "y_crits = np.array([clf.predict(X_test) for clf in regs])\n",
    "y_pred = y_crits.max(axis=0)\n",
    "evaluate_model(y_true, y_pred)"
   ]
  },
  {
   "cell_type": "code",
   "execution_count": 56,
   "metadata": {},
   "outputs": [
    {
     "name": "stdout",
     "output_type": "stream",
     "text": [
      "F1 Score = 0.25548\n",
      "Precision = 0.14645\n",
      "Recall = 1.00000\n"
     ]
    },
    {
     "data": {
      "text/html": [
       "<div>\n",
       "<style scoped>\n",
       "    .dataframe tbody tr th:only-of-type {\n",
       "        vertical-align: middle;\n",
       "    }\n",
       "\n",
       "    .dataframe tbody tr th {\n",
       "        vertical-align: top;\n",
       "    }\n",
       "\n",
       "    .dataframe thead th {\n",
       "        text-align: right;\n",
       "    }\n",
       "</style>\n",
       "<table border=\"1\" class=\"dataframe\">\n",
       "  <thead>\n",
       "    <tr style=\"text-align: right;\">\n",
       "      <th></th>\n",
       "      <th>Predicted +</th>\n",
       "      <th>Predicted -</th>\n",
       "    </tr>\n",
       "  </thead>\n",
       "  <tbody>\n",
       "    <tr>\n",
       "      <th>Actual +</th>\n",
       "      <td>1551</td>\n",
       "      <td>0</td>\n",
       "    </tr>\n",
       "    <tr>\n",
       "      <th>Actual -</th>\n",
       "      <td>9040</td>\n",
       "      <td>0</td>\n",
       "    </tr>\n",
       "  </tbody>\n",
       "</table>\n",
       "</div>"
      ],
      "text/plain": [
       "          Predicted +  Predicted -\n",
       "Actual +         1551            0\n",
       "Actual -         9040            0"
      ]
     },
     "execution_count": 56,
     "metadata": {},
     "output_type": "execute_result"
    }
   ],
   "source": [
    "tr_arr = np.array([r[\"Threshold\"] for r in res])\n",
    "y_crits_proba = np.array([clf.predict_proba(X_test)[:,1] for clf in regs])\n",
    "yt_mat = np.array([(y_crits_proba[:,i] >= tr_arr).astype(int) for i in range(len(X_test))]).T\n",
    "y_pred_proba = yt_mat.max(axis=0)\n",
    "evaluate_model(y_true, y_pred_proba)"
   ]
  },
  {
   "cell_type": "code",
   "execution_count": 57,
   "metadata": {},
   "outputs": [
    {
     "data": {
      "text/plain": [
       "array([ 0.3653285 ,  0.49668651,  0.56383592,  0.62145789,  0.        ,\n",
       "        0.74837314,  0.04572783,  0.60493452,  0.56038036,  0.69983049,\n",
       "        0.7294628 ,  0.56834216,  0.55968781,  0.04927243])"
      ]
     },
     "execution_count": 57,
     "metadata": {},
     "output_type": "execute_result"
    }
   ],
   "source": [
    "y_crits_proba[:,0]"
   ]
  },
  {
   "cell_type": "code",
   "execution_count": 58,
   "metadata": {},
   "outputs": [
    {
     "data": {
      "text/plain": [
       "array([ 0.11539784,  0.1165016 ,  0.10468282, ...,  0.03554305,\n",
       "        0.0276389 ,  0.07572383])"
      ]
     },
     "execution_count": 58,
     "metadata": {},
     "output_type": "execute_result"
    }
   ],
   "source": [
    "freq = crit_train.mean(axis=0)\n",
    "np.dot(freq, y_crits_proba)"
   ]
  },
  {
   "cell_type": "code",
   "execution_count": 62,
   "metadata": {},
   "outputs": [
    {
     "data": {
      "image/png": "[encoded data removed]",
      "text/plain": [
       "<matplotlib.figure.Figure at 0x1155c1c18>"
      ]
     },
     "metadata": {
      "needs_background": "light"
     },
     "output_type": "display_data"
    },
    {
     "data": {
      "text/html": [
       "<div>\n",
       "<style scoped>\n",
       "    .dataframe tbody tr th:only-of-type {\n",
       "        vertical-align: middle;\n",
       "    }\n",
       "\n",
       "    .dataframe tbody tr th {\n",
       "        vertical-align: top;\n",
       "    }\n",
       "\n",
       "    .dataframe thead th {\n",
       "        text-align: right;\n",
       "    }\n",
       "</style>\n",
       "<table border=\"1\" class=\"dataframe\">\n",
       "  <thead>\n",
       "    <tr style=\"text-align: right;\">\n",
       "      <th></th>\n",
       "      <th>Model</th>\n",
       "      <th>First Half</th>\n",
       "      <th>Mean Change</th>\n",
       "      <th>Std. Change</th>\n",
       "    </tr>\n",
       "  </thead>\n",
       "  <tbody>\n",
       "    <tr>\n",
       "      <th>0</th>\n",
       "      <td>City Model</td>\n",
       "      <td>0.778</td>\n",
       "      <td>117.912</td>\n",
       "      <td>227.220</td>\n",
       "    </tr>\n",
       "    <tr>\n",
       "      <th>5</th>\n",
       "      <td>Violations Proba Freq</td>\n",
       "      <td>0.768</td>\n",
       "      <td>113.060</td>\n",
       "      <td>230.871</td>\n",
       "    </tr>\n",
       "    <tr>\n",
       "      <th>4</th>\n",
       "      <td>Violations Proba Mean</td>\n",
       "      <td>0.756</td>\n",
       "      <td>109.675</td>\n",
       "      <td>230.936</td>\n",
       "    </tr>\n",
       "    <tr>\n",
       "      <th>1</th>\n",
       "      <td>Violations Mean</td>\n",
       "      <td>0.754</td>\n",
       "      <td>106.690</td>\n",
       "      <td>230.525</td>\n",
       "    </tr>\n",
       "    <tr>\n",
       "      <th>2</th>\n",
       "      <td>Violations Freq</td>\n",
       "      <td>0.752</td>\n",
       "      <td>107.006</td>\n",
       "      <td>230.790</td>\n",
       "    </tr>\n",
       "    <tr>\n",
       "      <th>3</th>\n",
       "      <td>Violations Proba Max</td>\n",
       "      <td>0.686</td>\n",
       "      <td>75.772</td>\n",
       "      <td>237.941</td>\n",
       "    </tr>\n",
       "  </tbody>\n",
       "</table>\n",
       "</div>"
      ],
      "text/plain": [
       "                   Model  First Half  Mean Change  Std. Change\n",
       "0             City Model       0.778      117.912      227.220\n",
       "5  Violations Proba Freq       0.768      113.060      230.871\n",
       "4  Violations Proba Mean       0.756      109.675      230.936\n",
       "1        Violations Mean       0.754      106.690      230.525\n",
       "2        Violations Freq       0.752      107.006      230.790\n",
       "3   Violations Proba Max       0.686       75.772      237.941"
      ]
     },
     "execution_count": 62,
     "metadata": {},
     "output_type": "execute_result"
    }
   ],
   "source": [
    "all_models = [\n",
    "    (\"City Model\", city.predict_proba(X_test)[:,1]),\n",
    "    (\"Violations Mean\", y_crits.mean(axis=0)),\n",
    "    (\"Violations Freq\", np.dot(crit_train.mean(axis=0), y_crits)),\n",
    "    (\"Violations Proba Max\", y_crits_proba.max(axis=0)),\n",
    "    (\"Violations Proba Mean\", y_crits_proba.mean(axis=0)),\n",
    "    (\"Violations Proba Freq\", np.dot(crit_train.mean(axis=0), y_crits_proba)),\n",
    "]\n",
    "compare_metrics(y_true, days, all_models)"
   ]
  },
  {
   "cell_type": "code",
   "execution_count": 63,
   "metadata": {},
   "outputs": [
    {
     "data": {
      "image/png": "[encoded data removed]",
      "text/plain": [
       "<matplotlib.figure.Figure at 0x11ad9cc88>"
      ]
     },
     "metadata": {
      "needs_background": "light"
     },
     "output_type": "display_data"
    },
    {
     "data": {
      "text/html": [
       "<div>\n",
       "<style scoped>\n",
       "    .dataframe tbody tr th:only-of-type {\n",
       "        vertical-align: middle;\n",
       "    }\n",
       "\n",
       "    .dataframe tbody tr th {\n",
       "        vertical-align: top;\n",
       "    }\n",
       "\n",
       "    .dataframe thead th {\n",
       "        text-align: right;\n",
       "    }\n",
       "</style>\n",
       "<table border=\"1\" class=\"dataframe\">\n",
       "  <thead>\n",
       "    <tr style=\"text-align: right;\">\n",
       "      <th></th>\n",
       "      <th>Model</th>\n",
       "      <th>First Half</th>\n",
       "      <th>Mean Change</th>\n",
       "      <th>Std. Change</th>\n",
       "    </tr>\n",
       "  </thead>\n",
       "  <tbody>\n",
       "    <tr>\n",
       "      <th>0</th>\n",
       "      <td>City Model</td>\n",
       "      <td>0.778</td>\n",
       "      <td>117.912</td>\n",
       "      <td>227.220</td>\n",
       "    </tr>\n",
       "    <tr>\n",
       "      <th>1</th>\n",
       "      <td>Violations Proba Freq</td>\n",
       "      <td>0.768</td>\n",
       "      <td>113.060</td>\n",
       "      <td>230.871</td>\n",
       "    </tr>\n",
       "  </tbody>\n",
       "</table>\n",
       "</div>"
      ],
      "text/plain": [
       "                   Model  First Half  Mean Change  Std. Change\n",
       "0             City Model       0.778      117.912      227.220\n",
       "1  Violations Proba Freq       0.768      113.060      230.871"
      ]
     },
     "execution_count": 63,
     "metadata": {},
     "output_type": "execute_result"
    }
   ],
   "source": [
    "some_models = [\n",
    "    (\"City Model\", city.predict_proba(X_test)[:,1]),\n",
    "    (\"Violations Proba Freq\", np.dot(crit_train.mean(axis=0), y_crits_proba)),\n",
    "]\n",
    "compare_metrics(y_true, days, some_models)"
   ]
  },
  {
   "cell_type": "code",
   "execution_count": 66,
   "metadata": {},
   "outputs": [
    {
     "name": "stdout",
     "output_type": "stream",
     "text": [
      "Original Test Set: N = 1637, P(criticalFound) = 0.158\n"
     ]
    }
   ],
   "source": [
    "SPLIT_DATE = 16252\n",
    "d_train_orig = df.query(\"{} <= {}\".format(DATE, SPLIT_DATE))\n",
    "d_test_orig = df.query(\"{} > {}\".format(DATE, SPLIT_DATE))\n",
    "X_test_orig = d_test_orig[PREDICTORS]\n",
    "y_test_orig = d_test_orig[TARGET]\n",
    "print(\"Original Test Set: N = {0}, P({1}) = {2:.3f}\".format(len(X_test_orig), TARGET, y_test_orig.mean()))"
   ]
  },
  {
   "cell_type": "code",
   "execution_count": 76,
   "metadata": {},
   "outputs": [
    {
     "name": "stdout",
     "output_type": "stream",
     "text": [
      "F1 Score = 0.29283\n",
      "Precision = 0.17446\n",
      "Recall = 0.91085\n"
     ]
    },
    {
     "data": {
      "text/html": [
       "<div>\n",
       "<style scoped>\n",
       "    .dataframe tbody tr th:only-of-type {\n",
       "        vertical-align: middle;\n",
       "    }\n",
       "\n",
       "    .dataframe tbody tr th {\n",
       "        vertical-align: top;\n",
       "    }\n",
       "\n",
       "    .dataframe thead th {\n",
       "        text-align: right;\n",
       "    }\n",
       "</style>\n",
       "<table border=\"1\" class=\"dataframe\">\n",
       "  <thead>\n",
       "    <tr style=\"text-align: right;\">\n",
       "      <th></th>\n",
       "      <th>Predicted +</th>\n",
       "      <th>Predicted -</th>\n",
       "    </tr>\n",
       "  </thead>\n",
       "  <tbody>\n",
       "    <tr>\n",
       "      <th>Actual +</th>\n",
       "      <td>235</td>\n",
       "      <td>23</td>\n",
       "    </tr>\n",
       "    <tr>\n",
       "      <th>Actual -</th>\n",
       "      <td>1112</td>\n",
       "      <td>267</td>\n",
       "    </tr>\n",
       "  </tbody>\n",
       "</table>\n",
       "</div>"
      ],
      "text/plain": [
       "          Predicted +  Predicted -\n",
       "Actual +          235           23\n",
       "Actual -         1112          267"
      ]
     },
     "execution_count": 76,
     "metadata": {},
     "output_type": "execute_result"
    }
   ],
   "source": [
    "y_crits_orig = np.array([clf.predict(X_test_orig) for clf in regs])\n",
    "y_pred_orig = y_crits_orig.max(axis=0)\n",
    "evaluate_model(y_test_orig, y_pred_orig)"
   ]
  },
  {
   "cell_type": "code",
   "execution_count": 70,
   "metadata": {},
   "outputs": [
    {
     "name": "stdout",
     "output_type": "stream",
     "text": [
      "F1 Score = 0.27230\n",
      "Precision = 0.15761\n",
      "Recall = 1.00000\n"
     ]
    },
    {
     "data": {
      "text/html": [
       "<div>\n",
       "<style scoped>\n",
       "    .dataframe tbody tr th:only-of-type {\n",
       "        vertical-align: middle;\n",
       "    }\n",
       "\n",
       "    .dataframe tbody tr th {\n",
       "        vertical-align: top;\n",
       "    }\n",
       "\n",
       "    .dataframe thead th {\n",
       "        text-align: right;\n",
       "    }\n",
       "</style>\n",
       "<table border=\"1\" class=\"dataframe\">\n",
       "  <thead>\n",
       "    <tr style=\"text-align: right;\">\n",
       "      <th></th>\n",
       "      <th>Predicted +</th>\n",
       "      <th>Predicted -</th>\n",
       "    </tr>\n",
       "  </thead>\n",
       "  <tbody>\n",
       "    <tr>\n",
       "      <th>Actual +</th>\n",
       "      <td>258</td>\n",
       "      <td>0</td>\n",
       "    </tr>\n",
       "    <tr>\n",
       "      <th>Actual -</th>\n",
       "      <td>1379</td>\n",
       "      <td>0</td>\n",
       "    </tr>\n",
       "  </tbody>\n",
       "</table>\n",
       "</div>"
      ],
      "text/plain": [
       "          Predicted +  Predicted -\n",
       "Actual +          258            0\n",
       "Actual -         1379            0"
      ]
     },
     "execution_count": 70,
     "metadata": {},
     "output_type": "execute_result"
    }
   ],
   "source": [
    "y_crits_proba_orig = np.array([clf.predict_proba(X_test_orig)[:,1] for clf in regs])\n",
    "yt_mat_orig = np.array([(y_crits_proba_orig[:,i] >= tr_arr).astype(int) for i in range(len(X_test_orig))]).T\n",
    "y_pred_proba_orig = yt_mat_orig.max(axis=0)\n",
    "evaluate_model(y_test_orig, y_pred_proba_orig)"
   ]
  },
  {
   "cell_type": "code",
   "execution_count": 71,
   "metadata": {},
   "outputs": [
    {
     "data": {
      "text/plain": [
       "array([ 0.14313816,  0.11905332,  0.08593161, ...,  0.03513869,\n",
       "        0.0278164 ,  0.07704238])"
      ]
     },
     "execution_count": 71,
     "metadata": {},
     "output_type": "execute_result"
    }
   ],
   "source": [
    "crit_train_orig = get_crit_mat(d_train_orig)\n",
    "freq_orig = crit_train_orig.mean(axis=0)\n",
    "np.dot(freq_orig, y_crits_proba_orig)"
   ]
  },
  {
   "cell_type": "code",
   "execution_count": 74,
   "metadata": {},
   "outputs": [
    {
     "data": {
      "image/png": "[encoded data removed]",
      "text/plain": [
       "<matplotlib.figure.Figure at 0x11b2b0c50>"
      ]
     },
     "metadata": {
      "needs_background": "light"
     },
     "output_type": "display_data"
    },
    {
     "data": {
      "text/html": [
       "<div>\n",
       "<style scoped>\n",
       "    .dataframe tbody tr th:only-of-type {\n",
       "        vertical-align: middle;\n",
       "    }\n",
       "\n",
       "    .dataframe tbody tr th {\n",
       "        vertical-align: top;\n",
       "    }\n",
       "\n",
       "    .dataframe thead th {\n",
       "        text-align: right;\n",
       "    }\n",
       "</style>\n",
       "<table border=\"1\" class=\"dataframe\">\n",
       "  <thead>\n",
       "    <tr style=\"text-align: right;\">\n",
       "      <th></th>\n",
       "      <th>Model</th>\n",
       "      <th>First Half</th>\n",
       "      <th>Mean Change</th>\n",
       "      <th>Std. Change</th>\n",
       "    </tr>\n",
       "  </thead>\n",
       "  <tbody>\n",
       "    <tr>\n",
       "      <th>0</th>\n",
       "      <td>City Model</td>\n",
       "      <td>0.690</td>\n",
       "      <td>7.438</td>\n",
       "      <td>25.156</td>\n",
       "    </tr>\n",
       "    <tr>\n",
       "      <th>1</th>\n",
       "      <td>Violations Mean</td>\n",
       "      <td>0.678</td>\n",
       "      <td>5.581</td>\n",
       "      <td>25.652</td>\n",
       "    </tr>\n",
       "    <tr>\n",
       "      <th>6</th>\n",
       "      <td>Violations Proba Freq</td>\n",
       "      <td>0.671</td>\n",
       "      <td>7.128</td>\n",
       "      <td>24.602</td>\n",
       "    </tr>\n",
       "    <tr>\n",
       "      <th>3</th>\n",
       "      <td>Violations Freq</td>\n",
       "      <td>0.671</td>\n",
       "      <td>5.570</td>\n",
       "      <td>25.090</td>\n",
       "    </tr>\n",
       "    <tr>\n",
       "      <th>5</th>\n",
       "      <td>Violations Proba Mean</td>\n",
       "      <td>0.659</td>\n",
       "      <td>6.306</td>\n",
       "      <td>25.195</td>\n",
       "    </tr>\n",
       "    <tr>\n",
       "      <th>4</th>\n",
       "      <td>Violations Proba Max</td>\n",
       "      <td>0.640</td>\n",
       "      <td>4.306</td>\n",
       "      <td>25.880</td>\n",
       "    </tr>\n",
       "    <tr>\n",
       "      <th>2</th>\n",
       "      <td>Violations Max</td>\n",
       "      <td>0.539</td>\n",
       "      <td>0.690</td>\n",
       "      <td>25.066</td>\n",
       "    </tr>\n",
       "  </tbody>\n",
       "</table>\n",
       "</div>"
      ],
      "text/plain": [
       "                   Model  First Half  Mean Change  Std. Change\n",
       "0             City Model       0.690        7.438       25.156\n",
       "1        Violations Mean       0.678        5.581       25.652\n",
       "6  Violations Proba Freq       0.671        7.128       24.602\n",
       "3        Violations Freq       0.671        5.570       25.090\n",
       "5  Violations Proba Mean       0.659        6.306       25.195\n",
       "4   Violations Proba Max       0.640        4.306       25.880\n",
       "2         Violations Max       0.539        0.690       25.066"
      ]
     },
     "execution_count": 74,
     "metadata": {},
     "output_type": "execute_result"
    }
   ],
   "source": [
    "all_models_orig = [\n",
    "    (\"City Model\", city.predict_proba(X_test_orig)[:,1]),\n",
    "    (\"Violations Mean\", y_crits_orig.mean(axis=0)),\n",
    "    (\"Violations Max\", y_crits_orig.max(axis=0)),\n",
    "    (\"Violations Freq\", np.dot(crit_train_orig.mean(axis=0), y_crits_orig)),\n",
    "    (\"Violations Proba Max\", y_crits_proba_orig.max(axis=0)),\n",
    "    (\"Violations Proba Mean\", y_crits_proba_orig.mean(axis=0)),\n",
    "    (\"Violations Proba Freq\", np.dot(crit_train_orig.mean(axis=0), y_crits_proba_orig)),\n",
    "]\n",
    "days_orig = to_inspection_daynum(d_test_orig[DATE])\n",
    "compare_metrics(y_test_orig, days_orig, all_models_orig)"
   ]
  },
  {
   "cell_type": "code",
   "execution_count": 73,
   "metadata": {},
   "outputs": [
    {
     "data": {
      "image/png": "[encoded data removed]",
      "text/plain": [
       "<matplotlib.figure.Figure at 0x11b9762b0>"
      ]
     },
     "metadata": {
      "needs_background": "light"
     },
     "output_type": "display_data"
    },
    {
     "data": {
      "text/html": [
       "<div>\n",
       "<style scoped>\n",
       "    .dataframe tbody tr th:only-of-type {\n",
       "        vertical-align: middle;\n",
       "    }\n",
       "\n",
       "    .dataframe tbody tr th {\n",
       "        vertical-align: top;\n",
       "    }\n",
       "\n",
       "    .dataframe thead th {\n",
       "        text-align: right;\n",
       "    }\n",
       "</style>\n",
       "<table border=\"1\" class=\"dataframe\">\n",
       "  <thead>\n",
       "    <tr style=\"text-align: right;\">\n",
       "      <th></th>\n",
       "      <th>Model</th>\n",
       "      <th>First Half</th>\n",
       "      <th>Mean Change</th>\n",
       "      <th>Std. Change</th>\n",
       "    </tr>\n",
       "  </thead>\n",
       "  <tbody>\n",
       "    <tr>\n",
       "      <th>0</th>\n",
       "      <td>City Model</td>\n",
       "      <td>0.690</td>\n",
       "      <td>7.438</td>\n",
       "      <td>25.156</td>\n",
       "    </tr>\n",
       "    <tr>\n",
       "      <th>1</th>\n",
       "      <td>Violations Proba Freq</td>\n",
       "      <td>0.671</td>\n",
       "      <td>7.128</td>\n",
       "      <td>24.602</td>\n",
       "    </tr>\n",
       "  </tbody>\n",
       "</table>\n",
       "</div>"
      ],
      "text/plain": [
       "                   Model  First Half  Mean Change  Std. Change\n",
       "0             City Model       0.690        7.438       25.156\n",
       "1  Violations Proba Freq       0.671        7.128       24.602"
      ]
     },
     "execution_count": 73,
     "metadata": {},
     "output_type": "execute_result"
    }
   ],
   "source": [
    "some_models_orig = [\n",
    "    (\"City Model\", city.predict_proba(X_test_orig)[:,1]),\n",
    "    (\"Violations Proba Freq\", np.dot(crit_train_orig.mean(axis=0), y_crits_proba_orig))\n",
    "]\n",
    "compare_metrics(y_test_orig, days_orig, some_models_orig)"
   ]
  },
  {
   "cell_type": "code",
   "execution_count": null,
   "metadata": {},
   "outputs": [],
   "source": []
  }
 ],
 "metadata": {
  "kernelspec": {
   "display_name": "Python 3",
   "language": "python",
   "name": "python3"
  },
  "language_info": {
   "codemirror_mode": {
    "name": "ipython",
    "version": 3
   },
   "file_extension": ".py",
   "mimetype": "text/x-python",
   "name": "python",
   "nbconvert_exporter": "python",
   "pygments_lexer": "ipython3",
   "version": "3.6.1"
  },
  "varInspector": {
   "cols": {
    "lenName": 16,
    "lenType": 16,
    "lenVar": 40
   },
   "kernels_config": {
    "python": {
     "delete_cmd_postfix": "",
     "delete_cmd_prefix": "del ",
     "library": "var_list.py",
     "varRefreshCmd": "print(var_dic_list())"
    },
    "r": {
     "delete_cmd_postfix": ") ",
     "delete_cmd_prefix": "rm(",
     "library": "var_list.r",
     "varRefreshCmd": "cat(var_dic_list()) "
    }
   },
   "types_to_exclude": [
    "module",
    "function",
    "builtin_function_or_method",
    "instance",
    "_Feature"
   ],
   "window_display": false
  }
 },
 "nbformat": 4,
 "nbformat_minor": 2
}
