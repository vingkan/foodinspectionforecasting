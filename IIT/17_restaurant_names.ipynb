{
 "cells": [
  {
   "cell_type": "code",
   "execution_count": 1,
   "metadata": {},
   "outputs": [],
   "source": [
    "import pandas as pd\n",
    "import numpy as np\n",
    "import scipy.stats as stat\n",
    "%matplotlib inline\n",
    "import matplotlib.pyplot as plt\n",
    "import seaborn as sns\n",
    "import pickle\n",
    "import math"
   ]
  },
  {
   "cell_type": "code",
   "execution_count": 3,
   "metadata": {},
   "outputs": [
    {
     "name": "stdout",
     "output_type": "stream",
     "text": [
      "Read 50462 records.\n"
     ]
    }
   ],
   "source": [
    "df_canvass = pd.read_csv(\"data/canvass_records.csv.gz\")\n",
    "print(\"Read {} records.\".format(len(df_canvass)))"
   ]
  },
  {
   "cell_type": "code",
   "execution_count": 56,
   "metadata": {},
   "outputs": [
    {
     "name": "stdout",
     "output_type": "stream",
     "text": [
      "Read 17088 records.\n"
     ]
    }
   ],
   "source": [
    "df_complaint = pd.read_csv(\"data/complaint_records.csv.gz\")\n",
    "print(\"Read {} records.\".format(len(df_complaint)))"
   ]
  },
  {
   "cell_type": "code",
   "execution_count": 4,
   "metadata": {},
   "outputs": [
    {
     "data": {
      "text/html": [
       "<div>\n",
       "<style scoped>\n",
       "    .dataframe tbody tr th:only-of-type {\n",
       "        vertical-align: middle;\n",
       "    }\n",
       "\n",
       "    .dataframe tbody tr th {\n",
       "        vertical-align: top;\n",
       "    }\n",
       "\n",
       "    .dataframe thead th {\n",
       "        text-align: right;\n",
       "    }\n",
       "</style>\n",
       "<table border=\"1\" class=\"dataframe\">\n",
       "  <thead>\n",
       "    <tr style=\"text-align: right;\">\n",
       "      <th></th>\n",
       "      <th>inspection_id</th>\n",
       "      <th>address</th>\n",
       "      <th>aka_name</th>\n",
       "      <th>city</th>\n",
       "      <th>dba_name</th>\n",
       "      <th>facility_type</th>\n",
       "      <th>inspection_date</th>\n",
       "      <th>inspection_type</th>\n",
       "      <th>latitude</th>\n",
       "      <th>license_id</th>\n",
       "      <th>...</th>\n",
       "      <th>V5</th>\n",
       "      <th>V6</th>\n",
       "      <th>V7</th>\n",
       "      <th>V8</th>\n",
       "      <th>V9</th>\n",
       "      <th>V10</th>\n",
       "      <th>V11</th>\n",
       "      <th>V12</th>\n",
       "      <th>V13</th>\n",
       "      <th>V14</th>\n",
       "    </tr>\n",
       "  </thead>\n",
       "  <tbody>\n",
       "    <tr>\n",
       "      <th>0</th>\n",
       "      <td>1981667</td>\n",
       "      <td>1725 W 47TH ST</td>\n",
       "      <td>BELLAS FUENTEZ</td>\n",
       "      <td>CHICAGO</td>\n",
       "      <td>BELLAS FUENTEZ</td>\n",
       "      <td>Restaurant</td>\n",
       "      <td>2017-01-19T00:00:00.000</td>\n",
       "      <td>Canvass</td>\n",
       "      <td>41.808460</td>\n",
       "      <td>1356217</td>\n",
       "      <td>...</td>\n",
       "      <td>0</td>\n",
       "      <td>0</td>\n",
       "      <td>0</td>\n",
       "      <td>0</td>\n",
       "      <td>0</td>\n",
       "      <td>0</td>\n",
       "      <td>0</td>\n",
       "      <td>0</td>\n",
       "      <td>0</td>\n",
       "      <td>0</td>\n",
       "    </tr>\n",
       "    <tr>\n",
       "      <th>1</th>\n",
       "      <td>1453500</td>\n",
       "      <td>65 W JACKSON BLVD</td>\n",
       "      <td>CARVERY</td>\n",
       "      <td>CHICAGO</td>\n",
       "      <td>CARVERY</td>\n",
       "      <td>Restaurant</td>\n",
       "      <td>2014-08-26T00:00:00.000</td>\n",
       "      <td>Canvass</td>\n",
       "      <td>41.878046</td>\n",
       "      <td>43330</td>\n",
       "      <td>...</td>\n",
       "      <td>0</td>\n",
       "      <td>0</td>\n",
       "      <td>0</td>\n",
       "      <td>0</td>\n",
       "      <td>0</td>\n",
       "      <td>0</td>\n",
       "      <td>0</td>\n",
       "      <td>0</td>\n",
       "      <td>0</td>\n",
       "      <td>0</td>\n",
       "    </tr>\n",
       "    <tr>\n",
       "      <th>2</th>\n",
       "      <td>1102252</td>\n",
       "      <td>11601 W TOUHY AVE</td>\n",
       "      <td>THE GREAT AMERICAN BAGEL/T3 K2</td>\n",
       "      <td>CHICAGO</td>\n",
       "      <td>THE GREAT AMERICAN BAGEL</td>\n",
       "      <td>Restaurant</td>\n",
       "      <td>2012-05-07T00:00:00.000</td>\n",
       "      <td>Canvass</td>\n",
       "      <td>42.008536</td>\n",
       "      <td>1879167</td>\n",
       "      <td>...</td>\n",
       "      <td>0</td>\n",
       "      <td>0</td>\n",
       "      <td>0</td>\n",
       "      <td>0</td>\n",
       "      <td>0</td>\n",
       "      <td>0</td>\n",
       "      <td>0</td>\n",
       "      <td>0</td>\n",
       "      <td>0</td>\n",
       "      <td>0</td>\n",
       "    </tr>\n",
       "    <tr>\n",
       "      <th>3</th>\n",
       "      <td>68091</td>\n",
       "      <td>2804 N CLARK ST</td>\n",
       "      <td>Wells Street Popcorn</td>\n",
       "      <td>CHICAGO</td>\n",
       "      <td>Wells Street Popcorn</td>\n",
       "      <td>Restaurant</td>\n",
       "      <td>2010-02-01T00:00:00.000</td>\n",
       "      <td>Canvass</td>\n",
       "      <td>41.932921</td>\n",
       "      <td>1954774</td>\n",
       "      <td>...</td>\n",
       "      <td>0</td>\n",
       "      <td>0</td>\n",
       "      <td>0</td>\n",
       "      <td>0</td>\n",
       "      <td>0</td>\n",
       "      <td>0</td>\n",
       "      <td>0</td>\n",
       "      <td>0</td>\n",
       "      <td>0</td>\n",
       "      <td>0</td>\n",
       "    </tr>\n",
       "    <tr>\n",
       "      <th>4</th>\n",
       "      <td>1482983</td>\n",
       "      <td>1847 W ROSCOE ST</td>\n",
       "      <td>FOUR MOON TAVERN</td>\n",
       "      <td>CHICAGO</td>\n",
       "      <td>FOUR MOON TAVERN</td>\n",
       "      <td>Restaurant</td>\n",
       "      <td>2015-09-14T00:00:00.000</td>\n",
       "      <td>Canvass</td>\n",
       "      <td>41.943141</td>\n",
       "      <td>51644</td>\n",
       "      <td>...</td>\n",
       "      <td>0</td>\n",
       "      <td>0</td>\n",
       "      <td>0</td>\n",
       "      <td>0</td>\n",
       "      <td>0</td>\n",
       "      <td>0</td>\n",
       "      <td>0</td>\n",
       "      <td>0</td>\n",
       "      <td>0</td>\n",
       "      <td>0</td>\n",
       "    </tr>\n",
       "  </tbody>\n",
       "</table>\n",
       "<p>5 rows × 34 columns</p>\n",
       "</div>"
      ],
      "text/plain": [
       "   inspection_id             address                        aka_name     city  \\\n",
       "0        1981667     1725 W 47TH ST                   BELLAS FUENTEZ  CHICAGO   \n",
       "1        1453500  65 W JACKSON BLVD                          CARVERY  CHICAGO   \n",
       "2        1102252  11601 W TOUHY AVE   THE GREAT AMERICAN BAGEL/T3 K2  CHICAGO   \n",
       "3          68091    2804 N CLARK ST             Wells Street Popcorn  CHICAGO   \n",
       "4        1482983   1847 W ROSCOE ST                 FOUR MOON TAVERN  CHICAGO   \n",
       "\n",
       "                   dba_name facility_type          inspection_date  \\\n",
       "0            BELLAS FUENTEZ    Restaurant  2017-01-19T00:00:00.000   \n",
       "1                   CARVERY    Restaurant  2014-08-26T00:00:00.000   \n",
       "2  THE GREAT AMERICAN BAGEL    Restaurant  2012-05-07T00:00:00.000   \n",
       "3      Wells Street Popcorn    Restaurant  2010-02-01T00:00:00.000   \n",
       "4          FOUR MOON TAVERN    Restaurant  2015-09-14T00:00:00.000   \n",
       "\n",
       "  inspection_type   latitude  license_id  ...  V5 V6 V7 V8 V9  V10  V11  V12  \\\n",
       "0         Canvass  41.808460     1356217  ...   0  0  0  0  0    0    0    0   \n",
       "1         Canvass  41.878046       43330  ...   0  0  0  0  0    0    0    0   \n",
       "2         Canvass  42.008536     1879167  ...   0  0  0  0  0    0    0    0   \n",
       "3         Canvass  41.932921     1954774  ...   0  0  0  0  0    0    0    0   \n",
       "4         Canvass  41.943141       51644  ...   0  0  0  0  0    0    0    0   \n",
       "\n",
       "   V13 V14  \n",
       "0    0   0  \n",
       "1    0   0  \n",
       "2    0   0  \n",
       "3    0   0  \n",
       "4    0   0  \n",
       "\n",
       "[5 rows x 34 columns]"
      ]
     },
     "execution_count": 4,
     "metadata": {},
     "output_type": "execute_result"
    }
   ],
   "source": [
    "df_canvass.head()"
   ]
  },
  {
   "cell_type": "code",
   "execution_count": 43,
   "metadata": {},
   "outputs": [
    {
     "data": {
      "text/plain": [
       "address\n",
       "                                              [CASA CENTRAL LA POSADA]\n",
       "1 E 83RD ST                                                   [SUBWAY]\n",
       "1 E DELAWARE PL            [STARBUCKS COFFEE #13468, STARBUCKS COFFEE]\n",
       "1 E JACKSON BLVD     [DEPAUL UNIVERSITY LOOP CAMPUS BOOKSTORE #085,...\n",
       "1 E PEARSON ST                                     [LOYOLA UNIVERSITY]\n",
       "Name: aka_name, dtype: object"
      ]
     },
     "execution_count": 43,
     "metadata": {},
     "output_type": "execute_result"
    }
   ],
   "source": [
    "lid_aka = df_canvass.groupby(\"address\")[\"aka_name\"].unique()\n",
    "lid_aka.head()"
   ]
  },
  {
   "cell_type": "code",
   "execution_count": 49,
   "metadata": {
    "scrolled": false
   },
   "outputs": [
    {
     "data": {
      "text/plain": [
       "[('11601 W TOUHY AVE ', 162),\n",
       " ('1410 S MUSEUM CAMPUS DR ', 50),\n",
       " ('1901 W MADISON ST ', 46),\n",
       " ('500 W MADISON ST ', 38),\n",
       " ('333 W 35TH ST ', 35),\n",
       " ('5700 S CICERO AVE ', 34),\n",
       " ('131 N CLINTON ST ', 31),\n",
       " ('1060 W ADDISON ST ', 29),\n",
       " ('222 W MERCHANDISE MART PLZ ', 28),\n",
       " ('100 W RANDOLPH ST ', 24)]"
      ]
     },
     "execution_count": 49,
     "metadata": {},
     "output_type": "execute_result"
    }
   ],
   "source": [
    "uniqs = lid_aka.apply(lambda a: len(a))\n",
    "sorted(zip(uniqs.index, uniqs.values), key=lambda p: p[1], reverse=True)[0:10]"
   ]
  },
  {
   "cell_type": "code",
   "execution_count": 54,
   "metadata": {},
   "outputs": [
    {
     "data": {
      "text/plain": [
       "aka_name\n",
       "SUBWAY                         1700\n",
       "DUNKIN DONUTS                   552\n",
       "POTBELLY SANDWICH WORKS         168\n",
       "STARBUCKS COFFEE                154\n",
       "CORNER BAKERY CAFE              141\n",
       "CHIPOTLE MEXICAN GRILL          141\n",
       "JIMMY JOHN'S                    122\n",
       "Subway                          120\n",
       "SUBWAY SANDWICHES               116\n",
       "POTBELLY SANDWICH WORKS LLC     109\n",
       "Name: inspection_id, dtype: int64"
      ]
     },
     "execution_count": 54,
     "metadata": {},
     "output_type": "execute_result"
    }
   ],
   "source": [
    "df_canvass.groupby(\"aka_name\")[\"inspection_id\"].count().sort_values(ascending=False).head(10)"
   ]
  },
  {
   "cell_type": "code",
   "execution_count": 55,
   "metadata": {},
   "outputs": [
    {
     "data": {
      "text/plain": [
       "dba_name\n",
       "SUBWAY                         1411\n",
       "DUNKIN DONUTS                   550\n",
       "POTBELLY SANDWICH WORKS LLC     166\n",
       "POTBELLY SANDWICH WORKS         143\n",
       "CHIPOTLE MEXICAN GRILL          141\n",
       "CORNER BAKERY CAFE              141\n",
       "SPORTSERVICE SOLDIER FIELD      117\n",
       "SUBWAY SANDWICHES               111\n",
       "AU BON PAIN                     104\n",
       "MCDONALD'S                       92\n",
       "Name: inspection_id, dtype: int64"
      ]
     },
     "execution_count": 55,
     "metadata": {},
     "output_type": "execute_result"
    }
   ],
   "source": [
    "df_canvass.groupby(\"dba_name\")[\"inspection_id\"].count().sort_values(ascending=False).head(10)"
   ]
  },
  {
   "cell_type": "code",
   "execution_count": 57,
   "metadata": {},
   "outputs": [
    {
     "data": {
      "text/plain": [
       "aka_name\n",
       "SUBWAY                          428\n",
       "MCDONALD'S                      369\n",
       "DUNKIN DONUTS                   326\n",
       "MCDONALDS                       160\n",
       "BURGER KING                     120\n",
       "CHIPOTLE MEXICAN GRILL           98\n",
       "WENDY'S                          97\n",
       "DUNKIN DONUTS/BASKIN ROBBINS     92\n",
       "HAROLD'S CHICKEN SHACK           78\n",
       "MC DONALD'S                      72\n",
       "Name: inspection_id, dtype: int64"
      ]
     },
     "execution_count": 57,
     "metadata": {},
     "output_type": "execute_result"
    }
   ],
   "source": [
    "df_complaint.groupby(\"aka_name\")[\"inspection_id\"].count().sort_values(ascending=False).head(10)"
   ]
  },
  {
   "cell_type": "code",
   "execution_count": 58,
   "metadata": {},
   "outputs": [
    {
     "data": {
      "text/plain": [
       "dba_name\n",
       "SUBWAY                          352\n",
       "DUNKIN DONUTS                   331\n",
       "MCDONALD'S                      272\n",
       "MCDONALDS                       153\n",
       "CHIPOTLE MEXICAN GRILL           91\n",
       "HAROLD'S CHICKEN SHACK           78\n",
       "DUNKIN DONUTS/BASKIN ROBBINS     65\n",
       "J & J FISH                       61\n",
       "MC DONALD'S                      60\n",
       "SHARKS FISH & CHICKEN            57\n",
       "Name: inspection_id, dtype: int64"
      ]
     },
     "execution_count": 58,
     "metadata": {},
     "output_type": "execute_result"
    }
   ],
   "source": [
    "df_complaint.groupby(\"dba_name\")[\"inspection_id\"].count().sort_values(ascending=False).head(10)"
   ]
  },
  {
   "cell_type": "code",
   "execution_count": null,
   "metadata": {},
   "outputs": [],
   "source": []
  }
 ],
 "metadata": {
  "kernelspec": {
   "display_name": "Python 3",
   "language": "python",
   "name": "python3"
  },
  "language_info": {
   "codemirror_mode": {
    "name": "ipython",
    "version": 3
   },
   "file_extension": ".py",
   "mimetype": "text/x-python",
   "name": "python",
   "nbconvert_exporter": "python",
   "pygments_lexer": "ipython3",
   "version": "3.6.1"
  },
  "varInspector": {
   "cols": {
    "lenName": 16,
    "lenType": 16,
    "lenVar": 40
   },
   "kernels_config": {
    "python": {
     "delete_cmd_postfix": "",
     "delete_cmd_prefix": "del ",
     "library": "var_list.py",
     "varRefreshCmd": "print(var_dic_list())"
    },
    "r": {
     "delete_cmd_postfix": ") ",
     "delete_cmd_prefix": "rm(",
     "library": "var_list.r",
     "varRefreshCmd": "cat(var_dic_list()) "
    }
   },
   "types_to_exclude": [
    "module",
    "function",
    "builtin_function_or_method",
    "instance",
    "_Feature"
   ],
   "window_display": false
  }
 },
 "nbformat": 4,
 "nbformat_minor": 2
}
