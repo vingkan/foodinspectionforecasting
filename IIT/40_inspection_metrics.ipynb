{
 "cells": [
  {
   "cell_type": "code",
   "execution_count": 1,
   "metadata": {},
   "outputs": [],
   "source": [
    "%load_ext blackcellmagic"
   ]
  },
  {
   "cell_type": "code",
   "execution_count": 2,
   "metadata": {},
   "outputs": [],
   "source": [
    "import pandas as pd\n",
    "import numpy as np\n",
    "%matplotlib inline\n",
    "import matplotlib.pyplot as plt\n",
    "import seaborn as sns\n",
    "import pickle\n",
    "from datetime import datetime"
   ]
  },
  {
   "cell_type": "code",
   "execution_count": 3,
   "metadata": {},
   "outputs": [],
   "source": [
    "from research.strings import TARGET, PREDICTORS\n",
    "from research.evaluation import evaluate_model"
   ]
  },
  {
   "cell_type": "code",
   "execution_count": 4,
   "metadata": {},
   "outputs": [
    {
     "name": "stdout",
     "output_type": "stream",
     "text": [
      "F1 Score = 0.08664\n",
      "Precision = 0.63158\n",
      "Recall = 0.04651\n"
     ]
    },
    {
     "data": {
      "text/html": [
       "<div>\n",
       "<style scoped>\n",
       "    .dataframe tbody tr th:only-of-type {\n",
       "        vertical-align: middle;\n",
       "    }\n",
       "\n",
       "    .dataframe tbody tr th {\n",
       "        vertical-align: top;\n",
       "    }\n",
       "\n",
       "    .dataframe thead th {\n",
       "        text-align: right;\n",
       "    }\n",
       "</style>\n",
       "<table border=\"1\" class=\"dataframe\">\n",
       "  <thead>\n",
       "    <tr style=\"text-align: right;\">\n",
       "      <th></th>\n",
       "      <th>Predicted +</th>\n",
       "      <th>Predicted -</th>\n",
       "    </tr>\n",
       "  </thead>\n",
       "  <tbody>\n",
       "    <tr>\n",
       "      <th>Actual +</th>\n",
       "      <td>12</td>\n",
       "      <td>246</td>\n",
       "    </tr>\n",
       "    <tr>\n",
       "      <th>Actual -</th>\n",
       "      <td>7</td>\n",
       "      <td>1372</td>\n",
       "    </tr>\n",
       "  </tbody>\n",
       "</table>\n",
       "</div>"
      ],
      "text/plain": [
       "          Predicted +  Predicted -\n",
       "Actual +           12          246\n",
       "Actual -            7         1372"
      ]
     },
     "execution_count": 4,
     "metadata": {},
     "output_type": "execute_result"
    }
   ],
   "source": [
    "d_test = pd.read_csv(\"data/test_data.csv\")\n",
    "y_test = d_test[TARGET]\n",
    "X_test = d_test[PREDICTORS]\n",
    "clf = pickle.load(open(\"models/sklearn-glm.pkl\", \"rb\"))\n",
    "evaluate_model(y_test, clf.predict(X_test))"
   ]
  },
  {
   "cell_type": "code",
   "execution_count": 5,
   "metadata": {},
   "outputs": [],
   "source": [
    "def to_inspection_daynum(date_ser):\n",
    "    SECONDS = 60 * 60 * 24\n",
    "    dates = date_ser.apply(lambda d: datetime.fromtimestamp(d * SECONDS))\n",
    "    daynums = (dates - dates.min()).apply(lambda dt: dt.days + 1).values\n",
    "    return daynums"
   ]
  },
  {
   "cell_type": "code",
   "execution_count": 6,
   "metadata": {},
   "outputs": [],
   "source": [
    "def get_days_by_score(days, y_scores):\n",
    "    res = pd.DataFrame()\n",
    "    res[\"Score\"] = y_scores\n",
    "    ranked = res.sort_values(by=\"Score\", ascending=False).reset_index()\n",
    "    ranked[\"Day\"] = np.sort(days)\n",
    "    ranked_days = ranked.sort_values(by=\"index\")[\"Day\"].values\n",
    "    return ranked_days"
   ]
  },
  {
   "cell_type": "code",
   "execution_count": 7,
   "metadata": {},
   "outputs": [],
   "source": [
    "def get_cumulative(y_true, days):\n",
    "    res = pd.DataFrame()\n",
    "    res[\"Result\"] = y_true\n",
    "    res[\"Day\"] = days\n",
    "    cumsum = res.groupby(\"Day\")[\"Result\"].sum().cumsum()\n",
    "    # Assumes that groupby.sum.cumsum is sorted by index\n",
    "    total = int(cumsum.iloc[-1])\n",
    "    return cumsum, total"
   ]
  },
  {
   "cell_type": "code",
   "execution_count": 8,
   "metadata": {},
   "outputs": [],
   "source": [
    "def compare_cumulative(y_true, days, rankings, ax=None):\n",
    "    if not ax:\n",
    "        ax = plt.gca()\n",
    "    pal = sns.hls_palette(len(rankings), h=0.5)\n",
    "    true_total = int(y_true.sum())\n",
    "    for i, (name, scores) in enumerate(rankings):\n",
    "        sorted_days = get_days_by_score(days, scores)\n",
    "        cumsum, total = get_cumulative(y_true, sorted_days)\n",
    "        assert (\n",
    "            total == true_total\n",
    "        ), \"Total number of critical violations found in {} ({}) does not match true total ({}).\".format(\n",
    "            name, total, true_total\n",
    "        )\n",
    "        sns.lineplot(x=cumsum.index, y=cumsum.values, label=name, color=pal[i], ax=ax)\n",
    "    ax.set_xlabel(\"Inspection Day\")\n",
    "    ax.set_ylabel(\"Critical Violations Found\")\n",
    "    ax.set_title(\"Critical Violations Found Over Time\")\n",
    "    ax.legend()"
   ]
  },
  {
   "cell_type": "code",
   "execution_count": 9,
   "metadata": {},
   "outputs": [],
   "source": [
    "def get_days_earlier(y_true, days, y_scores):\n",
    "    sorted_days = get_days_by_score(days, y_scores)\n",
    "    diff = days - sorted_days\n",
    "    res = pd.DataFrame()\n",
    "    res[\"Result\"] = y_true\n",
    "    res[\"NewDay\"] = sorted_days\n",
    "    res[\"Diff\"] = diff\n",
    "    crit_diff = res.query(\"Result > 0\")[\"Diff\"].values\n",
    "    return crit_diff"
   ]
  },
  {
   "cell_type": "code",
   "execution_count": 10,
   "metadata": {},
   "outputs": [],
   "source": [
    "def get_first_half_proportion(y_true, y_scores):\n",
    "    res = pd.DataFrame()\n",
    "    res[\"Result\"] = y_true\n",
    "    res[\"Score\"] = y_scores\n",
    "    halftime = len(y_true) / 2\n",
    "    ranked = res.sort_values(by=\"Score\", ascending=False).reset_index()\n",
    "    ranked[\"FirstHalf\"] = np.array(range(len(y_true))) < halftime\n",
    "    prop = ranked.query(\"FirstHalf\")[\"Result\"].sum() / y_true.sum()\n",
    "    return prop"
   ]
  },
  {
   "cell_type": "code",
   "execution_count": 11,
   "metadata": {},
   "outputs": [],
   "source": [
    "def bin_range(vals, size):\n",
    "    max_val = max(max(vals), 0)\n",
    "    min_val = min(min(vals), 0)\n",
    "    range_max = int(size * np.ceil(max_val / size))\n",
    "    range_min = int(size * np.floor(min_val / size))\n",
    "    rg = range(range_min, range_max, size)\n",
    "    return rg"
   ]
  },
  {
   "cell_type": "code",
   "execution_count": 12,
   "metadata": {},
   "outputs": [],
   "source": [
    "def compare_days_earlier(y_true, days, rankings, ax=None, verbose=False):\n",
    "    if not ax:\n",
    "        ax = plt.gca()\n",
    "    bins = bin_range([-1 * days.max(), days.max()], 5)\n",
    "    pal = sns.hls_palette(len(rankings), h=0.5)\n",
    "    no_changes = []\n",
    "    for i, (name, scores) in enumerate(rankings):\n",
    "        crit_diff = get_days_earlier(y_true, days, scores)\n",
    "        abs_sum = np.abs(crit_diff).sum()\n",
    "        if abs_sum > 0:\n",
    "            sns.distplot(crit_diff, kde=False, label=name, color=pal[i], bins=bins, ax=ax)\n",
    "            ax.axvline(crit_diff.mean(), color=pal[i], linestyle=\"--\")\n",
    "        else:\n",
    "            no_changes.append(name)\n",
    "    ax.set_xlabel(\"Days Earlier\")\n",
    "    ax.set_ylabel(\"Frequency\")\n",
    "    ax.set_title(\"Change in Days to Find Critical Violations\")\n",
    "    ax.legend()\n",
    "    if verbose:\n",
    "        note = \"Note: {} led to no changes in detection of critical violations.\"\n",
    "        for name in no_changes:\n",
    "            print(note.format(name))"
   ]
  },
  {
   "cell_type": "code",
   "execution_count": 13,
   "metadata": {},
   "outputs": [],
   "source": [
    "def compare_stats(y_true, days, rankings):\n",
    "    rows = []\n",
    "    for i, (name, scores) in enumerate(rankings):\n",
    "        crit_diff = get_days_earlier(y_true, days, scores)\n",
    "        row = {}\n",
    "        row[\"Model\"] = name\n",
    "        row[\"Mean Change\"] = crit_diff.mean()\n",
    "        row[\"Std. Change\"] = crit_diff.std()\n",
    "        row[\"First Half\"] = get_first_half_proportion(y_true, scores)\n",
    "        rows.append(row)\n",
    "    cols = [\"Model\", \"First Half\", \"Mean Change\", \"Std. Change\"]\n",
    "    df = pd.DataFrame(rows)\n",
    "    return df[cols]"
   ]
  },
  {
   "cell_type": "code",
   "execution_count": 14,
   "metadata": {},
   "outputs": [],
   "source": [
    "def compare_metrics(y_true, days, models):\n",
    "    fig, (ax0, ax1) = plt.subplots(1, 2, figsize=(10, 5))\n",
    "    fig.set_figwidth(15)\n",
    "    compare_cumulative(y_true, days, models, ax0)\n",
    "    compare_days_earlier(y_true, days, models, ax1)\n",
    "    plt.show()\n",
    "    df = compare_stats(y_true, days, models)\n",
    "    order = [\"First Half\", \"Mean Change\", \"Std. Change\"]\n",
    "    asc = [False, False, True]\n",
    "    return df.sort_values(by=order, ascending=asc).round(3)"
   ]
  },
  {
   "cell_type": "code",
   "execution_count": 15,
   "metadata": {},
   "outputs": [],
   "source": [
    "def show_metrics(y_true, days, y_scores, name=\"Model\"):\n",
    "    return compare_metrics(y_true, days, [(name, y_scores)])"
   ]
  },
  {
   "cell_type": "code",
   "execution_count": 16,
   "metadata": {},
   "outputs": [],
   "source": [
    "y_true = y_test.copy()\n",
    "days = to_inspection_daynum(d_test[\"Inspection_Date\"])\n",
    "np.random.seed(0)\n",
    "base_models = [\n",
    "    (\"Usual\", days.max() - days),\n",
    "    (\"Random\", np.random.rand(len(y_true))),\n",
    "    (\"Worst\", 1 - y_true),\n",
    "    (\"Best\", y_true)\n",
    "]\n",
    "y_scores = clf.predict_proba(X_test)[:,1]\n",
    "models = [\n",
    "    (\"City Model\", y_scores)\n",
    "]\n",
    "all_models = base_models + models"
   ]
  },
  {
   "cell_type": "code",
   "execution_count": 17,
   "metadata": {},
   "outputs": [
    {
     "data": {
      "image/png": "[encoded data removed]",
      "text/plain": [
       "<matplotlib.figure.Figure at 0x110ef9be0>"
      ]
     },
     "metadata": {
      "needs_background": "light"
     },
     "output_type": "display_data"
    },
    {
     "data": {
      "text/html": [
       "<div>\n",
       "<style scoped>\n",
       "    .dataframe tbody tr th:only-of-type {\n",
       "        vertical-align: middle;\n",
       "    }\n",
       "\n",
       "    .dataframe tbody tr th {\n",
       "        vertical-align: top;\n",
       "    }\n",
       "\n",
       "    .dataframe thead th {\n",
       "        text-align: right;\n",
       "    }\n",
       "</style>\n",
       "<table border=\"1\" class=\"dataframe\">\n",
       "  <thead>\n",
       "    <tr style=\"text-align: right;\">\n",
       "      <th></th>\n",
       "      <th>Model</th>\n",
       "      <th>First Half</th>\n",
       "      <th>Mean Change</th>\n",
       "      <th>Std. Change</th>\n",
       "    </tr>\n",
       "  </thead>\n",
       "  <tbody>\n",
       "    <tr>\n",
       "      <th>3</th>\n",
       "      <td>Best</td>\n",
       "      <td>1.000</td>\n",
       "      <td>24.058</td>\n",
       "      <td>19.390</td>\n",
       "    </tr>\n",
       "    <tr>\n",
       "      <th>4</th>\n",
       "      <td>City Model</td>\n",
       "      <td>0.690</td>\n",
       "      <td>7.438</td>\n",
       "      <td>25.156</td>\n",
       "    </tr>\n",
       "    <tr>\n",
       "      <th>0</th>\n",
       "      <td>Usual</td>\n",
       "      <td>0.554</td>\n",
       "      <td>0.000</td>\n",
       "      <td>0.000</td>\n",
       "    </tr>\n",
       "    <tr>\n",
       "      <th>1</th>\n",
       "      <td>Random</td>\n",
       "      <td>0.531</td>\n",
       "      <td>0.236</td>\n",
       "      <td>26.436</td>\n",
       "    </tr>\n",
       "    <tr>\n",
       "      <th>2</th>\n",
       "      <td>Worst</td>\n",
       "      <td>0.000</td>\n",
       "      <td>-27.659</td>\n",
       "      <td>19.049</td>\n",
       "    </tr>\n",
       "  </tbody>\n",
       "</table>\n",
       "</div>"
      ],
      "text/plain": [
       "        Model  First Half  Mean Change  Std. Change\n",
       "3        Best       1.000       24.058       19.390\n",
       "4  City Model       0.690        7.438       25.156\n",
       "0       Usual       0.554        0.000        0.000\n",
       "1      Random       0.531        0.236       26.436\n",
       "2       Worst       0.000      -27.659       19.049"
      ]
     },
     "execution_count": 17,
     "metadata": {},
     "output_type": "execute_result"
    }
   ],
   "source": [
    "compare_metrics(y_true, days, all_models)"
   ]
  },
  {
   "cell_type": "code",
   "execution_count": 18,
   "metadata": {},
   "outputs": [
    {
     "data": {
      "image/png": "[encoded data removed]",
      "text/plain": [
       "<matplotlib.figure.Figure at 0x1057b2c18>"
      ]
     },
     "metadata": {
      "needs_background": "light"
     },
     "output_type": "display_data"
    },
    {
     "data": {
      "text/html": [
       "<div>\n",
       "<style scoped>\n",
       "    .dataframe tbody tr th:only-of-type {\n",
       "        vertical-align: middle;\n",
       "    }\n",
       "\n",
       "    .dataframe tbody tr th {\n",
       "        vertical-align: top;\n",
       "    }\n",
       "\n",
       "    .dataframe thead th {\n",
       "        text-align: right;\n",
       "    }\n",
       "</style>\n",
       "<table border=\"1\" class=\"dataframe\">\n",
       "  <thead>\n",
       "    <tr style=\"text-align: right;\">\n",
       "      <th></th>\n",
       "      <th>Model</th>\n",
       "      <th>First Half</th>\n",
       "      <th>Mean Change</th>\n",
       "      <th>Std. Change</th>\n",
       "    </tr>\n",
       "  </thead>\n",
       "  <tbody>\n",
       "    <tr>\n",
       "      <th>0</th>\n",
       "      <td>City Model</td>\n",
       "      <td>0.69</td>\n",
       "      <td>7.438</td>\n",
       "      <td>25.156</td>\n",
       "    </tr>\n",
       "  </tbody>\n",
       "</table>\n",
       "</div>"
      ],
      "text/plain": [
       "        Model  First Half  Mean Change  Std. Change\n",
       "0  City Model        0.69        7.438       25.156"
      ]
     },
     "execution_count": 18,
     "metadata": {},
     "output_type": "execute_result"
    }
   ],
   "source": [
    "show_metrics(y_true, days, y_scores, name=\"City Model\")"
   ]
  }
 ],
 "metadata": {
  "kernelspec": {
   "display_name": "Python 3",
   "language": "python",
   "name": "python3"
  },
  "language_info": {
   "codemirror_mode": {
    "name": "ipython",
    "version": 3
   },
   "file_extension": ".py",
   "mimetype": "text/x-python",
   "name": "python",
   "nbconvert_exporter": "python",
   "pygments_lexer": "ipython3",
   "version": "3.6.1"
  },
  "varInspector": {
   "cols": {
    "lenName": 16,
    "lenType": 16,
    "lenVar": 40
   },
   "kernels_config": {
    "python": {
     "delete_cmd_postfix": "",
     "delete_cmd_prefix": "del ",
     "library": "var_list.py",
     "varRefreshCmd": "print(var_dic_list())"
    },
    "r": {
     "delete_cmd_postfix": ") ",
     "delete_cmd_prefix": "rm(",
     "library": "var_list.r",
     "varRefreshCmd": "cat(var_dic_list()) "
    }
   },
   "types_to_exclude": [
    "module",
    "function",
    "builtin_function_or_method",
    "instance",
    "_Feature"
   ],
   "window_display": false
  }
 },
 "nbformat": 4,
 "nbformat_minor": 2
}
