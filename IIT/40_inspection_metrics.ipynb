{
 "cells": [
  {
   "cell_type": "code",
   "execution_count": 92,
   "metadata": {},
   "outputs": [],
   "source": [
    "%load_ext blackcellmagic"
   ]
  },
  {
   "cell_type": "code",
   "execution_count": 9,
   "metadata": {},
   "outputs": [],
   "source": [
    "import pandas as pd\n",
    "import numpy as np\n",
    "%matplotlib inline\n",
    "import matplotlib.pyplot as plt\n",
    "import seaborn as sns\n",
    "import pickle\n",
    "from datetime import datetime"
   ]
  },
  {
   "cell_type": "code",
   "execution_count": 6,
   "metadata": {},
   "outputs": [],
   "source": [
    "from research.strings import TARGET, PREDICTORS\n",
    "from research.evaluation import evaluate_model"
   ]
  },
  {
   "cell_type": "code",
   "execution_count": 7,
   "metadata": {},
   "outputs": [
    {
     "name": "stdout",
     "output_type": "stream",
     "text": [
      "F1 Score = 0.08664\n",
      "Precision = 0.63158\n",
      "Recall = 0.04651\n"
     ]
    },
    {
     "data": {
      "text/html": [
       "<div>\n",
       "<style scoped>\n",
       "    .dataframe tbody tr th:only-of-type {\n",
       "        vertical-align: middle;\n",
       "    }\n",
       "\n",
       "    .dataframe tbody tr th {\n",
       "        vertical-align: top;\n",
       "    }\n",
       "\n",
       "    .dataframe thead th {\n",
       "        text-align: right;\n",
       "    }\n",
       "</style>\n",
       "<table border=\"1\" class=\"dataframe\">\n",
       "  <thead>\n",
       "    <tr style=\"text-align: right;\">\n",
       "      <th></th>\n",
       "      <th>Predicted +</th>\n",
       "      <th>Predicted -</th>\n",
       "    </tr>\n",
       "  </thead>\n",
       "  <tbody>\n",
       "    <tr>\n",
       "      <th>Actual +</th>\n",
       "      <td>12</td>\n",
       "      <td>246</td>\n",
       "    </tr>\n",
       "    <tr>\n",
       "      <th>Actual -</th>\n",
       "      <td>7</td>\n",
       "      <td>1372</td>\n",
       "    </tr>\n",
       "  </tbody>\n",
       "</table>\n",
       "</div>"
      ],
      "text/plain": [
       "          Predicted +  Predicted -\n",
       "Actual +           12          246\n",
       "Actual -            7         1372"
      ]
     },
     "execution_count": 7,
     "metadata": {},
     "output_type": "execute_result"
    }
   ],
   "source": [
    "d_test = pd.read_csv(\"data/test_data.csv\")\n",
    "y_test = d_test[TARGET]\n",
    "X_test = d_test[PREDICTORS]\n",
    "clf = pickle.load(open(\"models/sklearn-glm.pkl\", \"rb\"))\n",
    "evaluate_model(y_test, clf.predict(X_test))"
   ]
  },
  {
   "cell_type": "code",
   "execution_count": 216,
   "metadata": {},
   "outputs": [],
   "source": [
    "def to_inspection_daynum(date_ser):\n",
    "    SECONDS = 60 * 60 * 24\n",
    "    dates = date_ser.apply(lambda d: datetime.fromtimestamp(d * SECONDS))\n",
    "    daynums = (dates - dates.min()).apply(lambda dt: dt.days + 1).values\n",
    "    return daynums"
   ]
  },
  {
   "cell_type": "code",
   "execution_count": 217,
   "metadata": {},
   "outputs": [],
   "source": [
    "def get_days_by_score(days, y_scores):\n",
    "    res = pd.DataFrame()\n",
    "    res[\"Score\"] = y_scores\n",
    "    ranked = res.sort_values(by=\"Score\", ascending=False).reset_index()\n",
    "    ranked[\"Day\"] = np.sort(days)\n",
    "    ranked_days = ranked.sort_values(by=\"index\")[\"Day\"].values\n",
    "    return ranked_days"
   ]
  },
  {
   "cell_type": "code",
   "execution_count": 245,
   "metadata": {},
   "outputs": [],
   "source": [
    "def get_cumulative(y_true, days):\n",
    "    res = pd.DataFrame()\n",
    "    res[\"Result\"] = y_true\n",
    "    res[\"Day\"] = days\n",
    "    cumsum = res.groupby(\"Day\")[\"Result\"].sum().cumsum()\n",
    "    # Assumes that groupby.sum.cumsum is sorted by index\n",
    "    total = int(cumsum.iloc[-1])\n",
    "    return cumsum, total"
   ]
  },
  {
   "cell_type": "code",
   "execution_count": 219,
   "metadata": {},
   "outputs": [],
   "source": [
    "# def get_cumulative_old(ranked):\n",
    "#     bau_cumsum = ranked.groupby(\"Day\")[\"Result\"].sum().cumsum()\n",
    "#     dd_cumsum = ranked.groupby(\"NewDay\")[\"Result\"].sum().cumsum()\n",
    "#     bau_total = int(bau_cumsum.iloc[-1])\n",
    "#     dd_total = int(dd_cumsum.iloc[-1])\n",
    "#     assert (\n",
    "#         dd_total == bau_total\n",
    "#     ), \"Total critical violations found under data-driven model ({}) does not match business-as-usual ({})\".format(\n",
    "#         dd_total, bau_total\n",
    "#     )\n",
    "#     return bau_cumsum, dd_cumsum"
   ]
  },
  {
   "cell_type": "code",
   "execution_count": 254,
   "metadata": {},
   "outputs": [],
   "source": [
    "def plot_cumulative(y_true, days, rankings):\n",
    "    pal = sns.hls_palette(len(rankings), h=0.5)\n",
    "    true_total = int(y_true.sum())\n",
    "    for i, (name, scores) in enumerate(rankings):\n",
    "        sorted_days = get_days_by_score(days, scores)\n",
    "        cumsum, total = get_cumulative(y_true, sorted_days)\n",
    "        assert (\n",
    "            total == true_total\n",
    "        ), \"Total number of critical violations found in {} ({}) does not match true total ({}).\".format(\n",
    "            name, total, true_total\n",
    "        )\n",
    "        sns.lineplot(x=cumsum.index, y=cumsum.values, label=name, color=pal[i])\n",
    "    plt.xlabel(\"Inspection Day\")\n",
    "    plt.ylabel(\"Critical Violations Found\")\n",
    "    plt.title(\"\")\n",
    "    plt.show()"
   ]
  },
  {
   "cell_type": "code",
   "execution_count": 256,
   "metadata": {},
   "outputs": [
    {
     "data": {
      "image/png": "[encoded data removed]",
      "text/plain": [
       "<matplotlib.figure.Figure at 0x118474f28>"
      ]
     },
     "metadata": {
      "needs_background": "light"
     },
     "output_type": "display_data"
    }
   ],
   "source": [
    "days = to_inspection_daynum(d_test[\"Inspection_Date\"])\n",
    "usual = 1.0 - (days / days.max())\n",
    "y_true = y_test.copy()\n",
    "y_scores = clf.predict_proba(X_test.copy())[:,1]\n",
    "plot_cumulative(y_true, days, [\n",
    "    (\"BAU\", usual),\n",
    "    (\"DD\", y_scores),\n",
    "    (\"Worst\", 1 - y_true),\n",
    "    (\"Best\", y_true)\n",
    "])"
   ]
  },
  {
   "cell_type": "code",
   "execution_count": 273,
   "metadata": {},
   "outputs": [],
   "source": [
    "# def show_metrics(y_true, days, y_scores):\n",
    "sorted_days = get_days_by_score(days, y_scores)\n",
    "diff = days - sorted_days\n",
    "res = pd.DataFrame()\n",
    "res[\"Result\"] = y_true\n",
    "res[\"NewDay\"] = sorted_days\n",
    "res[\"Diff\"] = diff\n",
    "crit_diff = res.query(\"Result > 0\")[\"Diff\"].values\n",
    "mean_accel = crit_diff.mean()\n",
    "std_accel = crit_diff.std()\n"
   ]
  },
  {
   "cell_type": "code",
   "execution_count": 283,
   "metadata": {},
   "outputs": [
    {
     "data": {
      "text/plain": [
       "0.68217054263565891"
      ]
     },
     "execution_count": 283,
     "metadata": {},
     "output_type": "execute_result"
    }
   ],
   "source": [
    "halftime = days.max() / 2\n",
    "y_half = res.query(\"NewDay < {}\".format(halftime))[\"Result\"].values\n",
    "y_half.sum() / y_true.sum()"
   ]
  },
  {
   "cell_type": "code",
   "execution_count": 267,
   "metadata": {},
   "outputs": [
    {
     "data": {
      "text/plain": [
       "25.155755714153116"
      ]
     },
     "execution_count": 267,
     "metadata": {},
     "output_type": "execute_result"
    }
   ],
   "source": []
  },
  {
   "cell_type": "code",
   "execution_count": 270,
   "metadata": {},
   "outputs": [
    {
     "data": {
      "text/plain": [
       "<matplotlib.axes._subplots.AxesSubplot at 0x116daaeb8>"
      ]
     },
     "execution_count": 270,
     "metadata": {},
     "output_type": "execute_result"
    },
    {
     "data": {
      "image/png": "[encoded data removed]",
      "text/plain": [
       "<matplotlib.figure.Figure at 0x1170c1e48>"
      ]
     },
     "metadata": {
      "needs_background": "light"
     },
     "output_type": "display_data"
    }
   ],
   "source": [
    "sns.distplot(crit_diff, kde=False, bins=range(-50, 65, 5))"
   ]
  },
  {
   "cell_type": "code",
   "execution_count": null,
   "metadata": {},
   "outputs": [],
   "source": []
  }
 ],
 "metadata": {
  "kernelspec": {
   "display_name": "Python 3",
   "language": "python",
   "name": "python3"
  },
  "language_info": {
   "codemirror_mode": {
    "name": "ipython",
    "version": 3
   },
   "file_extension": ".py",
   "mimetype": "text/x-python",
   "name": "python",
   "nbconvert_exporter": "python",
   "pygments_lexer": "ipython3",
   "version": "3.6.1"
  },
  "varInspector": {
   "cols": {
    "lenName": 16,
    "lenType": 16,
    "lenVar": 40
   },
   "kernels_config": {
    "python": {
     "delete_cmd_postfix": "",
     "delete_cmd_prefix": "del ",
     "library": "var_list.py",
     "varRefreshCmd": "print(var_dic_list())"
    },
    "r": {
     "delete_cmd_postfix": ") ",
     "delete_cmd_prefix": "rm(",
     "library": "var_list.r",
     "varRefreshCmd": "cat(var_dic_list()) "
    }
   },
   "types_to_exclude": [
    "module",
    "function",
    "builtin_function_or_method",
    "instance",
    "_Feature"
   ],
   "window_display": false
  }
 },
 "nbformat": 4,
 "nbformat_minor": 2
}
