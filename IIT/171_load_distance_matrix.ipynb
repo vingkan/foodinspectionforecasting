{
 "cells": [
  {
   "cell_type": "code",
   "execution_count": 1,
   "metadata": {},
   "outputs": [],
   "source": [
    "import pandas as pd\n",
    "import numpy as np\n",
    "import scipy.stats as stat\n",
    "%matplotlib inline\n",
    "import matplotlib.pyplot as plt\n",
    "import seaborn as sns\n",
    "import pickle\n",
    "import math"
   ]
  },
  {
   "cell_type": "markdown",
   "metadata": {},
   "source": [
    "```\n",
    "from tqdm import tqdm\n",
    "NAMES = [clean_name(name) for name in np.unique(df_all[\"aka_name\"].values)]\n",
    "len(NAMES)\n",
    "MAT = mat = np.zeros((len(NAMES), len(NAMES)))\n",
    "for i in tqdm(range(len(NAMES))):\n",
    "    for j in range(len(NAMES)):\n",
    "        if j > i:\n",
    "            mat[i][j] = name_distance(NAMES[i], NAMES[j])\n",
    "pickle.dump(MAT, open(\"jaro_winkler_mat.pkl\", \"wb\"))\n",
    "```"
   ]
  },
  {
   "cell_type": "markdown",
   "metadata": {},
   "source": [
    "```\n",
    "mat = pickle.load(open(\"jaro_winkler_mat.pkl\", \"rb\"))\n",
    "```"
   ]
  },
  {
   "cell_type": "markdown",
   "metadata": {},
   "source": [
    "```mat```"
   ]
  },
  {
   "cell_type": "markdown",
   "metadata": {},
   "source": [
    "```type(mat), mat.shape```"
   ]
  },
  {
   "cell_type": "markdown",
   "metadata": {},
   "source": [
    "```\n",
    "M, N = mat.shape\n",
    "size = 1000\n",
    "filename = \"aka_name_jw_mat\"\n",
    "metafile = \"models/distance/{}_meta.pkl\".format(filename)\n",
    "pickle.dump((M, N, size), open(metafile, \"wb\"))\n",
    "print(\"Wrote metadata to {}\".format(metafile))\n",
    "for idx, i in enumerate(range(0, M, size)):\n",
    "    sub_mat = mat[i:i + size]\n",
    "    outfile = \"models/distance/{0}_{1:02}.pkl\".format(filename, idx)\n",
    "    pickle.dump(sub_mat, open(outfile, \"wb\"))\n",
    "    print(\"Wrote {} rows to {}\".format(len(sub_mat), outfile))\n",
    "```"
   ]
  },
  {
   "cell_type": "code",
   "execution_count": 6,
   "metadata": {},
   "outputs": [
    {
     "name": "stdout",
     "output_type": "stream",
     "text": [
      "Read metadata from models/distance/aka_name_jw_mat_meta.pkl\n",
      "Read 1000 rows from models/distance/aka_name_jw_mat_00.pkl\n",
      "Read 1000 rows from models/distance/aka_name_jw_mat_01.pkl\n",
      "Read 1000 rows from models/distance/aka_name_jw_mat_02.pkl\n",
      "Read 1000 rows from models/distance/aka_name_jw_mat_03.pkl\n",
      "Read 1000 rows from models/distance/aka_name_jw_mat_04.pkl\n",
      "Read 1000 rows from models/distance/aka_name_jw_mat_05.pkl\n",
      "Read 1000 rows from models/distance/aka_name_jw_mat_06.pkl\n",
      "Read 1000 rows from models/distance/aka_name_jw_mat_07.pkl\n",
      "Read 1000 rows from models/distance/aka_name_jw_mat_08.pkl\n",
      "Read 1000 rows from models/distance/aka_name_jw_mat_09.pkl\n",
      "Read 450 rows from models/distance/aka_name_jw_mat_10.pkl\n"
     ]
    }
   ],
   "source": [
    "chunks = []\n",
    "filename = \"aka_name_jw_mat\"\n",
    "metafile = \"models/distance/{}_meta.pkl\".format(filename)\n",
    "print(\"Read metadata from {}\".format(metafile))\n",
    "M, N, size = pickle.load(open(metafile, \"rb\"))\n",
    "for idx, i in enumerate(range(0, N, size)):\n",
    "    outfile = \"models/distance/{0}_{1:02}.pkl\".format(filename, idx)\n",
    "    sub_mat = pickle.load(open(outfile, \"rb\"))\n",
    "    chunks.append(sub_mat)\n",
    "    print(\"Read {} rows from {}\".format(len(sub_mat), outfile))\n",
    "res = np.concatenate(chunks)"
   ]
  },
  {
   "cell_type": "code",
   "execution_count": 7,
   "metadata": {},
   "outputs": [
    {
     "data": {
      "text/plain": [
       "array([[ 0.        ,  0.40277778,  0.43518519, ...,  0.375     ,\n",
       "         0.51851852,  0.56547619],\n",
       "       [ 0.        ,  0.        ,  0.51851852, ...,  0.51851852,\n",
       "         0.44444444,  0.58994709],\n",
       "       [ 0.        ,  0.        ,  0.        , ...,  0.59259259,\n",
       "         0.51851852,  0.58994709],\n",
       "       ..., \n",
       "       [ 0.        ,  0.        ,  0.        , ...,  0.        ,\n",
       "         0.4537037 ,  0.5952381 ],\n",
       "       [ 0.        ,  0.        ,  0.        , ...,  0.        ,\n",
       "         0.        ,  0.5952381 ],\n",
       "       [ 0.        ,  0.        ,  0.        , ...,  0.        ,\n",
       "         0.        ,  0.        ]])"
      ]
     },
     "execution_count": 7,
     "metadata": {},
     "output_type": "execute_result"
    }
   ],
   "source": [
    "res"
   ]
  },
  {
   "cell_type": "code",
   "execution_count": 8,
   "metadata": {},
   "outputs": [
    {
     "data": {
      "text/plain": [
       "(numpy.ndarray, (10450, 10450))"
      ]
     },
     "execution_count": 8,
     "metadata": {},
     "output_type": "execute_result"
    }
   ],
   "source": [
    "type(res), res.shape"
   ]
  },
  {
   "cell_type": "code",
   "execution_count": 9,
   "metadata": {},
   "outputs": [
    {
     "data": {
      "text/plain": [
       "True"
      ]
     },
     "execution_count": 9,
     "metadata": {},
     "output_type": "execute_result"
    }
   ],
   "source": [
    "(mat == res).all()"
   ]
  },
  {
   "cell_type": "code",
   "execution_count": 10,
   "metadata": {},
   "outputs": [],
   "source": [
    "def read_distance_matrix(filename):\n",
    "    chunks = []\n",
    "    metafile = \"models/distance/{}_meta.pkl\".format(filename)\n",
    "    print(\"Read metadata from {}\".format(metafile))\n",
    "    M, N, size = pickle.load(open(metafile, \"rb\"))\n",
    "    for idx, i in enumerate(range(0, N, size)):\n",
    "        outfile = \"models/distance/{0}_{1:02}.pkl\".format(filename, idx)\n",
    "        sub_mat = pickle.load(open(outfile, \"rb\"))\n",
    "        chunks.append(sub_mat)\n",
    "        print(\"Read {} rows from {}\".format(len(sub_mat), outfile))\n",
    "    res = np.concatenate(chunks)\n",
    "    for i in range(M):\n",
    "        for j in range(N):\n",
    "            if j > i:\n",
    "                res[j][i] = res[i][j]\n",
    "            if j == i:\n",
    "                res[i][j] = 1.0\n",
    "    return res"
   ]
  },
  {
   "cell_type": "markdown",
   "metadata": {},
   "source": [
    "```\n",
    "from sklearn.cluster import DBSCAN\n",
    "\n",
    "\n",
    "dbscan = DBSCAN(eps=0.15, metric=\"precomputed\", min_samples=1)\n",
    "clusters = dbscan.fit_predict(dist_mat)\n",
    "len(np.unique(clusters))\n",
    "```"
   ]
  },
  {
   "cell_type": "markdown",
   "metadata": {},
   "source": [
    "```\n",
    "cluster_dict = {}\n",
    "for name, cluster in zip(RAW_NAMES, clusters):\n",
    "    if cluster not in cluster_dict:\n",
    "        cluster_dict[cluster] = []\n",
    "    cluster_dict[cluster].append(name)\n",
    "```"
   ]
  },
  {
   "cell_type": "markdown",
   "metadata": {},
   "source": [
    "```\n",
    "import textdistance\n",
    "import string\n",
    "from sklearn.cluster import DBSCAN\n",
    "\n",
    "\n",
    "BANNED = list(string.punctuation) + [\n",
    "    \"restaurant\",\n",
    "    \"house\",\n",
    "    \"kitchen\",\n",
    "    \"original\",\n",
    "    \"the\",\n",
    "    \"new\"\n",
    "] + [\" \"]\n",
    "BANNED = [ban.casefold() for ban in BANNED]\n",
    "CUT_CHARS = [\"#\", \"(\"]\n",
    "\n",
    "def clean_name(name):\n",
    "    cleaned = name.casefold()\n",
    "    for cut in CUT_CHARS:\n",
    "        idx = cleaned.find(cut)\n",
    "        if idx > 0:\n",
    "            cleaned = cleaned[:idx]\n",
    "    for ban in BANNED:\n",
    "        cleaned = cleaned.replace(ban, \"\")\n",
    "    return cleaned\n",
    "\n",
    "\n",
    "def name_distance(a, b):\n",
    "    sim = textdistance.jaro_winkler.similarity(a, b)\n",
    "    dist = 1 - sim\n",
    "    return dist\n",
    "\n",
    "\n",
    "RAW_NAMES = np.unique(df_all[\"aka_name\"].values)\n",
    "NAMES = [clean_name(name) for name in RAW_NAMES]\n",
    "len(NAMES)\n",
    "```"
   ]
  }
 ],
 "metadata": {
  "kernelspec": {
   "display_name": "Python 3",
   "language": "python",
   "name": "python3"
  },
  "language_info": {
   "codemirror_mode": {
    "name": "ipython",
    "version": 3
   },
   "file_extension": ".py",
   "mimetype": "text/x-python",
   "name": "python",
   "nbconvert_exporter": "python",
   "pygments_lexer": "ipython3",
   "version": "3.6.1"
  },
  "varInspector": {
   "cols": {
    "lenName": 16,
    "lenType": 16,
    "lenVar": 40
   },
   "kernels_config": {
    "python": {
     "delete_cmd_postfix": "",
     "delete_cmd_prefix": "del ",
     "library": "var_list.py",
     "varRefreshCmd": "print(var_dic_list())"
    },
    "r": {
     "delete_cmd_postfix": ") ",
     "delete_cmd_prefix": "rm(",
     "library": "var_list.r",
     "varRefreshCmd": "cat(var_dic_list()) "
    }
   },
   "types_to_exclude": [
    "module",
    "function",
    "builtin_function_or_method",
    "instance",
    "_Feature"
   ],
   "window_display": false
  }
 },
 "nbformat": 4,
 "nbformat_minor": 2
}
