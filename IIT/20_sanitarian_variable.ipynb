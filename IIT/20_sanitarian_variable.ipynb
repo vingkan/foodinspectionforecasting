{
 "cells": [
  {
   "cell_type": "code",
   "execution_count": 1,
   "metadata": {},
   "outputs": [],
   "source": [
    "import pandas as pd\n",
    "import numpy as np\n",
    "%matplotlib inline\n",
    "import matplotlib.pyplot as plt\n",
    "import seaborn as sns\n",
    "import pickle\n",
    "from datetime import datetime"
   ]
  },
  {
   "cell_type": "code",
   "execution_count": 6,
   "metadata": {},
   "outputs": [],
   "source": [
    "from research.strings import TARGET, PREDICTORS, INSPECTORS\n",
    "from research.evaluation import evaluate_model"
   ]
  },
  {
   "cell_type": "code",
   "execution_count": 3,
   "metadata": {},
   "outputs": [
    {
     "name": "stdout",
     "output_type": "stream",
     "text": [
      "F1 Score = 0.08664\n",
      "Precision = 0.63158\n",
      "Recall = 0.04651\n"
     ]
    },
    {
     "data": {
      "text/html": [
       "<div>\n",
       "<style scoped>\n",
       "    .dataframe tbody tr th:only-of-type {\n",
       "        vertical-align: middle;\n",
       "    }\n",
       "\n",
       "    .dataframe tbody tr th {\n",
       "        vertical-align: top;\n",
       "    }\n",
       "\n",
       "    .dataframe thead th {\n",
       "        text-align: right;\n",
       "    }\n",
       "</style>\n",
       "<table border=\"1\" class=\"dataframe\">\n",
       "  <thead>\n",
       "    <tr style=\"text-align: right;\">\n",
       "      <th></th>\n",
       "      <th>Predicted +</th>\n",
       "      <th>Predicted -</th>\n",
       "    </tr>\n",
       "  </thead>\n",
       "  <tbody>\n",
       "    <tr>\n",
       "      <th>Actual +</th>\n",
       "      <td>12</td>\n",
       "      <td>246</td>\n",
       "    </tr>\n",
       "    <tr>\n",
       "      <th>Actual -</th>\n",
       "      <td>7</td>\n",
       "      <td>1372</td>\n",
       "    </tr>\n",
       "  </tbody>\n",
       "</table>\n",
       "</div>"
      ],
      "text/plain": [
       "          Predicted +  Predicted -\n",
       "Actual +           12          246\n",
       "Actual -            7         1372"
      ]
     },
     "execution_count": 3,
     "metadata": {},
     "output_type": "execute_result"
    }
   ],
   "source": [
    "d_test = pd.read_csv(\"data/test_data.csv\")\n",
    "y_test = d_test[TARGET]\n",
    "X_test = d_test[PREDICTORS]\n",
    "clf = pickle.load(open(\"models/sklearn-glm.pkl\", \"rb\"))\n",
    "evaluate_model(y_test, clf.predict(X_test))"
   ]
  },
  {
   "cell_type": "code",
   "execution_count": 8,
   "metadata": {},
   "outputs": [
    {
     "data": {
      "text/html": [
       "<div>\n",
       "<style scoped>\n",
       "    .dataframe tbody tr th:only-of-type {\n",
       "        vertical-align: middle;\n",
       "    }\n",
       "\n",
       "    .dataframe tbody tr th {\n",
       "        vertical-align: top;\n",
       "    }\n",
       "\n",
       "    .dataframe thead th {\n",
       "        text-align: right;\n",
       "    }\n",
       "</style>\n",
       "<table border=\"1\" class=\"dataframe\">\n",
       "  <thead>\n",
       "    <tr style=\"text-align: right;\">\n",
       "      <th></th>\n",
       "      <th>criticalFound</th>\n",
       "      <th>Inspection_Date</th>\n",
       "      <th>License</th>\n",
       "      <th>Inspection_ID</th>\n",
       "      <th>Business_ID</th>\n",
       "      <th>Inspector_blue</th>\n",
       "      <th>Inspector_brown</th>\n",
       "      <th>Inspector_green</th>\n",
       "      <th>Inspector_orange</th>\n",
       "      <th>Inspector_purple</th>\n",
       "      <th>...</th>\n",
       "      <th>pastCritical</th>\n",
       "      <th>timeSinceLast</th>\n",
       "      <th>ageAtInspection</th>\n",
       "      <th>consumption_on_premises_incidental_activity</th>\n",
       "      <th>tobacco_retail_over_counter</th>\n",
       "      <th>temperatureMax</th>\n",
       "      <th>heat_burglary</th>\n",
       "      <th>heat_sanitation</th>\n",
       "      <th>heat_garbage</th>\n",
       "      <th>inspector</th>\n",
       "    </tr>\n",
       "  </thead>\n",
       "  <tbody>\n",
       "    <tr>\n",
       "      <th>0</th>\n",
       "      <td>0.0</td>\n",
       "      <td>16324</td>\n",
       "      <td>2021618</td>\n",
       "      <td>920471</td>\n",
       "      <td>2021618-20121216</td>\n",
       "      <td>1</td>\n",
       "      <td>0</td>\n",
       "      <td>0</td>\n",
       "      <td>0</td>\n",
       "      <td>0</td>\n",
       "      <td>...</td>\n",
       "      <td>0.0</td>\n",
       "      <td>2.000000</td>\n",
       "      <td>1</td>\n",
       "      <td>0.0</td>\n",
       "      <td>0.0</td>\n",
       "      <td>77.946667</td>\n",
       "      <td>70.000000</td>\n",
       "      <td>44.398934</td>\n",
       "      <td>18.826366</td>\n",
       "      <td>blue</td>\n",
       "    </tr>\n",
       "    <tr>\n",
       "      <th>1</th>\n",
       "      <td>0.0</td>\n",
       "      <td>16339</td>\n",
       "      <td>43618</td>\n",
       "      <td>1115257</td>\n",
       "      <td>43618-20140616</td>\n",
       "      <td>0</td>\n",
       "      <td>0</td>\n",
       "      <td>0</td>\n",
       "      <td>1</td>\n",
       "      <td>0</td>\n",
       "      <td>...</td>\n",
       "      <td>0.0</td>\n",
       "      <td>1.917808</td>\n",
       "      <td>1</td>\n",
       "      <td>0.0</td>\n",
       "      <td>0.0</td>\n",
       "      <td>72.263333</td>\n",
       "      <td>25.084509</td>\n",
       "      <td>52.785171</td>\n",
       "      <td>11.752896</td>\n",
       "      <td>orange</td>\n",
       "    </tr>\n",
       "    <tr>\n",
       "      <th>2</th>\n",
       "      <td>0.0</td>\n",
       "      <td>16346</td>\n",
       "      <td>67839</td>\n",
       "      <td>1155245</td>\n",
       "      <td>67839-20121116</td>\n",
       "      <td>0</td>\n",
       "      <td>0</td>\n",
       "      <td>0</td>\n",
       "      <td>1</td>\n",
       "      <td>0</td>\n",
       "      <td>...</td>\n",
       "      <td>0.0</td>\n",
       "      <td>1.936986</td>\n",
       "      <td>1</td>\n",
       "      <td>0.0</td>\n",
       "      <td>0.0</td>\n",
       "      <td>65.810000</td>\n",
       "      <td>12.395546</td>\n",
       "      <td>13.437666</td>\n",
       "      <td>41.032810</td>\n",
       "      <td>orange</td>\n",
       "    </tr>\n",
       "    <tr>\n",
       "      <th>3</th>\n",
       "      <td>0.0</td>\n",
       "      <td>16364</td>\n",
       "      <td>2183764</td>\n",
       "      <td>1155246</td>\n",
       "      <td>2183764-20130416</td>\n",
       "      <td>0</td>\n",
       "      <td>0</td>\n",
       "      <td>0</td>\n",
       "      <td>1</td>\n",
       "      <td>0</td>\n",
       "      <td>...</td>\n",
       "      <td>0.0</td>\n",
       "      <td>1.115068</td>\n",
       "      <td>0</td>\n",
       "      <td>0.0</td>\n",
       "      <td>0.0</td>\n",
       "      <td>55.386667</td>\n",
       "      <td>6.591129</td>\n",
       "      <td>12.044724</td>\n",
       "      <td>6.493034</td>\n",
       "      <td>orange</td>\n",
       "    </tr>\n",
       "    <tr>\n",
       "      <th>4</th>\n",
       "      <td>1.0</td>\n",
       "      <td>16316</td>\n",
       "      <td>2008126</td>\n",
       "      <td>1199491</td>\n",
       "      <td>2008126-20130516</td>\n",
       "      <td>1</td>\n",
       "      <td>0</td>\n",
       "      <td>0</td>\n",
       "      <td>0</td>\n",
       "      <td>0</td>\n",
       "      <td>...</td>\n",
       "      <td>1.0</td>\n",
       "      <td>1.342466</td>\n",
       "      <td>1</td>\n",
       "      <td>0.0</td>\n",
       "      <td>0.0</td>\n",
       "      <td>82.030000</td>\n",
       "      <td>9.700997</td>\n",
       "      <td>14.368083</td>\n",
       "      <td>0.453519</td>\n",
       "      <td>blue</td>\n",
       "    </tr>\n",
       "  </tbody>\n",
       "</table>\n",
       "<p>5 rows × 22 columns</p>\n",
       "</div>"
      ],
      "text/plain": [
       "   criticalFound  Inspection_Date  License  Inspection_ID       Business_ID  \\\n",
       "0            0.0            16324  2021618         920471  2021618-20121216   \n",
       "1            0.0            16339    43618        1115257    43618-20140616   \n",
       "2            0.0            16346    67839        1155245    67839-20121116   \n",
       "3            0.0            16364  2183764        1155246  2183764-20130416   \n",
       "4            1.0            16316  2008126        1199491  2008126-20130516   \n",
       "\n",
       "   Inspector_blue  Inspector_brown  Inspector_green  Inspector_orange  \\\n",
       "0               1                0                0                 0   \n",
       "1               0                0                0                 1   \n",
       "2               0                0                0                 1   \n",
       "3               0                0                0                 1   \n",
       "4               1                0                0                 0   \n",
       "\n",
       "   Inspector_purple  ...  pastCritical  timeSinceLast  ageAtInspection  \\\n",
       "0                 0  ...           0.0       2.000000                1   \n",
       "1                 0  ...           0.0       1.917808                1   \n",
       "2                 0  ...           0.0       1.936986                1   \n",
       "3                 0  ...           0.0       1.115068                0   \n",
       "4                 0  ...           1.0       1.342466                1   \n",
       "\n",
       "   consumption_on_premises_incidental_activity  tobacco_retail_over_counter  \\\n",
       "0                                          0.0                          0.0   \n",
       "1                                          0.0                          0.0   \n",
       "2                                          0.0                          0.0   \n",
       "3                                          0.0                          0.0   \n",
       "4                                          0.0                          0.0   \n",
       "\n",
       "   temperatureMax  heat_burglary  heat_sanitation  heat_garbage  inspector  \n",
       "0       77.946667      70.000000        44.398934     18.826366       blue  \n",
       "1       72.263333      25.084509        52.785171     11.752896     orange  \n",
       "2       65.810000      12.395546        13.437666     41.032810     orange  \n",
       "3       55.386667       6.591129        12.044724      6.493034     orange  \n",
       "4       82.030000       9.700997        14.368083      0.453519       blue  \n",
       "\n",
       "[5 rows x 22 columns]"
      ]
     },
     "execution_count": 8,
     "metadata": {},
     "output_type": "execute_result"
    }
   ],
   "source": [
    "d_test[\"inspector\"] = d_test[INSPECTORS].idxmax(axis=1).apply(lambda x: str(x)[10:])\n",
    "d_test.head()"
   ]
  },
  {
   "cell_type": "code",
   "execution_count": 11,
   "metadata": {},
   "outputs": [
    {
     "data": {
      "text/plain": [
       "inspector  pastCritical\n",
       "blue       0.0             480\n",
       "           1.0              57\n",
       "brown      0.0             104\n",
       "           1.0              11\n",
       "green      0.0             319\n",
       "           1.0              26\n",
       "orange     0.0             272\n",
       "           1.0              27\n",
       "purple     0.0              84\n",
       "           1.0              15\n",
       "yellow     0.0             220\n",
       "           1.0              22\n",
       "Name: criticalFound, dtype: int64"
      ]
     },
     "execution_count": 11,
     "metadata": {},
     "output_type": "execute_result"
    }
   ],
   "source": [
    "d_test.groupby([\"inspector\", \"pastCritical\"])[\"criticalFound\"].count()"
   ]
  },
  {
   "cell_type": "code",
   "execution_count": 12,
   "metadata": {},
   "outputs": [
    {
     "data": {
      "text/plain": [
       "inspector  pastCritical\n",
       "blue       0.0             0.187500\n",
       "           1.0             0.298246\n",
       "brown      0.0             0.019231\n",
       "           1.0             0.090909\n",
       "green      0.0             0.109718\n",
       "           1.0             0.153846\n",
       "orange     0.0             0.154412\n",
       "           1.0             0.148148\n",
       "purple     0.0             0.369048\n",
       "           1.0             0.800000\n",
       "yellow     0.0             0.077273\n",
       "           1.0             0.136364\n",
       "Name: criticalFound, dtype: float64"
      ]
     },
     "execution_count": 12,
     "metadata": {},
     "output_type": "execute_result"
    }
   ],
   "source": [
    "d_test.groupby([\"inspector\", \"pastCritical\"])[\"criticalFound\"].mean()"
   ]
  },
  {
   "cell_type": "code",
   "execution_count": null,
   "metadata": {},
   "outputs": [],
   "source": []
  }
 ],
 "metadata": {
  "kernelspec": {
   "display_name": "Python 3",
   "language": "python",
   "name": "python3"
  },
  "language_info": {
   "codemirror_mode": {
    "name": "ipython",
    "version": 3
   },
   "file_extension": ".py",
   "mimetype": "text/x-python",
   "name": "python",
   "nbconvert_exporter": "python",
   "pygments_lexer": "ipython3",
   "version": "3.6.1"
  },
  "varInspector": {
   "cols": {
    "lenName": 16,
    "lenType": 16,
    "lenVar": 40
   },
   "kernels_config": {
    "python": {
     "delete_cmd_postfix": "",
     "delete_cmd_prefix": "del ",
     "library": "var_list.py",
     "varRefreshCmd": "print(var_dic_list())"
    },
    "r": {
     "delete_cmd_postfix": ") ",
     "delete_cmd_prefix": "rm(",
     "library": "var_list.r",
     "varRefreshCmd": "cat(var_dic_list()) "
    }
   },
   "types_to_exclude": [
    "module",
    "function",
    "builtin_function_or_method",
    "instance",
    "_Feature"
   ],
   "window_display": false
  }
 },
 "nbformat": 4,
 "nbformat_minor": 2
}
