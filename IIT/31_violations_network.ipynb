{
 "cells": [
  {
   "cell_type": "code",
   "execution_count": 1,
   "metadata": {},
   "outputs": [],
   "source": [
    "import pandas as pd\n",
    "import numpy as np\n",
    "%matplotlib inline\n",
    "import matplotlib.pyplot as plt\n",
    "import seaborn as sns"
   ]
  },
  {
   "cell_type": "code",
   "execution_count": 2,
   "metadata": {},
   "outputs": [],
   "source": [
    "from research.strings import INSPECTION_ID, TARGET, PREDICTORS, OTHER_PREDICTORS\n",
    "from research.evaluation import evaluate_model, show_roc, show_prc\n",
    "from IPython.display import Image"
   ]
  },
  {
   "cell_type": "code",
   "execution_count": 120,
   "metadata": {},
   "outputs": [],
   "source": [
    "import re\n",
    "from sklearn.metrics import precision_score, recall_score, f1_score\n",
    "from time import time\n",
    "from datetime import datetime\n",
    "\n",
    "def strip_comments(code):\n",
    "    code = str(code)\n",
    "    return re.sub(r'(?m)^ *#.*\\n?', '', code)\n",
    "\n",
    "def compute_metrics(y, pred):\n",
    "    f1_val = f1_score(y, pred)\n",
    "    prec_val = precision_score(y, pred)\n",
    "    rec_val = recall_score(y, pred)\n",
    "    return f1_val, prec_val, rec_val\n",
    "\n",
    "def summarize(model, y_train, y_train_pred, y_test, y_test_pred, ep, src):\n",
    "    f1t, pt, rt = compute_metrics(y_train, y_train_pred)\n",
    "    f1v, pv, rv = compute_metrics(y_test, y_test_pred)\n",
    "    s = \"\"\n",
    "    s += datetime.now().strftime(\"%A %m/%d/%y %I:%M %p\")\n",
    "    s += \"\\nEpochs = {}\".format(ep)\n",
    "    s += \"\\n-----------\"\n",
    "    s += \"\\nF1(Train) = {0:.5f}\".format(f1t)\n",
    "    s += \"\\nPrecision(Train) = {0:.5f}\".format(pt)\n",
    "    s += \"\\nRecall(Train) = {0:.5f}\".format(rt)\n",
    "    s += \"\\nF1(Test) = {0:.5f}\".format(f1v)\n",
    "    s += \"\\nPrecision(Test) = {0:.5f}\".format(pv)\n",
    "    s += \"\\nRecall(Test) = {0:.5f}\".format(rv)\n",
    "    s += \"\\n-----------\"\n",
    "    s += \"\\nPredicts {0:.5f}% True on Train\".format(100 * y_train_pred.sum() / len(y_train_pred))\n",
    "    s += \"\\nPredicts {0:.5f}% True on Test\".format(100 * y_test_pred.sum() / len(y_test_pred))\n",
    "    s += \"\\n-----------\\n\"\n",
    "    s += strip_comments(src)\n",
    "    return s\n",
    "\n",
    "def save_run(model, y_train, y_train_pred, y_test, y_test_pred, ep, src):\n",
    "    s = summarize(model, y_train, y_train_pred, y_test, y_test_pred, ep, src)\n",
    "    fname = \"runs/model_{}.txt\".format(int(time()))\n",
    "    with open(fname, \"w\") as file:\n",
    "        file.write(s + \"\\n\")\n",
    "    print(\"Saved run to: {}\".format(fname))\n",
    "    return s"
   ]
  },
  {
   "cell_type": "code",
   "execution_count": 11,
   "metadata": {},
   "outputs": [],
   "source": [
    "from sklearn.preprocessing import MultiLabelBinarizer\n",
    "\n",
    "\n",
    "def get_violation_codes(report):\n",
    "    if pd.isnull(report):\n",
    "        return []\n",
    "    else:\n",
    "        codes = [int(comment.split(\".\")[0]) for comment in report.split(\" | \")]\n",
    "        return codes\n",
    "        \n",
    "\n",
    "def get_violation_level(code):\n",
    "    if code <= 14:\n",
    "        return \"critical\"\n",
    "    elif code <= 29:\n",
    "        return \"serious\"\n",
    "    elif code <= 44 or code == 70:\n",
    "        return \"minor\"\n",
    "    else:\n",
    "        return \"unknown\"\n",
    "\n",
    "    \n",
    "def get_crit_mat(df):\n",
    "    code_array = [get_violation_codes(report) for report in df[\"violations\"].values]\n",
    "    crit_array = [list(filter(lambda code: get_violation_level(code) == \"critical\", arr)) for arr in code_array]\n",
    "    crit_array = [[\"V\" + str(i) for i in arr] for arr in crit_array]\n",
    "    crit_viols = [\"V\" + str(i) for i in range(1, 15)]\n",
    "    mlb_crit = MultiLabelBinarizer(classes=crit_viols)\n",
    "    mlb_crit.fit(crit_array)\n",
    "    crit_mat = pd.DataFrame(mlb_crit.transform(crit_array), columns=mlb_crit.classes_)\n",
    "    return crit_mat"
   ]
  },
  {
   "cell_type": "code",
   "execution_count": 69,
   "metadata": {},
   "outputs": [],
   "source": [
    "d_train = pd.read_csv(\"data/inspections_train.csv\")\n",
    "d_test = pd.read_csv(\"data/inspections_test.csv\")\n",
    "crit_train = get_crit_mat(d_train)\n",
    "crit_test = get_crit_mat(d_test)\n",
    "X_train = d_train[PREDICTORS]\n",
    "X_test = d_test[PREDICTORS]\n",
    "y_train = d_train[TARGET]\n",
    "y_test = d_test[TARGET]"
   ]
  },
  {
   "cell_type": "code",
   "execution_count": 70,
   "metadata": {},
   "outputs": [
    {
     "name": "stdout",
     "output_type": "stream",
     "text": [
      "Features = 16, Labels = 14\n"
     ]
    }
   ],
   "source": [
    "print(\"Features = {}, Labels = {}\".format(len(X_train.columns), len(crit_train.columns)))"
   ]
  },
  {
   "cell_type": "code",
   "execution_count": 71,
   "metadata": {},
   "outputs": [],
   "source": [
    "from keras.models import Sequential\n",
    "from keras.layers import Dense\n",
    "from keras.layers import Flatten"
   ]
  },
  {
   "cell_type": "code",
   "execution_count": 121,
   "metadata": {},
   "outputs": [],
   "source": [
    "model = Sequential()\n",
    "model.add(Dense(16, activation=\"relu\", input_shape=(16,)))\n",
    "# model.add(Dense(16, activation=\"relu\"))\n",
    "model.add(Dense(14, activation=\"sigmoid\"))"
   ]
  },
  {
   "cell_type": "code",
   "execution_count": 122,
   "metadata": {},
   "outputs": [],
   "source": [
    "model_source = _i"
   ]
  },
  {
   "cell_type": "code",
   "execution_count": 123,
   "metadata": {},
   "outputs": [],
   "source": [
    "model.compile(\n",
    "    optimizer=\"adam\",\n",
    "    loss=\"binary_crossentropy\"\n",
    ")"
   ]
  },
  {
   "cell_type": "code",
   "execution_count": 124,
   "metadata": {},
   "outputs": [
    {
     "name": "stdout",
     "output_type": "stream",
     "text": [
      "Train on 17075 samples, validate on 1637 samples\n",
      "Epoch 1/10\n",
      "17075/17075 [==============================] - 1s 62us/step - loss: 0.3226 - val_loss: 0.0958\n",
      "Epoch 2/10\n",
      "17075/17075 [==============================] - 1s 44us/step - loss: 0.0832 - val_loss: 0.0788\n",
      "Epoch 3/10\n",
      "17075/17075 [==============================] - 1s 43us/step - loss: 0.0764 - val_loss: 0.0745\n",
      "Epoch 4/10\n",
      "17075/17075 [==============================] - 1s 44us/step - loss: 0.0732 - val_loss: 0.0710\n",
      "Epoch 5/10\n",
      "17075/17075 [==============================] - 1s 43us/step - loss: 0.0703 - val_loss: 0.0699\n",
      "Epoch 6/10\n",
      "17075/17075 [==============================] - 1s 44us/step - loss: 0.0682 - val_loss: 0.0703\n",
      "Epoch 7/10\n",
      "17075/17075 [==============================] - 1s 43us/step - loss: 0.0669 - val_loss: 0.0694\n",
      "Epoch 8/10\n",
      "17075/17075 [==============================] - 1s 43us/step - loss: 0.0659 - val_loss: 0.0704\n",
      "Epoch 9/10\n",
      "17075/17075 [==============================] - 1s 44us/step - loss: 0.0649 - val_loss: 0.0684\n",
      "Epoch 10/10\n",
      "17075/17075 [==============================] - 1s 44us/step - loss: 0.0644 - val_loss: 0.0693\n"
     ]
    }
   ],
   "source": [
    "n_epochs = 10\n",
    "hist = model.fit(X_train, crit_train, validation_data=(X_test, crit_test), epochs=n_epochs)"
   ]
  },
  {
   "cell_type": "code",
   "execution_count": 125,
   "metadata": {},
   "outputs": [
    {
     "data": {
      "image/png": "[encoded data removed]",
      "text/plain": [
       "<matplotlib.figure.Figure at 0x1237f4550>"
      ]
     },
     "metadata": {
      "needs_background": "light"
     },
     "output_type": "display_data"
    }
   ],
   "source": [
    "sns.lineplot(x=range(n_epochs), y=hist.history[\"val_loss\"], label=\"Val Loss\")\n",
    "sns.lineplot(x=range(n_epochs), y=hist.history[\"loss\"], label=\"Loss\")\n",
    "plt.xticks(range(0, n_epochs + 1, 5))\n",
    "plt.show()"
   ]
  },
  {
   "cell_type": "code",
   "execution_count": 126,
   "metadata": {},
   "outputs": [
    {
     "name": "stdout",
     "output_type": "stream",
     "text": [
      "Saved run to: runs/model_1552172036.txt\n",
      "Saturday 03/09/19 04:53 PM\n",
      "Epochs = 10\n",
      "-----------\n",
      "F1(Train) = 0.03288\n",
      "Precision(Train) = 0.44565\n",
      "Recall(Train) = 0.01707\n",
      "F1(Test) = 0.08602\n",
      "Precision(Test) = 0.57143\n",
      "Recall(Test) = 0.04651\n",
      "-----------\n",
      "Predicts 0.53880% True on Train\n",
      "Predicts 1.28283% True on Test\n",
      "-----------\n",
      "model = Sequential()\n",
      "model.add(Dense(16, activation=\"relu\", input_shape=(16,)))\n",
      "model.add(Dense(14, activation=\"sigmoid\"))\n"
     ]
    }
   ],
   "source": [
    "y_train_pred = (model.predict(X_train).max(axis=1) >= 0.5).astype(int)\n",
    "y_test_pred = (model.predict(X_test).max(axis=1) >= 0.5).astype(int)\n",
    "s = save_run(model, y_train, y_train_pred, y_test, y_test_pred, n_epochs, model_source)\n",
    "print(s)"
   ]
  },
  {
   "cell_type": "code",
   "execution_count": 127,
   "metadata": {},
   "outputs": [
    {
     "data": {
      "image/png": "[encoded data removed]",
      "text/plain": [
       "<matplotlib.figure.Figure at 0x123840278>"
      ]
     },
     "metadata": {
      "needs_background": "light"
     },
     "output_type": "display_data"
    }
   ],
   "source": [
    "sns.heatmap(model.predict(X_test))\n",
    "plt.xlabel(\"Violation\")\n",
    "plt.ylabel(\"Test Record\")\n",
    "plt.show()"
   ]
  },
  {
   "cell_type": "code",
   "execution_count": null,
   "metadata": {},
   "outputs": [],
   "source": []
  },
  {
   "cell_type": "code",
   "execution_count": null,
   "metadata": {},
   "outputs": [],
   "source": []
  },
  {
   "cell_type": "code",
   "execution_count": null,
   "metadata": {},
   "outputs": [],
   "source": []
  },
  {
   "cell_type": "code",
   "execution_count": 128,
   "metadata": {},
   "outputs": [],
   "source": [
    "import pickle\n",
    "from research.metrics import to_inspection_daynum, show_metrics, compare_metrics"
   ]
  },
  {
   "cell_type": "code",
   "execution_count": 147,
   "metadata": {},
   "outputs": [
    {
     "name": "stdout",
     "output_type": "stream",
     "text": [
      "F1 Score = 0.08664\n",
      "Precision = 0.63158\n",
      "Recall = 0.04651\n"
     ]
    },
    {
     "data": {
      "text/html": [
       "<div>\n",
       "<style scoped>\n",
       "    .dataframe tbody tr th:only-of-type {\n",
       "        vertical-align: middle;\n",
       "    }\n",
       "\n",
       "    .dataframe tbody tr th {\n",
       "        vertical-align: top;\n",
       "    }\n",
       "\n",
       "    .dataframe thead th {\n",
       "        text-align: right;\n",
       "    }\n",
       "</style>\n",
       "<table border=\"1\" class=\"dataframe\">\n",
       "  <thead>\n",
       "    <tr style=\"text-align: right;\">\n",
       "      <th></th>\n",
       "      <th>Predicted +</th>\n",
       "      <th>Predicted -</th>\n",
       "    </tr>\n",
       "  </thead>\n",
       "  <tbody>\n",
       "    <tr>\n",
       "      <th>Actual +</th>\n",
       "      <td>12</td>\n",
       "      <td>246</td>\n",
       "    </tr>\n",
       "    <tr>\n",
       "      <th>Actual -</th>\n",
       "      <td>7</td>\n",
       "      <td>1372</td>\n",
       "    </tr>\n",
       "  </tbody>\n",
       "</table>\n",
       "</div>"
      ],
      "text/plain": [
       "          Predicted +  Predicted -\n",
       "Actual +           12          246\n",
       "Actual -            7         1372"
      ]
     },
     "execution_count": 147,
     "metadata": {},
     "output_type": "execute_result"
    }
   ],
   "source": [
    "y_true = d_test[TARGET]\n",
    "days = to_inspection_daynum(d_test[\"Inspection_Date\"])\n",
    "city = pickle.load(open(\"models/sklearn-glm.pkl\", \"rb\"))\n",
    "evaluate_model(y_true, city.predict(X_test))"
   ]
  },
  {
   "cell_type": "code",
   "execution_count": 161,
   "metadata": {},
   "outputs": [
    {
     "data": {
      "image/png": "[encoded data removed]",
      "text/plain": [
       "<matplotlib.figure.Figure at 0x122446f28>"
      ]
     },
     "metadata": {
      "needs_background": "light"
     },
     "output_type": "display_data"
    },
    {
     "data": {
      "text/html": [
       "<div>\n",
       "<style scoped>\n",
       "    .dataframe tbody tr th:only-of-type {\n",
       "        vertical-align: middle;\n",
       "    }\n",
       "\n",
       "    .dataframe tbody tr th {\n",
       "        vertical-align: top;\n",
       "    }\n",
       "\n",
       "    .dataframe thead th {\n",
       "        text-align: right;\n",
       "    }\n",
       "</style>\n",
       "<table border=\"1\" class=\"dataframe\">\n",
       "  <thead>\n",
       "    <tr style=\"text-align: right;\">\n",
       "      <th></th>\n",
       "      <th>Model</th>\n",
       "      <th>First Half</th>\n",
       "      <th>Mean Change</th>\n",
       "      <th>Std. Change</th>\n",
       "    </tr>\n",
       "  </thead>\n",
       "  <tbody>\n",
       "    <tr>\n",
       "      <th>2</th>\n",
       "      <td>Neural Network Mean</td>\n",
       "      <td>0.709</td>\n",
       "      <td>7.213</td>\n",
       "      <td>25.825</td>\n",
       "    </tr>\n",
       "    <tr>\n",
       "      <th>3</th>\n",
       "      <td>Neural Network Freq Mean</td>\n",
       "      <td>0.698</td>\n",
       "      <td>7.322</td>\n",
       "      <td>25.212</td>\n",
       "    </tr>\n",
       "    <tr>\n",
       "      <th>0</th>\n",
       "      <td>City Model</td>\n",
       "      <td>0.690</td>\n",
       "      <td>7.438</td>\n",
       "      <td>25.156</td>\n",
       "    </tr>\n",
       "    <tr>\n",
       "      <th>1</th>\n",
       "      <td>Neural Network Max</td>\n",
       "      <td>0.690</td>\n",
       "      <td>7.136</td>\n",
       "      <td>25.082</td>\n",
       "    </tr>\n",
       "  </tbody>\n",
       "</table>\n",
       "</div>"
      ],
      "text/plain": [
       "                      Model  First Half  Mean Change  Std. Change\n",
       "2       Neural Network Mean       0.709        7.213       25.825\n",
       "3  Neural Network Freq Mean       0.698        7.322       25.212\n",
       "0                City Model       0.690        7.438       25.156\n",
       "1        Neural Network Max       0.690        7.136       25.082"
      ]
     },
     "execution_count": 161,
     "metadata": {},
     "output_type": "execute_result"
    }
   ],
   "source": [
    "compare_metrics(\n",
    "    y_true, days,\n",
    "    [\n",
    "        (\"City Model\", city.predict_proba(X_test)[:,1]),\n",
    "        (\"Neural Network Max\", model.predict(X_test).max(axis=1)),\n",
    "        (\"Neural Network Mean\", model.predict(X_test).mean(axis=1)),\n",
    "        (\"Neural Network Freq Mean\", np.dot(crit_train.mean(axis=0), model.predict(X_test).T))\n",
    "    ]\n",
    ")"
   ]
  },
  {
   "cell_type": "code",
   "execution_count": null,
   "metadata": {},
   "outputs": [],
   "source": []
  },
  {
   "cell_type": "code",
   "execution_count": null,
   "metadata": {},
   "outputs": [],
   "source": []
  },
  {
   "cell_type": "code",
   "execution_count": null,
   "metadata": {},
   "outputs": [],
   "source": []
  },
  {
   "cell_type": "code",
   "execution_count": null,
   "metadata": {},
   "outputs": [],
   "source": []
  },
  {
   "cell_type": "code",
   "execution_count": null,
   "metadata": {},
   "outputs": [],
   "source": []
  }
 ],
 "metadata": {
  "kernelspec": {
   "display_name": "Python 3",
   "language": "python",
   "name": "python3"
  },
  "language_info": {
   "codemirror_mode": {
    "name": "ipython",
    "version": 3
   },
   "file_extension": ".py",
   "mimetype": "text/x-python",
   "name": "python",
   "nbconvert_exporter": "python",
   "pygments_lexer": "ipython3",
   "version": "3.6.1"
  },
  "varInspector": {
   "cols": {
    "lenName": 16,
    "lenType": 16,
    "lenVar": 40
   },
   "kernels_config": {
    "python": {
     "delete_cmd_postfix": "",
     "delete_cmd_prefix": "del ",
     "library": "var_list.py",
     "varRefreshCmd": "print(var_dic_list())"
    },
    "r": {
     "delete_cmd_postfix": ") ",
     "delete_cmd_prefix": "rm(",
     "library": "var_list.r",
     "varRefreshCmd": "cat(var_dic_list()) "
    }
   },
   "types_to_exclude": [
    "module",
    "function",
    "builtin_function_or_method",
    "instance",
    "_Feature"
   ],
   "window_display": false
  }
 },
 "nbformat": 4,
 "nbformat_minor": 2
}
