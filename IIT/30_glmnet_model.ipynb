{
 "cells": [
  {
   "cell_type": "markdown",
   "metadata": {},
   "source": [
    "# Python Version of GLMnet Model\n",
    "\n",
    "**Goal:** Reproduce a Python version of the GLMnet model from \"Forecasting restaurants with critical violations in Chicago\" (Schenk Jr. et al, 2015).\n",
    "\n",
    "**Result:** The parameters and results of this reproduced model appear to match the published version. This notebook saves a Scikit learn logistic regression model with the correct parameters in `glm-sklearn.pkl`."
   ]
  },
  {
   "cell_type": "markdown",
   "metadata": {},
   "source": [
    "## Load Cached RDS Files"
   ]
  },
  {
   "cell_type": "code",
   "execution_count": 1,
   "metadata": {
    "collapsed": true
   },
   "outputs": [],
   "source": [
    "import pandas as pd\n",
    "import numpy as np\n",
    "import pyreadr"
   ]
  },
  {
   "cell_type": "code",
   "execution_count": 2,
   "metadata": {},
   "outputs": [
    {
     "data": {
      "text/html": [
       "<div>\n",
       "<style scoped>\n",
       "    .dataframe tbody tr th:only-of-type {\n",
       "        vertical-align: middle;\n",
       "    }\n",
       "\n",
       "    .dataframe tbody tr th {\n",
       "        vertical-align: top;\n",
       "    }\n",
       "\n",
       "    .dataframe thead th {\n",
       "        text-align: right;\n",
       "    }\n",
       "</style>\n",
       "<table border=\"1\" class=\"dataframe\">\n",
       "  <thead>\n",
       "    <tr style=\"text-align: right;\">\n",
       "      <th></th>\n",
       "      <th>Inspection_Date</th>\n",
       "      <th>License</th>\n",
       "      <th>Inspection_ID</th>\n",
       "      <th>Business_ID</th>\n",
       "      <th>criticalCount</th>\n",
       "      <th>seriousCount</th>\n",
       "      <th>minorCount</th>\n",
       "      <th>Facility_Type</th>\n",
       "      <th>pass_flag</th>\n",
       "      <th>fail_flag</th>\n",
       "      <th>...</th>\n",
       "      <th>caterers_liquor_license</th>\n",
       "      <th>mobile_food_license</th>\n",
       "      <th>heat_burglary</th>\n",
       "      <th>heat_garbage</th>\n",
       "      <th>heat_sanitation</th>\n",
       "      <th>Inspector_Assigned</th>\n",
       "      <th>precipIntensity</th>\n",
       "      <th>temperatureMax</th>\n",
       "      <th>windSpeed</th>\n",
       "      <th>humidity</th>\n",
       "    </tr>\n",
       "  </thead>\n",
       "  <tbody>\n",
       "    <tr>\n",
       "      <th>0</th>\n",
       "      <td>15736</td>\n",
       "      <td>30790</td>\n",
       "      <td>269961.0</td>\n",
       "      <td>30790-20110416</td>\n",
       "      <td>0.0</td>\n",
       "      <td>0.0</td>\n",
       "      <td>2.0</td>\n",
       "      <td>Grocery_Store</td>\n",
       "      <td>1.0</td>\n",
       "      <td>0.0</td>\n",
       "      <td>...</td>\n",
       "      <td>0.0</td>\n",
       "      <td>0.0</td>\n",
       "      <td>26.992376</td>\n",
       "      <td>12.768572</td>\n",
       "      <td>37.748787</td>\n",
       "      <td>green</td>\n",
       "      <td>0.014587</td>\n",
       "      <td>53.496667</td>\n",
       "      <td>13.340000</td>\n",
       "      <td>0.900000</td>\n",
       "    </tr>\n",
       "    <tr>\n",
       "      <th>1</th>\n",
       "      <td>15265</td>\n",
       "      <td>1475890</td>\n",
       "      <td>507211.0</td>\n",
       "      <td>1475890-20110416</td>\n",
       "      <td>0.0</td>\n",
       "      <td>0.0</td>\n",
       "      <td>3.0</td>\n",
       "      <td>Restaurant</td>\n",
       "      <td>1.0</td>\n",
       "      <td>0.0</td>\n",
       "      <td>...</td>\n",
       "      <td>0.0</td>\n",
       "      <td>0.0</td>\n",
       "      <td>13.976557</td>\n",
       "      <td>12.895485</td>\n",
       "      <td>15.412267</td>\n",
       "      <td>blue</td>\n",
       "      <td>0.001907</td>\n",
       "      <td>59.046667</td>\n",
       "      <td>13.016667</td>\n",
       "      <td>0.550000</td>\n",
       "    </tr>\n",
       "    <tr>\n",
       "      <th>2</th>\n",
       "      <td>15265</td>\n",
       "      <td>1740130</td>\n",
       "      <td>507212.0</td>\n",
       "      <td>1740130-20110216</td>\n",
       "      <td>0.0</td>\n",
       "      <td>2.0</td>\n",
       "      <td>6.0</td>\n",
       "      <td>Restaurant</td>\n",
       "      <td>0.0</td>\n",
       "      <td>1.0</td>\n",
       "      <td>...</td>\n",
       "      <td>0.0</td>\n",
       "      <td>0.0</td>\n",
       "      <td>12.611239</td>\n",
       "      <td>8.004220</td>\n",
       "      <td>8.320330</td>\n",
       "      <td>blue</td>\n",
       "      <td>0.001907</td>\n",
       "      <td>59.046667</td>\n",
       "      <td>13.016667</td>\n",
       "      <td>0.550000</td>\n",
       "    </tr>\n",
       "    <tr>\n",
       "      <th>3</th>\n",
       "      <td>15266</td>\n",
       "      <td>1447363</td>\n",
       "      <td>507216.0</td>\n",
       "      <td>1447363-20110216</td>\n",
       "      <td>0.0</td>\n",
       "      <td>0.0</td>\n",
       "      <td>6.0</td>\n",
       "      <td>Restaurant</td>\n",
       "      <td>1.0</td>\n",
       "      <td>0.0</td>\n",
       "      <td>...</td>\n",
       "      <td>0.0</td>\n",
       "      <td>0.0</td>\n",
       "      <td>35.906383</td>\n",
       "      <td>26.238645</td>\n",
       "      <td>38.186618</td>\n",
       "      <td>blue</td>\n",
       "      <td>0.002737</td>\n",
       "      <td>56.153333</td>\n",
       "      <td>10.863333</td>\n",
       "      <td>0.616667</td>\n",
       "    </tr>\n",
       "    <tr>\n",
       "      <th>4</th>\n",
       "      <td>15267</td>\n",
       "      <td>1679459</td>\n",
       "      <td>507219.0</td>\n",
       "      <td>1679459-20100216</td>\n",
       "      <td>0.0</td>\n",
       "      <td>2.0</td>\n",
       "      <td>6.0</td>\n",
       "      <td>Restaurant</td>\n",
       "      <td>0.0</td>\n",
       "      <td>1.0</td>\n",
       "      <td>...</td>\n",
       "      <td>0.0</td>\n",
       "      <td>0.0</td>\n",
       "      <td>9.530785</td>\n",
       "      <td>3.401567</td>\n",
       "      <td>2.126788</td>\n",
       "      <td>blue</td>\n",
       "      <td>0.009987</td>\n",
       "      <td>52.730000</td>\n",
       "      <td>16.266667</td>\n",
       "      <td>0.690000</td>\n",
       "    </tr>\n",
       "  </tbody>\n",
       "</table>\n",
       "<p>5 rows × 38 columns</p>\n",
       "</div>"
      ],
      "text/plain": [
       "   Inspection_Date  License  Inspection_ID       Business_ID  criticalCount  \\\n",
       "0            15736    30790       269961.0    30790-20110416            0.0   \n",
       "1            15265  1475890       507211.0  1475890-20110416            0.0   \n",
       "2            15265  1740130       507212.0  1740130-20110216            0.0   \n",
       "3            15266  1447363       507216.0  1447363-20110216            0.0   \n",
       "4            15267  1679459       507219.0  1679459-20100216            0.0   \n",
       "\n",
       "   seriousCount  minorCount  Facility_Type  pass_flag  fail_flag    ...     \\\n",
       "0           0.0         2.0  Grocery_Store        1.0        0.0    ...      \n",
       "1           0.0         3.0     Restaurant        1.0        0.0    ...      \n",
       "2           2.0         6.0     Restaurant        0.0        1.0    ...      \n",
       "3           0.0         6.0     Restaurant        1.0        0.0    ...      \n",
       "4           2.0         6.0     Restaurant        0.0        1.0    ...      \n",
       "\n",
       "   caterers_liquor_license  mobile_food_license  heat_burglary  heat_garbage  \\\n",
       "0                      0.0                  0.0      26.992376     12.768572   \n",
       "1                      0.0                  0.0      13.976557     12.895485   \n",
       "2                      0.0                  0.0      12.611239      8.004220   \n",
       "3                      0.0                  0.0      35.906383     26.238645   \n",
       "4                      0.0                  0.0       9.530785      3.401567   \n",
       "\n",
       "   heat_sanitation  Inspector_Assigned precipIntensity  temperatureMax  \\\n",
       "0        37.748787               green        0.014587       53.496667   \n",
       "1        15.412267                blue        0.001907       59.046667   \n",
       "2         8.320330                blue        0.001907       59.046667   \n",
       "3        38.186618                blue        0.002737       56.153333   \n",
       "4         2.126788                blue        0.009987       52.730000   \n",
       "\n",
       "   windSpeed  humidity  \n",
       "0  13.340000  0.900000  \n",
       "1  13.016667  0.550000  \n",
       "2  13.016667  0.550000  \n",
       "3  10.863333  0.616667  \n",
       "4  16.266667  0.690000  \n",
       "\n",
       "[5 rows x 38 columns]"
      ]
     },
     "execution_count": 2,
     "metadata": {},
     "output_type": "execute_result"
    }
   ],
   "source": [
    "raw_dat = pyreadr.read_r(\"../DATA/dat_model.Rds\")[None]\n",
    "raw_dat.head()"
   ]
  },
  {
   "cell_type": "code",
   "execution_count": 3,
   "metadata": {
    "collapsed": true
   },
   "outputs": [],
   "source": [
    "# Only keep \"Retail Food Establishment\"\n",
    "dat_retail = raw_dat.query(\"LICENSE_DESCRIPTION == 'Retail Food Establishment'\")"
   ]
  },
  {
   "cell_type": "code",
   "execution_count": 4,
   "metadata": {
    "collapsed": true
   },
   "outputs": [],
   "source": [
    "# Remove License Description\n",
    "dat_all = dat_retail.drop(columns=[\"LICENSE_DESCRIPTION\"])\n",
    "dat = pd.DataFrame(dat_all.dropna())"
   ]
  },
  {
   "cell_type": "code",
   "execution_count": 5,
   "metadata": {
    "collapsed": true
   },
   "outputs": [],
   "source": [
    "# Add criticalFound variable to dat:\n",
    "# dat[\"criticalFound\"] = (dat[\"criticalCount\"] > 0).astype(int)\n",
    "# To be faithful to the R source:\n",
    "dat[\"criticalFound\"] = np.minimum(1, dat[\"criticalCount\"])"
   ]
  },
  {
   "cell_type": "code",
   "execution_count": 6,
   "metadata": {
    "collapsed": true
   },
   "outputs": [],
   "source": [
    "# Set the key for dat\n",
    "# setkey(dat, Inspection_ID)"
   ]
  },
  {
   "cell_type": "markdown",
   "metadata": {},
   "source": [
    "## Create Model Data"
   ]
  },
  {
   "cell_type": "code",
   "execution_count": 7,
   "metadata": {},
   "outputs": [
    {
     "data": {
      "text/html": [
       "<div>\n",
       "<style scoped>\n",
       "    .dataframe tbody tr th:only-of-type {\n",
       "        vertical-align: middle;\n",
       "    }\n",
       "\n",
       "    .dataframe tbody tr th {\n",
       "        vertical-align: top;\n",
       "    }\n",
       "\n",
       "    .dataframe thead th {\n",
       "        text-align: right;\n",
       "    }\n",
       "</style>\n",
       "<table border=\"1\" class=\"dataframe\">\n",
       "  <thead>\n",
       "    <tr style=\"text-align: right;\">\n",
       "      <th></th>\n",
       "      <th>Inspector</th>\n",
       "      <th>pastSerious</th>\n",
       "      <th>pastCritical</th>\n",
       "      <th>timeSinceLast</th>\n",
       "      <th>ageAtInspection</th>\n",
       "      <th>consumption_on_premises_incidental_activity</th>\n",
       "      <th>tobacco_retail_over_counter</th>\n",
       "      <th>temperatureMax</th>\n",
       "      <th>heat_burglary</th>\n",
       "      <th>heat_sanitation</th>\n",
       "      <th>heat_garbage</th>\n",
       "      <th>criticalFound</th>\n",
       "    </tr>\n",
       "  </thead>\n",
       "  <tbody>\n",
       "    <tr>\n",
       "      <th>0</th>\n",
       "      <td>green</td>\n",
       "      <td>0.0</td>\n",
       "      <td>0.0</td>\n",
       "      <td>2.0</td>\n",
       "      <td>1</td>\n",
       "      <td>0.0</td>\n",
       "      <td>1.0</td>\n",
       "      <td>53.496667</td>\n",
       "      <td>26.992376</td>\n",
       "      <td>37.748787</td>\n",
       "      <td>12.768572</td>\n",
       "      <td>0.0</td>\n",
       "    </tr>\n",
       "    <tr>\n",
       "      <th>1</th>\n",
       "      <td>blue</td>\n",
       "      <td>0.0</td>\n",
       "      <td>0.0</td>\n",
       "      <td>2.0</td>\n",
       "      <td>1</td>\n",
       "      <td>0.0</td>\n",
       "      <td>0.0</td>\n",
       "      <td>59.046667</td>\n",
       "      <td>13.976557</td>\n",
       "      <td>15.412267</td>\n",
       "      <td>12.895485</td>\n",
       "      <td>0.0</td>\n",
       "    </tr>\n",
       "    <tr>\n",
       "      <th>2</th>\n",
       "      <td>blue</td>\n",
       "      <td>0.0</td>\n",
       "      <td>0.0</td>\n",
       "      <td>2.0</td>\n",
       "      <td>1</td>\n",
       "      <td>0.0</td>\n",
       "      <td>0.0</td>\n",
       "      <td>59.046667</td>\n",
       "      <td>12.611239</td>\n",
       "      <td>8.320330</td>\n",
       "      <td>8.004220</td>\n",
       "      <td>0.0</td>\n",
       "    </tr>\n",
       "    <tr>\n",
       "      <th>3</th>\n",
       "      <td>blue</td>\n",
       "      <td>0.0</td>\n",
       "      <td>0.0</td>\n",
       "      <td>2.0</td>\n",
       "      <td>1</td>\n",
       "      <td>0.0</td>\n",
       "      <td>0.0</td>\n",
       "      <td>56.153333</td>\n",
       "      <td>35.906383</td>\n",
       "      <td>38.186618</td>\n",
       "      <td>26.238645</td>\n",
       "      <td>0.0</td>\n",
       "    </tr>\n",
       "    <tr>\n",
       "      <th>4</th>\n",
       "      <td>blue</td>\n",
       "      <td>0.0</td>\n",
       "      <td>0.0</td>\n",
       "      <td>2.0</td>\n",
       "      <td>1</td>\n",
       "      <td>0.0</td>\n",
       "      <td>0.0</td>\n",
       "      <td>52.730000</td>\n",
       "      <td>9.530785</td>\n",
       "      <td>2.126788</td>\n",
       "      <td>3.401567</td>\n",
       "      <td>0.0</td>\n",
       "    </tr>\n",
       "  </tbody>\n",
       "</table>\n",
       "</div>"
      ],
      "text/plain": [
       "  Inspector  pastSerious  pastCritical  timeSinceLast  ageAtInspection  \\\n",
       "0     green          0.0           0.0            2.0                1   \n",
       "1      blue          0.0           0.0            2.0                1   \n",
       "2      blue          0.0           0.0            2.0                1   \n",
       "3      blue          0.0           0.0            2.0                1   \n",
       "4      blue          0.0           0.0            2.0                1   \n",
       "\n",
       "   consumption_on_premises_incidental_activity  tobacco_retail_over_counter  \\\n",
       "0                                          0.0                          1.0   \n",
       "1                                          0.0                          0.0   \n",
       "2                                          0.0                          0.0   \n",
       "3                                          0.0                          0.0   \n",
       "4                                          0.0                          0.0   \n",
       "\n",
       "   temperatureMax  heat_burglary  heat_sanitation  heat_garbage  criticalFound  \n",
       "0       53.496667      26.992376        37.748787     12.768572            0.0  \n",
       "1       59.046667      13.976557        15.412267     12.895485            0.0  \n",
       "2       59.046667      12.611239         8.320330      8.004220            0.0  \n",
       "3       56.153333      35.906383        38.186618     26.238645            0.0  \n",
       "4       52.730000       9.530785         2.126788      3.401567            0.0  "
      ]
     },
     "execution_count": 7,
     "metadata": {},
     "output_type": "execute_result"
    }
   ],
   "source": [
    "xmat = pd.DataFrame()\n",
    "xmat[\"Inspector\"] = dat[\"Inspector_Assigned\"]\n",
    "xmat[\"pastSerious\"] = np.minimum(dat[\"pastSerious\"], 1)\n",
    "xmat[\"pastCritical\"] = np.minimum(dat[\"pastCritical\"], 1)\n",
    "xmat[\"timeSinceLast\"] = dat[\"timeSinceLast\"]\n",
    "xmat[\"ageAtInspection\"] = (dat[\"ageAtInspection\"] > 4).astype(int)\n",
    "xmat[\"consumption_on_premises_incidental_activity\"] = dat[\"consumption_on_premises_incidental_activity\"]\n",
    "xmat[\"tobacco_retail_over_counter\"] = dat[\"tobacco_retail_over_counter\"]\n",
    "xmat[\"temperatureMax\"] = dat[\"temperatureMax\"]\n",
    "xmat[\"heat_burglary\"] = np.minimum(dat[\"heat_burglary\"], 70)\n",
    "xmat[\"heat_sanitation\"] = np.minimum(dat[\"heat_sanitation\"], 70)\n",
    "xmat[\"heat_garbage\"] = np.minimum(dat[\"heat_garbage\"], 50)\n",
    "xmat[\"criticalFound\"] = dat[\"criticalFound\"]\n",
    "xmat.head()"
   ]
  },
  {
   "cell_type": "code",
   "execution_count": 8,
   "metadata": {},
   "outputs": [
    {
     "data": {
      "text/html": [
       "<div>\n",
       "<style scoped>\n",
       "    .dataframe tbody tr th:only-of-type {\n",
       "        vertical-align: middle;\n",
       "    }\n",
       "\n",
       "    .dataframe tbody tr th {\n",
       "        vertical-align: top;\n",
       "    }\n",
       "\n",
       "    .dataframe thead th {\n",
       "        text-align: right;\n",
       "    }\n",
       "</style>\n",
       "<table border=\"1\" class=\"dataframe\">\n",
       "  <thead>\n",
       "    <tr style=\"text-align: right;\">\n",
       "      <th></th>\n",
       "      <th>pastSerious</th>\n",
       "      <th>pastCritical</th>\n",
       "      <th>timeSinceLast</th>\n",
       "      <th>ageAtInspection</th>\n",
       "      <th>consumption_on_premises_incidental_activity</th>\n",
       "      <th>tobacco_retail_over_counter</th>\n",
       "      <th>temperatureMax</th>\n",
       "      <th>heat_burglary</th>\n",
       "      <th>heat_sanitation</th>\n",
       "      <th>heat_garbage</th>\n",
       "      <th>criticalFound</th>\n",
       "      <th>Inspector_blue</th>\n",
       "      <th>Inspector_brown</th>\n",
       "      <th>Inspector_green</th>\n",
       "      <th>Inspector_orange</th>\n",
       "      <th>Inspector_purple</th>\n",
       "      <th>Inspector_yellow</th>\n",
       "    </tr>\n",
       "  </thead>\n",
       "  <tbody>\n",
       "    <tr>\n",
       "      <th>0</th>\n",
       "      <td>0.0</td>\n",
       "      <td>0.0</td>\n",
       "      <td>2.0</td>\n",
       "      <td>1</td>\n",
       "      <td>0.0</td>\n",
       "      <td>1.0</td>\n",
       "      <td>53.496667</td>\n",
       "      <td>26.992376</td>\n",
       "      <td>37.748787</td>\n",
       "      <td>12.768572</td>\n",
       "      <td>0.0</td>\n",
       "      <td>0</td>\n",
       "      <td>0</td>\n",
       "      <td>1</td>\n",
       "      <td>0</td>\n",
       "      <td>0</td>\n",
       "      <td>0</td>\n",
       "    </tr>\n",
       "    <tr>\n",
       "      <th>1</th>\n",
       "      <td>0.0</td>\n",
       "      <td>0.0</td>\n",
       "      <td>2.0</td>\n",
       "      <td>1</td>\n",
       "      <td>0.0</td>\n",
       "      <td>0.0</td>\n",
       "      <td>59.046667</td>\n",
       "      <td>13.976557</td>\n",
       "      <td>15.412267</td>\n",
       "      <td>12.895485</td>\n",
       "      <td>0.0</td>\n",
       "      <td>1</td>\n",
       "      <td>0</td>\n",
       "      <td>0</td>\n",
       "      <td>0</td>\n",
       "      <td>0</td>\n",
       "      <td>0</td>\n",
       "    </tr>\n",
       "    <tr>\n",
       "      <th>2</th>\n",
       "      <td>0.0</td>\n",
       "      <td>0.0</td>\n",
       "      <td>2.0</td>\n",
       "      <td>1</td>\n",
       "      <td>0.0</td>\n",
       "      <td>0.0</td>\n",
       "      <td>59.046667</td>\n",
       "      <td>12.611239</td>\n",
       "      <td>8.320330</td>\n",
       "      <td>8.004220</td>\n",
       "      <td>0.0</td>\n",
       "      <td>1</td>\n",
       "      <td>0</td>\n",
       "      <td>0</td>\n",
       "      <td>0</td>\n",
       "      <td>0</td>\n",
       "      <td>0</td>\n",
       "    </tr>\n",
       "    <tr>\n",
       "      <th>3</th>\n",
       "      <td>0.0</td>\n",
       "      <td>0.0</td>\n",
       "      <td>2.0</td>\n",
       "      <td>1</td>\n",
       "      <td>0.0</td>\n",
       "      <td>0.0</td>\n",
       "      <td>56.153333</td>\n",
       "      <td>35.906383</td>\n",
       "      <td>38.186618</td>\n",
       "      <td>26.238645</td>\n",
       "      <td>0.0</td>\n",
       "      <td>1</td>\n",
       "      <td>0</td>\n",
       "      <td>0</td>\n",
       "      <td>0</td>\n",
       "      <td>0</td>\n",
       "      <td>0</td>\n",
       "    </tr>\n",
       "    <tr>\n",
       "      <th>4</th>\n",
       "      <td>0.0</td>\n",
       "      <td>0.0</td>\n",
       "      <td>2.0</td>\n",
       "      <td>1</td>\n",
       "      <td>0.0</td>\n",
       "      <td>0.0</td>\n",
       "      <td>52.730000</td>\n",
       "      <td>9.530785</td>\n",
       "      <td>2.126788</td>\n",
       "      <td>3.401567</td>\n",
       "      <td>0.0</td>\n",
       "      <td>1</td>\n",
       "      <td>0</td>\n",
       "      <td>0</td>\n",
       "      <td>0</td>\n",
       "      <td>0</td>\n",
       "      <td>0</td>\n",
       "    </tr>\n",
       "  </tbody>\n",
       "</table>\n",
       "</div>"
      ],
      "text/plain": [
       "   pastSerious  pastCritical  timeSinceLast  ageAtInspection  \\\n",
       "0          0.0           0.0            2.0                1   \n",
       "1          0.0           0.0            2.0                1   \n",
       "2          0.0           0.0            2.0                1   \n",
       "3          0.0           0.0            2.0                1   \n",
       "4          0.0           0.0            2.0                1   \n",
       "\n",
       "   consumption_on_premises_incidental_activity  tobacco_retail_over_counter  \\\n",
       "0                                          0.0                          1.0   \n",
       "1                                          0.0                          0.0   \n",
       "2                                          0.0                          0.0   \n",
       "3                                          0.0                          0.0   \n",
       "4                                          0.0                          0.0   \n",
       "\n",
       "   temperatureMax  heat_burglary  heat_sanitation  heat_garbage  \\\n",
       "0       53.496667      26.992376        37.748787     12.768572   \n",
       "1       59.046667      13.976557        15.412267     12.895485   \n",
       "2       59.046667      12.611239         8.320330      8.004220   \n",
       "3       56.153333      35.906383        38.186618     26.238645   \n",
       "4       52.730000       9.530785         2.126788      3.401567   \n",
       "\n",
       "   criticalFound  Inspector_blue  Inspector_brown  Inspector_green  \\\n",
       "0            0.0               0                0                1   \n",
       "1            0.0               1                0                0   \n",
       "2            0.0               1                0                0   \n",
       "3            0.0               1                0                0   \n",
       "4            0.0               1                0                0   \n",
       "\n",
       "   Inspector_orange  Inspector_purple  Inspector_yellow  \n",
       "0                 0                 0                 0  \n",
       "1                 0                 0                 0  \n",
       "2                 0                 0                 0  \n",
       "3                 0                 0                 0  \n",
       "4                 0                 0                 0  "
      ]
     },
     "execution_count": 8,
     "metadata": {},
     "output_type": "execute_result"
    }
   ],
   "source": [
    "# Create model matrix\n",
    "mm = pd.get_dummies(xmat)\n",
    "inspectors = [\n",
    "    \"Inspector_blue\",\n",
    "    \"Inspector_brown\",\n",
    "    \"Inspector_green\",\n",
    "    \"Inspector_orange\",\n",
    "    \"Inspector_purple\",\n",
    "    \"Inspector_yellow\"\n",
    "]\n",
    "others = [\n",
    "    \"pastSerious\",\n",
    "    \"pastCritical\",\n",
    "    \"timeSinceLast\",\n",
    "    \"ageAtInspection\",\n",
    "    \"consumption_on_premises_incidental_activity\",\n",
    "    \"tobacco_retail_over_counter\",\n",
    "    \"temperatureMax\",\n",
    "    \"heat_burglary\",\n",
    "    \"heat_sanitation\",\n",
    "    \"heat_garbage\"\n",
    "]\n",
    "colnames = inspectors + others\n",
    "mm.head()"
   ]
  },
  {
   "cell_type": "markdown",
   "metadata": {},
   "source": [
    "## Create Test/Train Partitions"
   ]
  },
  {
   "cell_type": "code",
   "execution_count": 9,
   "metadata": {
    "collapsed": true
   },
   "outputs": [],
   "source": [
    "# This integer value represents the split date: 2014-07-01\n",
    "SPLIT_DATE = 16252"
   ]
  },
  {
   "cell_type": "code",
   "execution_count": 10,
   "metadata": {},
   "outputs": [
    {
     "data": {
      "text/plain": [
       "(18712, 18712, 18712)"
      ]
     },
     "execution_count": 10,
     "metadata": {},
     "output_type": "execute_result"
    }
   ],
   "source": [
    "# Date range for entries before split date: \"2011-09-02\" to \"2014-04-16\"\n",
    "# Date range for entries after split date: \"2014-09-02\" to \"2014-10-31\"\n",
    "iiTrain = dat[\"Inspection_Date\"] < SPLIT_DATE\n",
    "iiTest = dat[\"Inspection_Date\"] > SPLIT_DATE\n",
    "# Check to see if any rows didn't make it through the model.matrix formula\n",
    "len(dat), len(xmat), len(mm)"
   ]
  },
  {
   "cell_type": "markdown",
   "metadata": {},
   "source": [
    "## Generalized Linear Model (Logistic Regression)"
   ]
  },
  {
   "cell_type": "code",
   "execution_count": 11,
   "metadata": {
    "collapsed": true
   },
   "outputs": [],
   "source": [
    "import statsmodels.api as sm\n",
    "from research.evaluation import evaluate_model, show_roc, show_prc\n",
    "from research.strings import TARGET, PREDICTORS"
   ]
  },
  {
   "cell_type": "code",
   "execution_count": 12,
   "metadata": {
    "collapsed": true
   },
   "outputs": [],
   "source": [
    "# The lambda that minimizes error in cvfit is:\n",
    "BEST_LAMBDA = 0.002970529"
   ]
  },
  {
   "cell_type": "code",
   "execution_count": 13,
   "metadata": {
    "collapsed": true
   },
   "outputs": [],
   "source": [
    "penalties = np.array([1 if \"Inspector\" in col else 0 for col in colnames])"
   ]
  },
  {
   "cell_type": "code",
   "execution_count": 14,
   "metadata": {
    "collapsed": true
   },
   "outputs": [],
   "source": [
    "predictors = colnames\n",
    "X_train = mm[iiTrain][PREDICTORS].values\n",
    "y_train = xmat[iiTrain][TARGET].values\n",
    "X_test = mm[iiTest][PREDICTORS].values\n",
    "y_test = xmat[iiTest][TARGET].values"
   ]
  },
  {
   "cell_type": "code",
   "execution_count": 15,
   "metadata": {
    "collapsed": true
   },
   "outputs": [],
   "source": [
    "from glmnet_python import cvglmnet, cvglmnetPredict, cvglmnetCoef"
   ]
  },
  {
   "cell_type": "code",
   "execution_count": 16,
   "metadata": {},
   "outputs": [
    {
     "name": "stderr",
     "output_type": "stream",
     "text": [
      "/anaconda/lib/python3.6/site-packages/numpy/lib/scimath.py:262: RuntimeWarning: divide by zero encountered in log\n",
      "  return nx.log(x)\n"
     ]
    }
   ],
   "source": [
    "cvfit = cvglmnet(\n",
    "    x=X_train.copy(), y=y_train.copy(),\n",
    "    family=\"binomial\", alpha=0, penalty_factor=penalties, ptype=\"deviance\"\n",
    ")"
   ]
  },
  {
   "cell_type": "code",
   "execution_count": 17,
   "metadata": {},
   "outputs": [
    {
     "name": "stdout",
     "output_type": "stream",
     "text": [
      "The lambda that minimizes error in the R cvfit is: 0.00297\n",
      "The lambda that minimizes error in this cvfit is: 0.00271\n"
     ]
    }
   ],
   "source": [
    "print(\"The lambda that minimizes error in the R cvfit is: {0:.5f}\".format(BEST_LAMBDA))\n",
    "print(\"The lambda that minimizes error in this cvfit is: {0:.5f}\".format(cvfit[\"lambda_min\"][0]))"
   ]
  },
  {
   "cell_type": "code",
   "execution_count": 18,
   "metadata": {},
   "outputs": [
    {
     "data": {
      "text/html": [
       "<div>\n",
       "<style scoped>\n",
       "    .dataframe tbody tr th:only-of-type {\n",
       "        vertical-align: middle;\n",
       "    }\n",
       "\n",
       "    .dataframe tbody tr th {\n",
       "        vertical-align: top;\n",
       "    }\n",
       "\n",
       "    .dataframe thead th {\n",
       "        text-align: right;\n",
       "    }\n",
       "</style>\n",
       "<table border=\"1\" class=\"dataframe\">\n",
       "  <thead>\n",
       "    <tr style=\"text-align: right;\">\n",
       "      <th></th>\n",
       "      <th>0</th>\n",
       "    </tr>\n",
       "  </thead>\n",
       "  <tbody>\n",
       "    <tr>\n",
       "      <th>Intercept</th>\n",
       "      <td>-2.508383</td>\n",
       "    </tr>\n",
       "    <tr>\n",
       "      <th>Inspector_blue</th>\n",
       "      <td>0.944326</td>\n",
       "    </tr>\n",
       "    <tr>\n",
       "      <th>Inspector_brown</th>\n",
       "      <td>-1.287084</td>\n",
       "    </tr>\n",
       "    <tr>\n",
       "      <th>Inspector_green</th>\n",
       "      <td>-0.245173</td>\n",
       "    </tr>\n",
       "    <tr>\n",
       "      <th>Inspector_orange</th>\n",
       "      <td>0.198474</td>\n",
       "    </tr>\n",
       "    <tr>\n",
       "      <th>Inspector_purple</th>\n",
       "      <td>1.547364</td>\n",
       "    </tr>\n",
       "    <tr>\n",
       "      <th>Inspector_yellow</th>\n",
       "      <td>-0.693069</td>\n",
       "    </tr>\n",
       "    <tr>\n",
       "      <th>pastSerious</th>\n",
       "      <td>0.301503</td>\n",
       "    </tr>\n",
       "    <tr>\n",
       "      <th>pastCritical</th>\n",
       "      <td>0.427527</td>\n",
       "    </tr>\n",
       "    <tr>\n",
       "      <th>timeSinceLast</th>\n",
       "      <td>0.097143</td>\n",
       "    </tr>\n",
       "    <tr>\n",
       "      <th>ageAtInspection</th>\n",
       "      <td>-0.164190</td>\n",
       "    </tr>\n",
       "    <tr>\n",
       "      <th>consumption_on_premises_incidental_activity</th>\n",
       "      <td>0.410602</td>\n",
       "    </tr>\n",
       "    <tr>\n",
       "      <th>tobacco_retail_over_counter</th>\n",
       "      <td>0.170623</td>\n",
       "    </tr>\n",
       "    <tr>\n",
       "      <th>temperatureMax</th>\n",
       "      <td>0.004879</td>\n",
       "    </tr>\n",
       "    <tr>\n",
       "      <th>heat_burglary</th>\n",
       "      <td>0.002505</td>\n",
       "    </tr>\n",
       "    <tr>\n",
       "      <th>heat_sanitation</th>\n",
       "      <td>0.001786</td>\n",
       "    </tr>\n",
       "    <tr>\n",
       "      <th>heat_garbage</th>\n",
       "      <td>-0.004110</td>\n",
       "    </tr>\n",
       "  </tbody>\n",
       "</table>\n",
       "</div>"
      ],
      "text/plain": [
       "                                                    0\n",
       "Intercept                                   -2.508383\n",
       "Inspector_blue                               0.944326\n",
       "Inspector_brown                             -1.287084\n",
       "Inspector_green                             -0.245173\n",
       "Inspector_orange                             0.198474\n",
       "Inspector_purple                             1.547364\n",
       "Inspector_yellow                            -0.693069\n",
       "pastSerious                                  0.301503\n",
       "pastCritical                                 0.427527\n",
       "timeSinceLast                                0.097143\n",
       "ageAtInspection                             -0.164190\n",
       "consumption_on_premises_incidental_activity  0.410602\n",
       "tobacco_retail_over_counter                  0.170623\n",
       "temperatureMax                               0.004879\n",
       "heat_burglary                                0.002505\n",
       "heat_sanitation                              0.001786\n",
       "heat_garbage                                -0.004110"
      ]
     },
     "execution_count": 18,
     "metadata": {},
     "output_type": "execute_result"
    }
   ],
   "source": [
    "betas = cvglmnetCoef(cvfit, s=np.array([BEST_LAMBDA]))\n",
    "pd.DataFrame(betas, index=[\"Intercept\"] + PREDICTORS)"
   ]
  },
  {
   "cell_type": "code",
   "execution_count": 19,
   "metadata": {
    "collapsed": true
   },
   "outputs": [],
   "source": [
    "y_pred_train = cvglmnetPredict(cvfit, newx=X_train, s=np.array([BEST_LAMBDA]), ptype=\"class\").ravel()\n",
    "y_pred_test = cvglmnetPredict(cvfit, newx=X_test, s=np.array([BEST_LAMBDA]), ptype=\"class\").ravel()"
   ]
  },
  {
   "cell_type": "code",
   "execution_count": 20,
   "metadata": {},
   "outputs": [
    {
     "name": "stdout",
     "output_type": "stream",
     "text": [
      "F1 Score = 0.02983\n",
      "Precision = 0.46835\n",
      "Recall = 0.01540\n"
     ]
    },
    {
     "data": {
      "text/html": [
       "<div>\n",
       "<style scoped>\n",
       "    .dataframe tbody tr th:only-of-type {\n",
       "        vertical-align: middle;\n",
       "    }\n",
       "\n",
       "    .dataframe tbody tr th {\n",
       "        vertical-align: top;\n",
       "    }\n",
       "\n",
       "    .dataframe thead th {\n",
       "        text-align: right;\n",
       "    }\n",
       "</style>\n",
       "<table border=\"1\" class=\"dataframe\">\n",
       "  <thead>\n",
       "    <tr style=\"text-align: right;\">\n",
       "      <th></th>\n",
       "      <th>Predicted +</th>\n",
       "      <th>Predicted -</th>\n",
       "    </tr>\n",
       "  </thead>\n",
       "  <tbody>\n",
       "    <tr>\n",
       "      <th>Actual +</th>\n",
       "      <td>37</td>\n",
       "      <td>2365</td>\n",
       "    </tr>\n",
       "    <tr>\n",
       "      <th>Actual -</th>\n",
       "      <td>42</td>\n",
       "      <td>14631</td>\n",
       "    </tr>\n",
       "  </tbody>\n",
       "</table>\n",
       "</div>"
      ],
      "text/plain": [
       "          Predicted +  Predicted -\n",
       "Actual +           37         2365\n",
       "Actual -           42        14631"
      ]
     },
     "execution_count": 20,
     "metadata": {},
     "output_type": "execute_result"
    }
   ],
   "source": [
    "evaluate_model(y_train, y_pred_train)"
   ]
  },
  {
   "cell_type": "code",
   "execution_count": 21,
   "metadata": {},
   "outputs": [
    {
     "name": "stdout",
     "output_type": "stream",
     "text": [
      "F1 Score = 0.07971\n",
      "Precision = 0.61111\n",
      "Recall = 0.04264\n"
     ]
    },
    {
     "data": {
      "text/html": [
       "<div>\n",
       "<style scoped>\n",
       "    .dataframe tbody tr th:only-of-type {\n",
       "        vertical-align: middle;\n",
       "    }\n",
       "\n",
       "    .dataframe tbody tr th {\n",
       "        vertical-align: top;\n",
       "    }\n",
       "\n",
       "    .dataframe thead th {\n",
       "        text-align: right;\n",
       "    }\n",
       "</style>\n",
       "<table border=\"1\" class=\"dataframe\">\n",
       "  <thead>\n",
       "    <tr style=\"text-align: right;\">\n",
       "      <th></th>\n",
       "      <th>Predicted +</th>\n",
       "      <th>Predicted -</th>\n",
       "    </tr>\n",
       "  </thead>\n",
       "  <tbody>\n",
       "    <tr>\n",
       "      <th>Actual +</th>\n",
       "      <td>11</td>\n",
       "      <td>247</td>\n",
       "    </tr>\n",
       "    <tr>\n",
       "      <th>Actual -</th>\n",
       "      <td>7</td>\n",
       "      <td>1372</td>\n",
       "    </tr>\n",
       "  </tbody>\n",
       "</table>\n",
       "</div>"
      ],
      "text/plain": [
       "          Predicted +  Predicted -\n",
       "Actual +           11          247\n",
       "Actual -            7         1372"
      ]
     },
     "execution_count": 21,
     "metadata": {},
     "output_type": "execute_result"
    }
   ],
   "source": [
    "evaluate_model(y_test, y_pred_test)"
   ]
  },
  {
   "cell_type": "markdown",
   "metadata": {},
   "source": [
    "## Save Weights in Scikit Learn Model"
   ]
  },
  {
   "cell_type": "code",
   "execution_count": 22,
   "metadata": {},
   "outputs": [
    {
     "name": "stderr",
     "output_type": "stream",
     "text": [
      "/anaconda/lib/python3.6/site-packages/sklearn/linear_model/sag.py:334: ConvergenceWarning: The max_iter was reached which means the coef_ did not converge\n",
      "  \"the coef_ did not converge\", ConvergenceWarning)\n"
     ]
    }
   ],
   "source": [
    "from sklearn.linear_model import LogisticRegression\n",
    "logres = LogisticRegression(solver=\"sag\")\n",
    "logres.fit(X_train, y_train)\n",
    "logres.intercept_ = np.array([betas[0]])\n",
    "logres.coef_ = np.array([betas[1:]])"
   ]
  },
  {
   "cell_type": "code",
   "execution_count": 23,
   "metadata": {},
   "outputs": [
    {
     "name": "stdout",
     "output_type": "stream",
     "text": [
      "F1 Score = 0.02983\n",
      "Precision = 0.46835\n",
      "Recall = 0.01540\n"
     ]
    },
    {
     "data": {
      "text/html": [
       "<div>\n",
       "<style scoped>\n",
       "    .dataframe tbody tr th:only-of-type {\n",
       "        vertical-align: middle;\n",
       "    }\n",
       "\n",
       "    .dataframe tbody tr th {\n",
       "        vertical-align: top;\n",
       "    }\n",
       "\n",
       "    .dataframe thead th {\n",
       "        text-align: right;\n",
       "    }\n",
       "</style>\n",
       "<table border=\"1\" class=\"dataframe\">\n",
       "  <thead>\n",
       "    <tr style=\"text-align: right;\">\n",
       "      <th></th>\n",
       "      <th>Predicted +</th>\n",
       "      <th>Predicted -</th>\n",
       "    </tr>\n",
       "  </thead>\n",
       "  <tbody>\n",
       "    <tr>\n",
       "      <th>Actual +</th>\n",
       "      <td>37</td>\n",
       "      <td>2365</td>\n",
       "    </tr>\n",
       "    <tr>\n",
       "      <th>Actual -</th>\n",
       "      <td>42</td>\n",
       "      <td>14631</td>\n",
       "    </tr>\n",
       "  </tbody>\n",
       "</table>\n",
       "</div>"
      ],
      "text/plain": [
       "          Predicted +  Predicted -\n",
       "Actual +           37         2365\n",
       "Actual -           42        14631"
      ]
     },
     "execution_count": 23,
     "metadata": {},
     "output_type": "execute_result"
    }
   ],
   "source": [
    "evaluate_model(y_train, logres.predict(X_train))"
   ]
  },
  {
   "cell_type": "code",
   "execution_count": 24,
   "metadata": {},
   "outputs": [
    {
     "name": "stdout",
     "output_type": "stream",
     "text": [
      "F1 Score = 0.07971\n",
      "Precision = 0.61111\n",
      "Recall = 0.04264\n"
     ]
    },
    {
     "data": {
      "text/html": [
       "<div>\n",
       "<style scoped>\n",
       "    .dataframe tbody tr th:only-of-type {\n",
       "        vertical-align: middle;\n",
       "    }\n",
       "\n",
       "    .dataframe tbody tr th {\n",
       "        vertical-align: top;\n",
       "    }\n",
       "\n",
       "    .dataframe thead th {\n",
       "        text-align: right;\n",
       "    }\n",
       "</style>\n",
       "<table border=\"1\" class=\"dataframe\">\n",
       "  <thead>\n",
       "    <tr style=\"text-align: right;\">\n",
       "      <th></th>\n",
       "      <th>Predicted +</th>\n",
       "      <th>Predicted -</th>\n",
       "    </tr>\n",
       "  </thead>\n",
       "  <tbody>\n",
       "    <tr>\n",
       "      <th>Actual +</th>\n",
       "      <td>11</td>\n",
       "      <td>247</td>\n",
       "    </tr>\n",
       "    <tr>\n",
       "      <th>Actual -</th>\n",
       "      <td>7</td>\n",
       "      <td>1372</td>\n",
       "    </tr>\n",
       "  </tbody>\n",
       "</table>\n",
       "</div>"
      ],
      "text/plain": [
       "          Predicted +  Predicted -\n",
       "Actual +           11          247\n",
       "Actual -            7         1372"
      ]
     },
     "execution_count": 24,
     "metadata": {},
     "output_type": "execute_result"
    }
   ],
   "source": [
    "evaluate_model(y_test, logres.predict(X_test))"
   ]
  },
  {
   "cell_type": "code",
   "execution_count": 25,
   "metadata": {},
   "outputs": [
    {
     "name": "stdout",
     "output_type": "stream",
     "text": [
      "Saved model to: models/sklearn-glm.pkl\n"
     ]
    }
   ],
   "source": [
    "import pickle\n",
    "model_filename = \"models/sklearn-glm.pkl\"\n",
    "pickle.dump(logres, open(model_filename, \"wb\"))\n",
    "print(\"Saved model to: {}\".format(model_filename))"
   ]
  },
  {
   "cell_type": "code",
   "execution_count": 26,
   "metadata": {},
   "outputs": [
    {
     "name": "stdout",
     "output_type": "stream",
     "text": [
      "AUPRC = 0.317\n",
      "Best F1 = 0.388 at threshold = 0.182\n"
     ]
    },
    {
     "data": {
      "image/png": "[encoded data removed]",
      "text/plain": [
       "<Figure size 432x288 with 1 Axes>"
      ]
     },
     "metadata": {},
     "output_type": "display_data"
    },
    {
     "name": "stdout",
     "output_type": "stream",
     "text": [
      "AUROC = 0.736\n"
     ]
    },
    {
     "data": {
      "image/png": "[encoded data removed]",
      "text/plain": [
       "<Figure size 432x288 with 1 Axes>"
      ]
     },
     "metadata": {},
     "output_type": "display_data"
    }
   ],
   "source": [
    "show_prc(logres, X_train, y_train)\n",
    "show_roc(logres, X_train, y_train)"
   ]
  },
  {
   "cell_type": "code",
   "execution_count": 27,
   "metadata": {},
   "outputs": [
    {
     "name": "stdout",
     "output_type": "stream",
     "text": [
      "AUPRC = 0.317\n",
      "Best F1 = 0.346 at threshold = 0.281\n"
     ]
    },
    {
     "data": {
      "image/png": "[encoded data removed]",
      "text/plain": [
       "<Figure size 432x288 with 1 Axes>"
      ]
     },
     "metadata": {},
     "output_type": "display_data"
    },
    {
     "name": "stdout",
     "output_type": "stream",
     "text": [
      "AUROC = 0.672\n"
     ]
    },
    {
     "data": {
      "image/png": "[encoded data removed]",
      "text/plain": [
       "<Figure size 432x288 with 1 Axes>"
      ]
     },
     "metadata": {},
     "output_type": "display_data"
    }
   ],
   "source": [
    "show_prc(logres, X_test, y_test)\n",
    "show_roc(logres, X_test, y_test)"
   ]
  },
  {
   "cell_type": "markdown",
   "metadata": {},
   "source": [
    "## Compare to Random Forest Classifier"
   ]
  },
  {
   "cell_type": "code",
   "execution_count": 28,
   "metadata": {},
   "outputs": [
    {
     "name": "stdout",
     "output_type": "stream",
     "text": [
      "F1 Score = 0.08638\n",
      "Precision = 0.30233\n",
      "Recall = 0.05039\n",
      "AUPRC = 0.265\n",
      "Best F1 = 0.356 at threshold = 0.258\n"
     ]
    },
    {
     "data": {
      "image/png": "[encoded data removed]",
      "text/plain": [
       "<Figure size 432x288 with 1 Axes>"
      ]
     },
     "metadata": {},
     "output_type": "display_data"
    },
    {
     "name": "stdout",
     "output_type": "stream",
     "text": [
      "AUROC = 0.662\n"
     ]
    },
    {
     "data": {
      "image/png": "[encoded data removed]",
      "text/plain": [
       "<Figure size 432x288 with 1 Axes>"
      ]
     },
     "metadata": {},
     "output_type": "display_data"
    }
   ],
   "source": [
    "from sklearn.ensemble import RandomForestClassifier\n",
    "tree = RandomForestClassifier(n_estimators=100)\n",
    "tree.fit(X_train, y_train)\n",
    "evaluate_model(y_test, tree.predict(X_test))\n",
    "show_prc(tree, X_test, y_test)\n",
    "show_roc(tree, X_test, y_test)"
   ]
  },
  {
   "cell_type": "code",
   "execution_count": null,
   "metadata": {
    "collapsed": true
   },
   "outputs": [],
   "source": []
  }
 ],
 "metadata": {
  "kernelspec": {
   "display_name": "Python 3",
   "language": "python",
   "name": "python3"
  },
  "language_info": {
   "codemirror_mode": {
    "name": "ipython",
    "version": 3
   },
   "file_extension": ".py",
   "mimetype": "text/x-python",
   "name": "python",
   "nbconvert_exporter": "python",
   "pygments_lexer": "ipython3",
   "version": "3.6.1"
  },
  "varInspector": {
   "cols": {
    "lenName": 16,
    "lenType": 16,
    "lenVar": 40
   },
   "kernels_config": {
    "python": {
     "delete_cmd_postfix": "",
     "delete_cmd_prefix": "del ",
     "library": "var_list.py",
     "varRefreshCmd": "print(var_dic_list())"
    },
    "r": {
     "delete_cmd_postfix": ") ",
     "delete_cmd_prefix": "rm(",
     "library": "var_list.r",
     "varRefreshCmd": "cat(var_dic_list()) "
    }
   },
   "types_to_exclude": [
    "module",
    "function",
    "builtin_function_or_method",
    "instance",
    "_Feature"
   ],
   "window_display": false
  }
 },
 "nbformat": 4,
 "nbformat_minor": 2
}
